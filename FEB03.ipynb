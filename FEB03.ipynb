{
  "nbformat": 4,
  "nbformat_minor": 0,
  "metadata": {
    "colab": {
      "name": "FEB03.ipynb",
      "provenance": [],
      "authorship_tag": "ABX9TyPI3/vCrB6TmUPvg8qSWTpo",
      "include_colab_link": true
    },
    "kernelspec": {
      "name": "python3",
      "display_name": "Python 3"
    },
    "language_info": {
      "name": "python"
    }
  },
  "cells": [
    {
      "cell_type": "markdown",
      "metadata": {
        "id": "view-in-github",
        "colab_type": "text"
      },
      "source": [
        "<a href=\"https://colab.research.google.com/github/Doremon7/Python/blob/main/FEB03.ipynb\" target=\"_parent\"><img src=\"https://colab.research.google.com/assets/colab-badge.svg\" alt=\"Open In Colab\"/></a>"
      ]
    },
    {
      "cell_type": "code",
      "execution_count": null,
      "metadata": {
        "colab": {
          "base_uri": "https://localhost:8080/"
        },
        "id": "khaguTm8SDjP",
        "outputId": "77518e4d-30f9-4d23-eea7-56c98b1d7d26"
      },
      "outputs": [
        {
          "output_type": "stream",
          "name": "stdout",
          "text": [
            "Enter your first number :9\n",
            "Enter your Second number :8\n",
            "Your first number after swapping is: 8\n",
            "Your Second number after swapping is: 9\n"
          ]
        }
      ],
      "source": [
        "# Q- Write a program to swap a 2 numbers\n",
        "# Using 3rd Variable\n",
        "\n",
        "n1 = int(input('Enter your first number :'))\n",
        "n2 = int(input('Enter your Second number :'))\n",
        "\n",
        "temp = n1\n",
        "n1=n2\n",
        "n2=temp\n",
        "\n",
        "print ('Your first number after swapping is:', n1)\n",
        "print ('Your Second number after swapping is:', n2)\n",
        "\n",
        "\n"
      ]
    },
    {
      "cell_type": "code",
      "source": [
        "#without using 3rd variable \n",
        "\n",
        "n1 = int(input('Enter your first number :'))  #85\n",
        "n2 = int(input('Enter your Second number :'))  #96\n",
        "\n",
        "n1=n1+n2  # n1=85+96=  181\n",
        "n2=n1-n2  # n2= 181-96 = 85\n",
        "n1=n1-n2  # n1= 181-85 = 96 \n",
        "\n",
        "print ('Your first number after swapping is:', n1)\n",
        "print ('Your Second number after swapping is:', n2)\n",
        "\n",
        "\n",
        "\n"
      ],
      "metadata": {
        "colab": {
          "base_uri": "https://localhost:8080/"
        },
        "id": "AMEGt0JyTRDs",
        "outputId": "5c468cad-a82c-4b7c-b87b-c6660a8ad36b"
      },
      "execution_count": null,
      "outputs": [
        {
          "output_type": "stream",
          "name": "stdout",
          "text": [
            "Enter your first number :85\n",
            "Enter your Second number :96\n",
            "Your first number after swapping is: 96\n",
            "Your Second number after swapping is: 85\n"
          ]
        }
      ]
    },
    {
      "cell_type": "code",
      "source": [
        "# Swapping a number using inline method or PARLLEL ASSIGNMENT\n",
        "\n",
        "n1 = int(input('Enter your first number :'))  #85\n",
        "n2 = int(input('Enter your Second number :'))  #96\n",
        "\n",
        "n1,n2 = n2,n1\n",
        "\n",
        "print ('Your first number after swapping is:', n1)\n",
        "print ('Your Second number after swapping is:', n2)\n",
        "\n"
      ],
      "metadata": {
        "colab": {
          "base_uri": "https://localhost:8080/"
        },
        "id": "M25-dKI3VXsa",
        "outputId": "bbd5c324-49e9-46bf-cca8-09ad1c808aa9"
      },
      "execution_count": null,
      "outputs": [
        {
          "output_type": "stream",
          "name": "stdout",
          "text": [
            "Enter your first number :85\n",
            "Enter your Second number :96\n",
            "Your first number after swapping is: 96\n",
            "Your Second number after swapping is: 85\n"
          ]
        }
      ]
    },
    {
      "cell_type": "code",
      "source": [
        "#without using 3rd variable \n",
        "\n",
        "n1 = int(input('Enter your first number :'))  #5\n",
        "n2 = int(input('Enter your Second number :'))  #6\n",
        "\n",
        "n1=n1*n2  # n1=5*6=  30\n",
        "n2=n1//n2  # n2= 30//6 = 5\n",
        "n1=n1//n2  # n1= 30//5 = 6 \n",
        "\n",
        "print ('Your first number after swapping is:', n1)\n",
        "print ('Your Second number after swapping is:', n2)\n",
        "\n",
        "\n",
        "\n"
      ],
      "metadata": {
        "colab": {
          "base_uri": "https://localhost:8080/"
        },
        "id": "S0GmnUblV2Q6",
        "outputId": "75946022-2d30-44e4-b237-f5b12ac72878"
      },
      "execution_count": null,
      "outputs": [
        {
          "output_type": "stream",
          "name": "stdout",
          "text": [
            "Enter your first number :5\n",
            "Enter your Second number :6\n",
            "Your first number after swapping is: 6\n",
            "Your Second number after swapping is: 5\n"
          ]
        }
      ]
    },
    {
      "cell_type": "code",
      "source": [
        "# Write a program to accept a number from user and then find the fifth power of the number.\n",
        "\n",
        "n1 = int(input('Enter your number :'))  \n",
        "\n",
        "pow=n1**5\n",
        "\n",
        "print ('Your fifth power is :', pow)\n",
        "\n"
      ],
      "metadata": {
        "colab": {
          "base_uri": "https://localhost:8080/"
        },
        "id": "NC9pnMlIWtyy",
        "outputId": "b8a11f77-7126-4b1e-ab5f-0733f3704030"
      },
      "execution_count": null,
      "outputs": [
        {
          "output_type": "stream",
          "name": "stdout",
          "text": [
            "Enter your number :2\n",
            "Your fifth power is : 32\n"
          ]
        }
      ]
    },
    {
      "cell_type": "code",
      "source": [
        "# Write a program to accept a number from user and then find the nth power of the number.\n",
        "\n",
        "n1 = int(input('Enter your number :'))  \n",
        "n2 = int(input('Enter your Power :'))  \n",
        "\n",
        "pow=n1**n2\n",
        "\n",
        "print ('Your power is :', pow)\n",
        "\n"
      ],
      "metadata": {
        "colab": {
          "base_uri": "https://localhost:8080/"
        },
        "id": "6Ge5OFYhYnNG",
        "outputId": "ee399ec0-8256-46f7-d978-465ec76d082d"
      },
      "execution_count": null,
      "outputs": [
        {
          "output_type": "stream",
          "name": "stdout",
          "text": [
            "Enter your number :2\n",
            "Enter your Power :5\n",
            "Your power is : 32\n"
          ]
        }
      ]
    },
    {
      "cell_type": "code",
      "source": [
        "# Write a program to find the area of circle\n",
        "\n",
        "rad=int(input('Enter the Radius of Circle:'))\n",
        "\n",
        "area= 3.14*rad*rad\n",
        "\n",
        "print('Area of cicle is :',area)\n"
      ],
      "metadata": {
        "colab": {
          "base_uri": "https://localhost:8080/"
        },
        "id": "pS8-FkbcZR01",
        "outputId": "77e599b5-2740-47fa-8f2c-76918058d333"
      },
      "execution_count": null,
      "outputs": [
        {
          "output_type": "stream",
          "name": "stdout",
          "text": [
            "Enter the Radius of Circle:5\n",
            "Area of cicle is : 78.5\n"
          ]
        }
      ]
    },
    {
      "cell_type": "code",
      "source": [
        "\"\"\"\n",
        "         Types of Operators in Python are as follows \n",
        "         1. Arithmetic Operator\n",
        "             +,-,*,/,//(Floor Division),%(Modulus),**(Exponent)\n",
        "         2. Relational Conditional Operators\n",
        "             These operators are used to create condition for conditional programming\n",
        "             <,>, >=, <=, ==, !=\n",
        "         3. Logical Operator:\n",
        "              It is used check 2 or more conditions at a time.\n",
        "          AND: It check all the conditions are true then true otherwise false.\n",
        "          OR : It checks atleast one conditions must be true then true otherwise false.\n",
        "          NOT: It works vice-versa (True condition becomes False) (False condition becomes True)\n",
        "\"\"\""
      ],
      "metadata": {
        "id": "UF_pFHbta-5b"
      },
      "execution_count": null,
      "outputs": []
    },
    {
      "cell_type": "code",
      "source": [
        "#Conditional Statement\n",
        "\n",
        "\"\"\"\n",
        "  1. if statement:\n",
        "         if statement used to create block of code which we want excecute if condition is true.\n",
        "         SYNTAX:\n",
        "             if condition\n",
        "             <tab>Statment\n",
        "\n",
        "  2. if......else statement:\n",
        "         SYNTAX:\n",
        "            if condition:\n",
        "            <tab>Statement to be execute if condition is true \n",
        "            else:\n",
        "            <tab>Statement to be execute if condition is false \n",
        "\n",
        "\n",
        "\"\"\"\n",
        "#Write a program to print a given number is even or odd number\n",
        "\n",
        "n=int(input('Enter a number:'))\n",
        "if n%2==0:\n",
        "  print('Number is Even ')\n",
        "else:\n",
        "  print('Number is ODD')\n",
        "print('GoodBye...')"
      ],
      "metadata": {
        "colab": {
          "base_uri": "https://localhost:8080/"
        },
        "id": "7hsEFs8_iPTF",
        "outputId": "2da9b8dd-12ec-4a0f-bab3-5315908c0b07"
      },
      "execution_count": null,
      "outputs": [
        {
          "output_type": "stream",
          "name": "stdout",
          "text": [
            "Enter a number:8\n",
            "Number is Even \n",
            "GoodBye...\n"
          ]
        }
      ]
    },
    {
      "cell_type": "code",
      "source": [
        "#WAP to accept the age from user and then check user is major or minor\n",
        "\n",
        "age=int(input('Enter Your Age:'))\n",
        "if age>17:\n",
        "  print('Candidate is MAJOR')\n",
        "else:\n",
        "  print('Candidate is MINOR')\n"
      ],
      "metadata": {
        "colab": {
          "base_uri": "https://localhost:8080/"
        },
        "id": "1cLmlOIzmNkP",
        "outputId": "843f15d0-a434-4637-97b1-bd8f74267945"
      },
      "execution_count": null,
      "outputs": [
        {
          "output_type": "stream",
          "name": "stdout",
          "text": [
            "Enter Your Age:35\n",
            "Candidate is MAJOR\n"
          ]
        }
      ]
    },
    {
      "cell_type": "code",
      "source": [
        "#WAP to print highest of 2 numbers\n",
        "\n",
        "n1 = int(input('Enter your first number :')) \n",
        "n2 = int(input('Enter your Second number :'))  \n",
        "\n",
        "if n1==n2:\n",
        "  print('Both number are Equal')\n",
        "elif n1>n2:\n",
        "  print('Your first number is highest')\n",
        "else:\n",
        "  print('Your second number is highest')"
      ],
      "metadata": {
        "colab": {
          "base_uri": "https://localhost:8080/"
        },
        "id": "tP4Dm4_NnBjO",
        "outputId": "77c7f0a9-e3b0-45cd-bbfc-5d2e981f0289"
      },
      "execution_count": null,
      "outputs": [
        {
          "output_type": "stream",
          "name": "stdout",
          "text": [
            "Enter your first number :77777\n",
            "Enter your Second number :777789\n",
            "Your second number is highest\n"
          ]
        }
      ]
    },
    {
      "cell_type": "code",
      "source": [
        "#WAP to check candidate is eligible for a job or not as per followong conditions: \n",
        "# 1- Education must be B.E.\n",
        "# 2- Age must be Greater than 25\n",
        "\n",
        "edu=str(input('Enter Your Highest Qualification: '))\n",
        "if edu=='BE':\n",
        "  age=int(input('Enter Your age'))\n",
        "  if age>24:\n",
        "    print('You are Eligible for Job')\n",
        "  else:\n",
        "    print('Sorry!!!!!!! You are Not Eligible for this Job') \n",
        "else:\n",
        "  print('Sorry!!!!!!! You are Not Eligible for this Job') \n",
        "\n"
      ],
      "metadata": {
        "colab": {
          "base_uri": "https://localhost:8080/"
        },
        "id": "WoYMftSOoMft",
        "outputId": "478493ce-cabd-4d09-a4ef-4a8f7aba3a00"
      },
      "execution_count": null,
      "outputs": [
        {
          "output_type": "stream",
          "name": "stdout",
          "text": [
            "Enter Your Highest Qualification: BE\n",
            "Enter Your age21\n",
            "Sorry!!!!!!! You are Not Eligible for this Job\n"
          ]
        }
      ]
    }
  ]
}