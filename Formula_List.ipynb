{
  "nbformat": 4,
  "nbformat_minor": 0,
  "metadata": {
    "colab": {
      "name": "Formula_List.ipynb",
      "provenance": [],
      "authorship_tag": "ABX9TyMDRFRtfqK11FWkXBJ2FxcO",
      "include_colab_link": true
    },
    "kernelspec": {
      "name": "python3",
      "display_name": "Python 3"
    },
    "language_info": {
      "name": "python"
    }
  },
  "cells": [
    {
      "cell_type": "markdown",
      "metadata": {
        "id": "view-in-github",
        "colab_type": "text"
      },
      "source": [
        "<a href=\"https://colab.research.google.com/github/mahtoamit/Python/blob/main/Formula_List.ipynb\" target=\"_parent\"><img src=\"https://colab.research.google.com/assets/colab-badge.svg\" alt=\"Open In Colab\"/></a>"
      ]
    },
    {
      "cell_type": "markdown",
      "source": [
        " Even Number"
      ],
      "metadata": {
        "id": "J-SoCu06e4pr"
      }
    },
    {
      "cell_type": "code",
      "execution_count": null,
      "metadata": {
        "id": "NbuQNBfeey-Z"
      },
      "outputs": [],
      "source": [
        "n%2==0"
      ]
    },
    {
      "cell_type": "markdown",
      "source": [
        "Odd Number"
      ],
      "metadata": {
        "id": "y-HWuLTQfSEL"
      }
    },
    {
      "cell_type": "code",
      "source": [
        "n%2!=0    or  n%2==1"
      ],
      "metadata": {
        "id": "FDmHTI_5fVEq"
      },
      "execution_count": null,
      "outputs": []
    },
    {
      "cell_type": "markdown",
      "source": [
        "Factorial Number"
      ],
      "metadata": {
        "id": "0Fo2nawOf-Fk"
      }
    },
    {
      "cell_type": "code",
      "source": [
        "'''\n",
        "-->The factorial of a number is the product of all the integers from 1 to that number.\n",
        "-->For example, the factorial of 6 is 1*2*3*4*5*6 = 720.\n",
        "'''\n",
        "def fact(n):\n",
        "    if n == 0:\n",
        "        return 1\n",
        "    else:\n",
        "        return n * fact(n-1)\n",
        "n=int(input(\"Input a number to compute the factiorial : \"))\n",
        "print(fact(n))"
      ],
      "metadata": {
        "id": "eQNDoTBSgClO"
      },
      "execution_count": null,
      "outputs": []
    },
    {
      "cell_type": "markdown",
      "source": [
        "Simple Interest"
      ],
      "metadata": {
        "id": "dGRVeI7whhuV"
      }
    },
    {
      "cell_type": "code",
      "source": [
        "'''\n",
        "-->The formula used is Simple_interest = (principal*rate*time)/100\n",
        "'''"
      ],
      "metadata": {
        "id": "i-GzzgG7iHxF"
      },
      "execution_count": null,
      "outputs": []
    },
    {
      "cell_type": "code",
      "source": [
        ""
      ],
      "metadata": {
        "id": "v2fiduTcs14N"
      },
      "execution_count": null,
      "outputs": []
    },
    {
      "cell_type": "code",
      "source": [
        ""
      ],
      "metadata": {
        "id": "rDpgBDlJs1r1"
      },
      "execution_count": null,
      "outputs": []
    },
    {
      "cell_type": "markdown",
      "source": [
        "Compound Interest"
      ],
      "metadata": {
        "id": "VYiDuGkHiZq6"
      }
    },
    {
      "cell_type": "code",
      "source": [
        "'''\n",
        "-->Compound_interest = principal * ((1+rate/100)**time – 1)\n",
        "'''"
      ],
      "metadata": {
        "id": "tL1Sdecnic78"
      },
      "execution_count": null,
      "outputs": []
    },
    {
      "cell_type": "markdown",
      "source": [
        "Armstrong Number"
      ],
      "metadata": {
        "id": "n7bPvb18ikUs"
      }
    },
    {
      "cell_type": "code",
      "source": [
        "'''\n",
        "-->Armstrong number is a number that is equal to the sum of cubes of its digits. For example 0, 1, 153, 370, 371 and 407 are the Armstrong numbers.\n",
        "'''\n",
        "num=int(input('enter number:'))\n",
        "sum = 0\n",
        "# find the sum of the cube of each digit\n",
        "temp = num\n",
        "while temp > 0:\n",
        "   digit = temp % 10\n",
        "   sum += digit ** 3\n",
        "   temp = temp // 10\n",
        "\n",
        "# display the result\n",
        "if num == sum:\n",
        "   print(num,\"is an Armstrong number\")"
      ],
      "metadata": {
        "id": "2WH-u_lYim--"
      },
      "execution_count": null,
      "outputs": []
    },
    {
      "cell_type": "code",
      "source": [
        ""
      ],
      "metadata": {
        "id": "N1bUtyQdtAcC"
      },
      "execution_count": null,
      "outputs": []
    },
    {
      "cell_type": "code",
      "source": [
        ""
      ],
      "metadata": {
        "id": "TRIbJ-dqtJ0J"
      },
      "execution_count": null,
      "outputs": []
    },
    {
      "cell_type": "code",
      "source": [
        ""
      ],
      "metadata": {
        "id": "66STMOtStJiQ"
      },
      "execution_count": null,
      "outputs": []
    },
    {
      "cell_type": "code",
      "source": [
        ""
      ],
      "metadata": {
        "id": "g4AHgbl0tAZa"
      },
      "execution_count": null,
      "outputs": []
    },
    {
      "cell_type": "markdown",
      "source": [
        "Prime Number"
      ],
      "metadata": {
        "id": "Ed58fE3Wj4WO"
      }
    },
    {
      "cell_type": "code",
      "source": [
        "'''\n",
        "--> A positive integer greater than 1 which has no other factors except 1 and the number itself is called a prime number. 2, 3, 5, 7 etc. are prime numbers as they do not have any other factors.\n",
        "'''\n",
        "num=int(input('enter number:'))\n",
        "if num > 1:\n",
        "   # check for factors\n",
        "   for i in range(2,num):\n",
        "       if (num % i) == 0:\n",
        "           print(num,\"is not a prime number\")\n",
        "           print(i,\"times\",num//i,\"is\",num)\n",
        "           break\n",
        "   else:\n",
        "       print(num,\"is a prime number\")\n",
        "       \n",
        "# if input number is less than\n",
        "# or equal to 1, it is not prime\n",
        "else:\n",
        "   print(num,\"is not a prime number\")"
      ],
      "metadata": {
        "id": "hnWanTn8j8YI"
      },
      "execution_count": null,
      "outputs": []
    },
    {
      "cell_type": "code",
      "source": [
        ""
      ],
      "metadata": {
        "id": "Ymc7Wb-XtLj_"
      },
      "execution_count": null,
      "outputs": []
    },
    {
      "cell_type": "code",
      "source": [
        ""
      ],
      "metadata": {
        "id": "bb6DHS3stLhp"
      },
      "execution_count": null,
      "outputs": []
    },
    {
      "cell_type": "code",
      "source": [
        ""
      ],
      "metadata": {
        "id": "TIDxBMZPtLdA"
      },
      "execution_count": null,
      "outputs": []
    },
    {
      "cell_type": "code",
      "source": [
        ""
      ],
      "metadata": {
        "id": "ZFdWpu2FtLbB"
      },
      "execution_count": null,
      "outputs": []
    },
    {
      "cell_type": "code",
      "source": [
        ""
      ],
      "metadata": {
        "id": "gTGhP8cZtLWD"
      },
      "execution_count": null,
      "outputs": []
    },
    {
      "cell_type": "code",
      "source": [
        ""
      ],
      "metadata": {
        "id": "osSr7P9stLTz"
      },
      "execution_count": null,
      "outputs": []
    },
    {
      "cell_type": "markdown",
      "source": [
        "Fibonacci Number"
      ],
      "metadata": {
        "id": "UNCJH_MClbs0"
      }
    },
    {
      "cell_type": "code",
      "source": [
        "'''\n",
        "-->Fibonacci sequence specifies a series of numbers where the next number is found by adding up the two numbers just before it.\n",
        "'''\n",
        "\n",
        "def fibonacci(n):\n",
        "    a = 0\n",
        "    b = 1\n",
        "    if n < 0:\n",
        "        print(\"Incorrect input\")\n",
        "    elif n == 0:\n",
        "        return a\n",
        "    elif n == 1:\n",
        "        return b\n",
        "    else:\n",
        "        for i in range(2, n):\n",
        "            c = a + b\n",
        "            a = b\n",
        "            b = c\n",
        "        return b\n",
        " \n",
        "# Driver Program\n",
        " \n",
        "print(fibonacci(9))"
      ],
      "metadata": {
        "id": "eXq4aiT_lgvl"
      },
      "execution_count": null,
      "outputs": []
    },
    {
      "cell_type": "code",
      "source": [
        ""
      ],
      "metadata": {
        "id": "0im40N_otShY"
      },
      "execution_count": null,
      "outputs": []
    },
    {
      "cell_type": "code",
      "source": [
        ""
      ],
      "metadata": {
        "id": "ux-eskSrtSLm"
      },
      "execution_count": null,
      "outputs": []
    },
    {
      "cell_type": "code",
      "source": [
        ""
      ],
      "metadata": {
        "id": "wifV_ql7tSHT"
      },
      "execution_count": null,
      "outputs": []
    },
    {
      "cell_type": "code",
      "source": [
        ""
      ],
      "metadata": {
        "id": "mFLaw6Z0tSE7"
      },
      "execution_count": null,
      "outputs": []
    },
    {
      "cell_type": "markdown",
      "source": [
        "Natural Number"
      ],
      "metadata": {
        "id": "AT2YZ6-ql7-y"
      }
    },
    {
      "cell_type": "code",
      "source": [
        "'''\n",
        "-->As the name specifies, a natural number is the number that occurs commonly and obviously in the nature. It is a whole, non-negative number.\n",
        "'''\n",
        "\n",
        "\n",
        "# Sum of natural numbers up to num\n",
        "\n",
        "num = 16\n",
        "\n",
        "if num < 0:\n",
        "   print(\"Enter a positive number\")\n",
        "else:\n",
        "   sum = 0\n",
        "   # use while loop to iterate until zero\n",
        "   while(num > 0):\n",
        "       sum += num\n",
        "       num -= 1\n",
        "   print(\"The sum is\", sum)"
      ],
      "metadata": {
        "id": "4l4-8NvHl_O3"
      },
      "execution_count": null,
      "outputs": []
    },
    {
      "cell_type": "markdown",
      "source": [
        "Perfect Number"
      ],
      "metadata": {
        "id": "zu05R2kKmbZ0"
      }
    },
    {
      "cell_type": "code",
      "source": [
        "'''\n",
        "--> A perfect number is a number in which the sum of the divisors of a number is equal to the number.\n",
        "'''\n",
        "\n",
        "    def perfect_number(n):\n",
        "    sum = 0\n",
        "    for x in range(1, n):\n",
        "        if n % x == 0:\n",
        "            sum += x\n",
        "    return sum == n\n",
        "print(perfect_number(6))"
      ],
      "metadata": {
        "id": "4XpEr9mwmevi"
      },
      "execution_count": null,
      "outputs": []
    },
    {
      "cell_type": "markdown",
      "source": [
        "Palindrome String"
      ],
      "metadata": {
        "id": "D38H4hUCnMtp"
      }
    },
    {
      "cell_type": "code",
      "source": [
        "'''\n",
        "--> A palindrome is a number or letter that remains the same even if the number and letters are inverted.\n",
        "--> For example:\n",
        "--> 121, 11, 414, 1221, 74747 are the palindrome numbers.\n",
        "--> MOM, DAD, MADAM, REFER are the palindrome letters.\n",
        "--> JAVATPOINT, PROGRAM, JAVA are not the palindrome letters.\n",
        "'''\n",
        "\n",
        "\n",
        "string=input((\"Enter a letter:\"))  \n",
        "if(string==string[::-1]):  \n",
        "      print(\"The letter is a palindrome\")  \n",
        "else:  \n",
        "      print(\"The letter is not a palindrome\")  \n"
      ],
      "metadata": {
        "id": "eE-JFVuBnQeh"
      },
      "execution_count": null,
      "outputs": []
    },
    {
      "cell_type": "markdown",
      "source": [
        "Palindrome Number"
      ],
      "metadata": {
        "id": "tvgUBHReob5L"
      }
    },
    {
      "cell_type": "code",
      "source": [
        "num = int(input(\"Enter a value:\"))  \n",
        "temp = num  \n",
        "rev = 0  \n",
        "while(num > 0):  \n",
        "    dig = num % 10  \n",
        "    revrev = rev * 10 + dig  \n",
        "    numnum = num // 10  \n",
        "if(temp == rev):  \n",
        "    print(\"This value is a palindrome number!\")  "
      ],
      "metadata": {
        "id": "uOXFnY__oefI"
      },
      "execution_count": null,
      "outputs": []
    },
    {
      "cell_type": "code",
      "source": [
        ""
      ],
      "metadata": {
        "id": "I_FIamFXtZzq"
      },
      "execution_count": null,
      "outputs": []
    },
    {
      "cell_type": "code",
      "source": [
        ""
      ],
      "metadata": {
        "id": "mzSA6sertZOG"
      },
      "execution_count": null,
      "outputs": []
    },
    {
      "cell_type": "code",
      "source": [
        ""
      ],
      "metadata": {
        "id": "KCpfBFQttZDi"
      },
      "execution_count": null,
      "outputs": []
    },
    {
      "cell_type": "markdown",
      "source": [
        "Swap number"
      ],
      "metadata": {
        "id": "puzJe8EKoOLw"
      }
    },
    {
      "cell_type": "code",
      "source": [
        "#with using 3rd var\n",
        "\n",
        "n=n1\n",
        "n1=n2\n",
        "n2=n\n",
        "\n",
        "#without using 3rd variable\n",
        "\n",
        "n1=n1+n2\n",
        "n2=n1-n2\n",
        "n1=n1-n2\n",
        "\n",
        "#without any variable\n",
        "\n",
        "n1,n2=n2,n1\n"
      ],
      "metadata": {
        "id": "bbDL_j9GogDu"
      },
      "execution_count": null,
      "outputs": []
    },
    {
      "cell_type": "code",
      "source": [
        ""
      ],
      "metadata": {
        "id": "T3qEWouctjTV"
      },
      "execution_count": null,
      "outputs": []
    },
    {
      "cell_type": "code",
      "source": [
        ""
      ],
      "metadata": {
        "id": "Ymw8c-O4tjB2"
      },
      "execution_count": null,
      "outputs": []
    },
    {
      "cell_type": "code",
      "source": [
        ""
      ],
      "metadata": {
        "id": "B8HHFFXctivJ"
      },
      "execution_count": null,
      "outputs": []
    },
    {
      "cell_type": "code",
      "source": [
        ""
      ],
      "metadata": {
        "id": "7qFmAN6wtitN"
      },
      "execution_count": null,
      "outputs": []
    },
    {
      "cell_type": "code",
      "source": [
        ""
      ],
      "metadata": {
        "id": "RFrYjRkptioG"
      },
      "execution_count": null,
      "outputs": []
    },
    {
      "cell_type": "code",
      "source": [
        ""
      ],
      "metadata": {
        "id": "4NdTyR7stimI"
      },
      "execution_count": null,
      "outputs": []
    },
    {
      "cell_type": "markdown",
      "source": [
        "Neon Number"
      ],
      "metadata": {
        "id": "cbxs1vRDo_c0"
      }
    },
    {
      "cell_type": "code",
      "source": [
        "'''\n",
        "--> Neon Number is a number whose sum of digits of its square is equal to the original number.\n",
        "'''\n",
        "\n",
        "n = int(input('Enter the Number to Check Neon Number : '))\n",
        "sum = 0\n",
        "\n",
        "sq=n**2\n",
        "print('Square of a Given Digit : ' , sq)\n",
        "\n",
        "while sq > 0:\n",
        "    rem = sq % 10\n",
        "    sum = sum + rem\n",
        "    sq = sq // 10\n",
        "\n",
        "print('The Sum of the Digits   :', sum)\n",
        "\n",
        "if sum == n:\n",
        "    print(n, 'is a Neon Number.')\n",
        "else:\n",
        "    print(n, 'is not a Neon Number.')"
      ],
      "metadata": {
        "id": "zEMZu5QApRgM"
      },
      "execution_count": null,
      "outputs": []
    },
    {
      "cell_type": "markdown",
      "source": [
        "Reverse Number"
      ],
      "metadata": {
        "id": "vKnbJW0PpwDT"
      }
    },
    {
      "cell_type": "code",
      "source": [
        "num = 1234\n",
        "rev = 0\n",
        "\n",
        "while num != 0:\n",
        "    digit = num % 10\n",
        "    rev = rev* 10 + digit\n",
        "    num //= 10\n",
        "\n",
        "print(\"Reversed Number: \" + str(rev))"
      ],
      "metadata": {
        "id": "B3MfNAz8pzAc"
      },
      "execution_count": null,
      "outputs": []
    },
    {
      "cell_type": "markdown",
      "source": [
        "Leap Year"
      ],
      "metadata": {
        "id": "UfNBy4ELq892"
      }
    },
    {
      "cell_type": "code",
      "source": [
        "year = int(input(\"Enter a year: \"))\n",
        "\n",
        "if (year % 400 == 0) and (year % 100 == 0):\n",
        "    print(\"{0} is a leap year\".format(year))\n",
        "elif (year % 4 ==0) and (year % 100 != 0):\n",
        "    print(\"{0} is a leap year\".format(year))\n",
        "else:\n",
        "    print(\"{0} is not a leap year\".format(year))"
      ],
      "metadata": {
        "id": "foI1cSyXq-u_"
      },
      "execution_count": null,
      "outputs": []
    },
    {
      "cell_type": "markdown",
      "source": [
        "3 Largest Number"
      ],
      "metadata": {
        "id": "J5INdrMJrW7F"
      }
    },
    {
      "cell_type": "code",
      "source": [
        "num1 = float(input(\"Enter first number: \"))\n",
        "num2 = float(input(\"Enter second number: \"))\n",
        "num3 = float(input(\"Enter third number: \"))\n",
        "\n",
        "if (num1 >= num2) and (num1 >= num3):\n",
        "   largest = num1\n",
        "elif (num2 >= num1) and (num2 >= num3):\n",
        "   largest = num2\n",
        "else:\n",
        "   largest = num3\n",
        "\n",
        "print(\"The largest number is\", largest)"
      ],
      "metadata": {
        "id": "Z0tgbf3xriOX"
      },
      "execution_count": null,
      "outputs": []
    },
    {
      "cell_type": "code",
      "source": [
        ""
      ],
      "metadata": {
        "id": "ExiFfv5StsrL"
      },
      "execution_count": null,
      "outputs": []
    },
    {
      "cell_type": "code",
      "source": [
        ""
      ],
      "metadata": {
        "id": "199Y2J-ztsnL"
      },
      "execution_count": null,
      "outputs": []
    },
    {
      "cell_type": "code",
      "source": [
        ""
      ],
      "metadata": {
        "id": "-5WrnPaVtsk6"
      },
      "execution_count": null,
      "outputs": []
    },
    {
      "cell_type": "code",
      "source": [
        ""
      ],
      "metadata": {
        "id": "wDhHqBJ4tshb"
      },
      "execution_count": null,
      "outputs": []
    },
    {
      "cell_type": "code",
      "source": [
        ""
      ],
      "metadata": {
        "id": "OxTu_bX3tsfE"
      },
      "execution_count": null,
      "outputs": []
    },
    {
      "cell_type": "markdown",
      "source": [
        "Positive, Negative, Zero"
      ],
      "metadata": {
        "id": "fUZfM8_ksLOC"
      }
    },
    {
      "cell_type": "code",
      "source": [
        "num = float(input(\"Enter a number: \"))\n",
        "if num > 0:\n",
        "   print(\"Positive number\")\n",
        "elif num == 0:\n",
        "   print(\"Zero\")\n",
        "else:\n",
        "   print(\"Negative number\")"
      ],
      "metadata": {
        "id": "znZ0vEIWsPOe"
      },
      "execution_count": null,
      "outputs": []
    }
  ]
}