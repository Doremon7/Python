{
  "nbformat": 4,
  "nbformat_minor": 0,
  "metadata": {
    "colab": {
      "name": "FEB04(HW).ipynb",
      "provenance": [],
      "authorship_tag": "ABX9TyOlw1SnBnqJ7v2xHsY6e4hr",
      "include_colab_link": true
    },
    "kernelspec": {
      "name": "python3",
      "display_name": "Python 3"
    },
    "language_info": {
      "name": "python"
    }
  },
  "cells": [
    {
      "cell_type": "markdown",
      "metadata": {
        "id": "view-in-github",
        "colab_type": "text"
      },
      "source": [
        "<a href=\"https://colab.research.google.com/github/Doremon7/Python/blob/main/FEB04(HW).ipynb\" target=\"_parent\"><img src=\"https://colab.research.google.com/assets/colab-badge.svg\" alt=\"Open In Colab\"/></a>"
      ]
    },
    {
      "cell_type": "code",
      "execution_count": 1,
      "metadata": {
        "colab": {
          "base_uri": "https://localhost:8080/"
        },
        "id": "9BXSnXMc5ObK",
        "outputId": "de54a990-2b07-4018-bb98-1ea996cd869c"
      },
      "outputs": [
        {
          "output_type": "stream",
          "name": "stdout",
          "text": [
            "Enter the Radius of Circle:7\n",
            "Area of cicle is : 153.86\n"
          ]
        }
      ],
      "source": [
        "# Write a program to find the area of circle\n",
        "\n",
        "rad=int(input('Enter the Radius of Circle:'))\n",
        "\n",
        "area= 3.14*rad*rad\n",
        "\n",
        "print('Area of cicle is :',area)"
      ]
    },
    {
      "cell_type": "code",
      "source": [
        "# Write python code to accept 2 numbers from user and display add, sub, mul and div.\n",
        "\n",
        "n1=int(input('Enter your first number:'))\n",
        "n2=int(input('Enter your second number:'))\n",
        "\n",
        "add=n1+n2\n",
        "print('Addition of ', n1 , '+', n2, '=', add)\n",
        "\n",
        "sub=n1-n2\n",
        "print('Subteaction of ', n1 , '-', n2, '=', sub)\n",
        "\n",
        "mul=n1*n2\n",
        "print('Multiplication of ', n1 , '*', n2, '=', mul)\n",
        "\n",
        "div=n1/n1\n",
        "print('Division of ', n1 , '/', n2, '=', div)\n",
        "\n",
        "\n"
      ],
      "metadata": {
        "colab": {
          "base_uri": "https://localhost:8080/"
        },
        "id": "WrToLhbh5fRS",
        "outputId": "7e369d95-4f66-4396-e810-7879b2c9ffe6"
      },
      "execution_count": 4,
      "outputs": [
        {
          "output_type": "stream",
          "name": "stdout",
          "text": [
            "Enter your first number:9\n",
            "Enter your second number:3\n",
            "Addition of  9 + 3 = 12\n",
            "Subteaction of  9 - 3 = 6\n",
            "Multiplication of  9 * 3 = 27\n",
            "Division of  9 / 3 = 1.0\n"
          ]
        }
      ]
    },
    {
      "cell_type": "code",
      "source": [
        "# Accept user's name and birth year. Print user's name and age.\n",
        "#Hint - age = 2021 - birth year\n",
        "\n",
        "name=str(input('Enter your Name: '))\n",
        "birth=int(input(' Enter your Birth Year'))\n",
        "\n",
        "age= 2021-birth\n",
        "\n",
        "print('Your Name is : ', name,)\n",
        "print(name, 'Your Age is :', age)"
      ],
      "metadata": {
        "colab": {
          "base_uri": "https://localhost:8080/"
        },
        "id": "WJmlxKFx6tPo",
        "outputId": "1e692b20-a0c2-4315-f3cf-10bb35f76f80"
      },
      "execution_count": 12,
      "outputs": [
        {
          "output_type": "stream",
          "name": "stdout",
          "text": [
            "Enter your Name: AMIT\n",
            " Enter your Birth Year1997\n",
            "Your Name is :  AMIT\n",
            "AMIT Your Age is : 24\n"
          ]
        }
      ]
    },
    {
      "cell_type": "code",
      "source": [
        "#Accept input from user -> score in 5 subjects like math, physics, history, english and chemistry. calculate total score and percentage.\n",
        "\n",
        "print('Enter your Marks out of 100  to get your Result')\n",
        "\n",
        "math=int(input('MATHS:'))\n",
        "phy=int(input('PHYSICS:'))\n",
        "his=int(input('HISTROY:'))\n",
        "eng=int(input('ENGLISH:'))\n",
        "chem=int(input('CHEMISTRY:'))\n",
        "\n",
        "tot=math+phy+his+eng+chem\n",
        "print('Your Maximum marks is: 500')\n",
        "print('Number of marks scored :', tot)\n",
        "\n",
        "per=float((tot/500)*100)\n",
        "print('Percentage of marks obtained is: ', per, '%')"
      ],
      "metadata": {
        "colab": {
          "base_uri": "https://localhost:8080/"
        },
        "id": "lm3oiwbI7s8Q",
        "outputId": "dd091c6b-e60f-4dfb-ba7e-2efeb2549deb"
      },
      "execution_count": 11,
      "outputs": [
        {
          "output_type": "stream",
          "name": "stdout",
          "text": [
            "Enter your Marks out of 100  to get your Result\n",
            "MATHS:65\n",
            "PHYSICS:54\n",
            "HISTROY:89\n",
            "ENGLISH:69\n",
            "CHEMISTRY:75\n",
            "Your Maximum marks is: 500\n",
            "Number of marks scored : 352\n",
            "Percentage of marks obtained is:  70.39999999999999 %\n"
          ]
        }
      ]
    }
  ]
}