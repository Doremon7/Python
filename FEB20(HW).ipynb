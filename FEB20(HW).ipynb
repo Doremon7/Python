{
  "nbformat": 4,
  "nbformat_minor": 0,
  "metadata": {
    "colab": {
      "name": "FEB20(HW).ipynb",
      "provenance": [],
      "authorship_tag": "ABX9TyOYCtNdcPG/6RIPcdQhhLzU",
      "include_colab_link": true
    },
    "kernelspec": {
      "name": "python3",
      "display_name": "Python 3"
    },
    "language_info": {
      "name": "python"
    }
  },
  "cells": [
    {
      "cell_type": "markdown",
      "metadata": {
        "id": "view-in-github",
        "colab_type": "text"
      },
      "source": [
        "<a href=\"https://colab.research.google.com/github/mahtoamit/Python/blob/main/FEB20(HW).ipynb\" target=\"_parent\"><img src=\"https://colab.research.google.com/assets/colab-badge.svg\" alt=\"Open In Colab\"/></a>"
      ]
    },
    {
      "cell_type": "code",
      "execution_count": null,
      "metadata": {
        "id": "GhEZ4vODdUbM"
      },
      "outputs": [],
      "source": [
        "#Research and execute the following string functions\n",
        "'''\n",
        "1) capitalize, upper, lower\n",
        "\n",
        "2) isupper, islower\n",
        "\n",
        "3) split, join\n",
        "\n",
        "4) startswith, endswith\n",
        "\n",
        "5) replace, find\n",
        "\n",
        "6) isalpha, isdigit, isalnum\n",
        "\n",
        "'''"
      ]
    },
    {
      "cell_type": "code",
      "source": [
        "#CAPITALIZE: \n",
        "'''\n",
        "    --> Converts the first character of the string to a capital (uppercase) letter\n",
        "    --> SYNTAX: capitalize()\n",
        "\n",
        "'''\n",
        "\n",
        "#Example\n",
        "\n",
        "a=('i love python')\n",
        "print(a.capitalize())"
      ],
      "metadata": {
        "colab": {
          "base_uri": "https://localhost:8080/",
          "height": 0
        },
        "id": "5Lz24OIYddW-",
        "outputId": "d40e13a4-68d7-430e-a442-7b2df90bed51"
      },
      "execution_count": 1,
      "outputs": [
        {
          "output_type": "stream",
          "name": "stdout",
          "text": [
            "I love python\n"
          ]
        }
      ]
    },
    {
      "cell_type": "code",
      "source": [
        "#UPPER:\n",
        "'''\n",
        "--> Converts all lowercase characters in a string into uppercase\n",
        "--> SYNTAX: upper()\n",
        "'''\n",
        "#Example\n",
        "\n",
        "a=('i love python')\n",
        "print(a.upper())\n"
      ],
      "metadata": {
        "colab": {
          "base_uri": "https://localhost:8080/",
          "height": 0
        },
        "id": "gpPtIjFffH2M",
        "outputId": "24b38e96-bf66-4692-ac58-91b9d145d3fe"
      },
      "execution_count": 2,
      "outputs": [
        {
          "output_type": "stream",
          "name": "stdout",
          "text": [
            "I LOVE PYTHON\n"
          ]
        }
      ]
    },
    {
      "cell_type": "code",
      "source": [
        "#LOWER:\n",
        "'''\n",
        "--> Converts all uppercase characters in a string into lowercase\n",
        "--> SYNTAX: lower()\n",
        "'''\n",
        "#Example\n",
        "\n",
        "a=('I LOVE PYTHON')\n",
        "print(a.lower())"
      ],
      "metadata": {
        "colab": {
          "base_uri": "https://localhost:8080/",
          "height": 0
        },
        "id": "wX_K8D6tf36G",
        "outputId": "a262000b-8139-4a0d-b643-936779e6fa66"
      },
      "execution_count": 3,
      "outputs": [
        {
          "output_type": "stream",
          "name": "stdout",
          "text": [
            "i love python\n"
          ]
        }
      ]
    },
    {
      "cell_type": "code",
      "source": [
        "#isupper:\n",
        "'''\n",
        "--> Checks if all characters in the string are uppercase\n",
        "--> SYNTAX: isupper()\n",
        "\n",
        "'''\n",
        "#Example\n",
        "\n",
        "a=('I LOVE PYTHON')\n",
        "print(a.isupper())"
      ],
      "metadata": {
        "colab": {
          "base_uri": "https://localhost:8080/",
          "height": 0
        },
        "id": "_diWwm7egMw0",
        "outputId": "e89de368-27c8-4def-d36b-5123fd84b588"
      },
      "execution_count": 4,
      "outputs": [
        {
          "output_type": "stream",
          "name": "stdout",
          "text": [
            "True\n"
          ]
        }
      ]
    },
    {
      "cell_type": "code",
      "source": [
        "#islower:\n",
        "'''\n",
        "--> Checks if all characters in the string are lowercase\n",
        "--> SYNTAX: islower()\n",
        "\n",
        "'''\n",
        "#Example\n",
        "\n",
        "a=('I LOVE python')\n",
        "print(a.islower())"
      ],
      "metadata": {
        "colab": {
          "base_uri": "https://localhost:8080/",
          "height": 0
        },
        "id": "AVmoOt5MgjbK",
        "outputId": "e7a3af21-0918-4fcc-8c46-b44db0994dbf"
      },
      "execution_count": 5,
      "outputs": [
        {
          "output_type": "stream",
          "name": "stdout",
          "text": [
            "False\n"
          ]
        }
      ]
    },
    {
      "cell_type": "code",
      "source": [
        "#split:\n",
        "\n",
        "'''\n",
        "--> The split() method splits a string into a list.\n",
        "--> SYNTAX: split()\n",
        "'''\n",
        "a=('I Love Python')\n",
        "print(a.split())\n",
        "\n"
      ],
      "metadata": {
        "colab": {
          "base_uri": "https://localhost:8080/",
          "height": 0
        },
        "id": "3KBODvQCg2po",
        "outputId": "382e94ea-5ab0-4b3d-9968-afd551617dc3"
      },
      "execution_count": 15,
      "outputs": [
        {
          "output_type": "stream",
          "name": "stdout",
          "text": [
            "['I', 'Love', 'Python']\n"
          ]
        }
      ]
    },
    {
      "cell_type": "code",
      "source": [
        "#join:\n",
        "'''\n",
        "--> Returns a concatenated String\n",
        "-->SYNTAX: join(variable name)\n",
        "'''\n",
        "\n",
        "#Example\n",
        "\n",
        "a=('p','y','t','h','o','n')                     #we can also do this using list\n",
        "print(''.join(a))                           # this we have doing using an empty string('') , we can do thhis taking another variable also. example : s.sjoin(a)  print(s)\n"
      ],
      "metadata": {
        "colab": {
          "base_uri": "https://localhost:8080/",
          "height": 0
        },
        "id": "_PaKxnOTg66K",
        "outputId": "5c849c6f-71b1-40f2-d11d-ce2c1d137c42"
      },
      "execution_count": 13,
      "outputs": [
        {
          "output_type": "stream",
          "name": "stdout",
          "text": [
            "python\n"
          ]
        }
      ]
    },
    {
      "cell_type": "code",
      "source": [
        "#startswith\n",
        "\n",
        "'''\n",
        "-->Returns “True” if a string starts with the given prefix\n",
        "-->SYNTAX: startswith()\n",
        "'''\n",
        "course=input('Enter your Course: ')\n",
        "course=course.lower()\n",
        "if course.startswith('python'):     #if email.endswith('@gmail.com') and email.islower():\n",
        "  print('Your Course is Valid! Go Forward')\n",
        "else:\n",
        "  print('Your Course is Invalid! Please Check Your Course details')"
      ],
      "metadata": {
        "colab": {
          "base_uri": "https://localhost:8080/",
          "height": 0
        },
        "id": "O9YiX4syjuG_",
        "outputId": "6d1d3b9e-59f0-431d-d570-0f80c23534ba"
      },
      "execution_count": 18,
      "outputs": [
        {
          "output_type": "stream",
          "name": "stdout",
          "text": [
            "Enter your Course: java\n",
            "Your Course is Invalid! Please Check Your Course details\n"
          ]
        }
      ]
    },
    {
      "cell_type": "code",
      "source": [
        "#ENDSWITH():\n",
        "'''\n",
        "-->Returns “True” if a string ends with the given suffix\n",
        "--> SYNTAX: endswith()\n",
        "'''\n",
        "\n",
        "email=input('Enter your Email-Id: ')\n",
        "email=email.lower()\n",
        "if email.endswith('@gmail.com'):     #if email.endswith('@gmail.com') and email.islower():\n",
        "  print('Your Email is Valid! Go Forward')\n",
        "else:\n",
        "  print('Your Email is Invalid! Please Check Your Email')"
      ],
      "metadata": {
        "colab": {
          "base_uri": "https://localhost:8080/",
          "height": 0
        },
        "id": "tOjK9VJ1kI61",
        "outputId": "971332f6-c6f9-4ab4-bd62-e6fe9b38f2ba"
      },
      "execution_count": 16,
      "outputs": [
        {
          "output_type": "stream",
          "name": "stdout",
          "text": [
            "Enter your Email-Id: mahtoamit@gmail.com\n",
            "Your Email is Valid! Go Forward\n"
          ]
        }
      ]
    },
    {
      "cell_type": "code",
      "source": [
        "#Replace:\n",
        "'''\n",
        "-->Replaces all occurrences of a substring with another substring\n",
        "--> SYNTAX: string.replace(old, new, count)\n",
        "\n",
        "Parameters : \n",
        " \n",
        "old – old substring you want to replace. \n",
        "new – new substring which would replace the old substring.\n",
        "count – the number of times you want to replace the old substring with the new substring. (Optional ) \n",
        "'''\n",
        "\n",
        "a=('I Love Python')\n",
        "print(a.replace('Python', 'Django', 3))"
      ],
      "metadata": {
        "colab": {
          "base_uri": "https://localhost:8080/",
          "height": 0
        },
        "id": "AAsmnHoVl9jO",
        "outputId": "ea4cf290-42ec-4334-8128-2e833039d2fc"
      },
      "execution_count": 25,
      "outputs": [
        {
          "output_type": "stream",
          "name": "stdout",
          "text": [
            "I Love Django\n"
          ]
        }
      ]
    },
    {
      "cell_type": "code",
      "source": [
        "#Find:\n",
        "'''\n",
        "-->\tReturns the lowest index of the substring if it is found\n",
        "-->SYNTAX:  find(sub, start, end)\n",
        "\n",
        "Parameters: \n",
        "\n",
        "sub: It’s the substring that needs to be searched in the given string. \n",
        "start: Starting position where the sub needs to be checked within the string. \n",
        "end: Ending position where suffix needs to be checked within the string.\n",
        "'''\n",
        "\n",
        "a=('Python I Love ')\n",
        "print(a.find('Love'))\n",
        "\n",
        "\n"
      ],
      "metadata": {
        "colab": {
          "base_uri": "https://localhost:8080/",
          "height": 0
        },
        "id": "2VDWE4TFmBWB",
        "outputId": "b0023615-38e1-4003-fe47-fda619dc092c"
      },
      "execution_count": 24,
      "outputs": [
        {
          "output_type": "stream",
          "name": "stdout",
          "text": [
            "9\n"
          ]
        }
      ]
    },
    {
      "cell_type": "code",
      "source": [
        "#isalpha\n",
        "'''\n",
        "-->Returns “True” if all characters in the string are alphabets\n",
        "--> SYNTAX: isalpha()\n",
        "\n",
        "'''\n",
        "\n",
        "a = 'Amit'\n",
        "print(a.isalpha())"
      ],
      "metadata": {
        "colab": {
          "base_uri": "https://localhost:8080/",
          "height": 0
        },
        "id": "JiixZyBbpDLi",
        "outputId": "9c0e28f6-d151-48a0-8401-906033e6113f"
      },
      "execution_count": 26,
      "outputs": [
        {
          "output_type": "stream",
          "name": "stdout",
          "text": [
            "True\n"
          ]
        }
      ]
    },
    {
      "cell_type": "code",
      "source": [
        "#isalnum:\n",
        "'''\n",
        "-->Checks whether all the characters in a given string is alphanumeric or not\n",
        "--> SYNTAX: isalnum()\n",
        "'''\n",
        "\n",
        "a = 'Amit07'\n",
        "print(a.isalnum())\n"
      ],
      "metadata": {
        "colab": {
          "base_uri": "https://localhost:8080/",
          "height": 0
        },
        "id": "YTn9pxDKpsht",
        "outputId": "be790f58-26ab-4bec-9b85-f85d6e281fcd"
      },
      "execution_count": 27,
      "outputs": [
        {
          "output_type": "stream",
          "name": "stdout",
          "text": [
            "True\n"
          ]
        }
      ]
    },
    {
      "cell_type": "code",
      "source": [
        "#isdigit\n",
        "'''\n",
        "--> Returns “True” if all characters in the string are digits\n",
        "--> SYNTAX: isdigit() \n",
        "'''\n",
        "\n",
        "a = '07'\n",
        "print(a.isdigit())\n"
      ],
      "metadata": {
        "colab": {
          "base_uri": "https://localhost:8080/",
          "height": 0
        },
        "id": "AryMnnbqqLLK",
        "outputId": "91181c07-affb-4cba-d3a1-6da575ff7ce7"
      },
      "execution_count": 29,
      "outputs": [
        {
          "output_type": "stream",
          "name": "stdout",
          "text": [
            "True\n"
          ]
        }
      ]
    }
  ]
}