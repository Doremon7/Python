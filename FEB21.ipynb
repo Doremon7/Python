{
  "nbformat": 4,
  "nbformat_minor": 0,
  "metadata": {
    "colab": {
      "name": "FEB21.ipynb",
      "provenance": [],
      "authorship_tag": "ABX9TyOcmNQVpPu+BqQKspSlTi2/",
      "include_colab_link": true
    },
    "kernelspec": {
      "name": "python3",
      "display_name": "Python 3"
    },
    "language_info": {
      "name": "python"
    }
  },
  "cells": [
    {
      "cell_type": "markdown",
      "metadata": {
        "id": "view-in-github",
        "colab_type": "text"
      },
      "source": [
        "<a href=\"https://colab.research.google.com/github/mahtoamit/Python/blob/main/FEB21.ipynb\" target=\"_parent\"><img src=\"https://colab.research.google.com/assets/colab-badge.svg\" alt=\"Open In Colab\"/></a>"
      ]
    },
    {
      "cell_type": "code",
      "execution_count": null,
      "metadata": {
        "colab": {
          "base_uri": "https://localhost:8080/"
        },
        "id": "sqatk_BS87em",
        "outputId": "eac8d4a8-24e7-47d1-8852-a65c9ef44e1f"
      },
      "outputs": [
        {
          "output_type": "stream",
          "name": "stdout",
          "text": [
            "MyList:  [45, 33, 2, 45, 63, 748, 41, 56]\n",
            "MyList (2:5):  [2, 45, 63]\n"
          ]
        }
      ],
      "source": [
        "#SLICE\n",
        "'''\n",
        "--> Slice not happen in dict and sets.\n",
        "--> Slicing is a shorter to fetch the multiple values from list,tuple and string with specific range of index.\n",
        "--> In another words we can say slicing is used to create sublist ,subtuple and substring with the help of existing object.\n",
        "--> SYNTAX: variable_name(startindex:endindex:step)\n",
        "-->          here\n",
        "                default step is 1.\n",
        "                if step is positive then start index is 0 and end index=length.\n",
        "                if step is negative then start index is -1 and end index=-length-1.\n",
        "                (i.e. Reverse Order)\n",
        "'''\n",
        "\n",
        "#In List\n",
        "list=[45,33,2,45,63,748,41,56]\n",
        "print('MyList: ', list)\n",
        "\n",
        "print('MyList (2:5): ', list[2:5])\n"
      ]
    },
    {
      "cell_type": "code",
      "source": [
        "#In Tuple:\n",
        "\n",
        "tup=(45,33,2,45,63,748,41,56)\n",
        "\n",
        "print('MyList (2:5): ', tup[2:5])"
      ],
      "metadata": {
        "colab": {
          "base_uri": "https://localhost:8080/"
        },
        "id": "grb_R5FiCk6W",
        "outputId": "22dc0dc1-3a72-4414-c9e8-2b2dd95fa71e"
      },
      "execution_count": null,
      "outputs": [
        {
          "output_type": "stream",
          "name": "stdout",
          "text": [
            "MyList (2:5):  (2, 45, 63)\n"
          ]
        }
      ]
    },
    {
      "cell_type": "code",
      "source": [
        "#In String\n",
        "\n",
        "a='AMIT MAHTO'\n",
        "print('Slice (4:8): ', a[2:5])"
      ],
      "metadata": {
        "colab": {
          "base_uri": "https://localhost:8080/"
        },
        "id": "Q4Tr4DzvDUwd",
        "outputId": "d331de14-a462-414a-8e21-2f54ac63cdc3"
      },
      "execution_count": null,
      "outputs": [
        {
          "output_type": "stream",
          "name": "stdout",
          "text": [
            "Slice (4:8):  IT \n"
          ]
        }
      ]
    },
    {
      "cell_type": "code",
      "source": [
        "li=[45,33,2,45,63,748,41,56]\n",
        "print('MyList (::1): ', li[::1])\n",
        "print('MyList (::-1): ', li[::-1])  #reverse order\n",
        "\n",
        "print('MyList (::2): ', li[::2])\n",
        "print('MyList (::-2): ', li[::-2])\n",
        "\n",
        "\n"
      ],
      "metadata": {
        "colab": {
          "base_uri": "https://localhost:8080/"
        },
        "id": "I79oudCGFbF8",
        "outputId": "414baaea-79e2-4fc4-cc8a-da71c70a7acf"
      },
      "execution_count": null,
      "outputs": [
        {
          "output_type": "stream",
          "name": "stdout",
          "text": [
            "MyList (::1):  [45, 33, 2, 45, 63, 748, 41, 56]\n",
            "MyList (::-1):  [56, 41, 748, 63, 45, 2, 33, 45]\n",
            "MyList (::2):  [45, 2, 63, 41]\n",
            "MyList (::-2):  [56, 748, 45, 33]\n"
          ]
        }
      ]
    },
    {
      "cell_type": "code",
      "source": [
        "#Reverse by letters\n",
        "b='AMIT MAHTO'\n",
        "print('Name (::1): ', b[::1])\n",
        "print('Name (::-1): ', b[::-1])   #reverse order\n",
        "print('Name (::2): ', b[::2])\n",
        "print('Name (::-2): ', b[::-2])\n"
      ],
      "metadata": {
        "colab": {
          "base_uri": "https://localhost:8080/"
        },
        "id": "RzLA_mhYGkAj",
        "outputId": "5bdd93c6-8724-4285-9d52-4678d1311f5b"
      },
      "execution_count": null,
      "outputs": [
        {
          "output_type": "stream",
          "name": "stdout",
          "text": [
            "Name (::1):  AMIT MAHTO\n",
            "Name (::-1):  OTHAM TIMA\n",
            "Name (::2):  AI AT\n",
            "Name (::-2):  OHMTM\n"
          ]
        }
      ]
    },
    {
      "cell_type": "code",
      "source": [
        "#reverse by word\n",
        "\n",
        "c='I love Python'\n",
        "word=c.split(' ')\n",
        "reverse=word[::-1]\n",
        "reversejoin=' '.join(reverse)\n",
        "\n",
        "print('Orignal Input is: ', c)\n",
        "print('After using split method: ',word)\n",
        "print('After doing reverse of above: ',reverse)\n",
        "print('After joining the reverse: ', reversejoin)"
      ],
      "metadata": {
        "colab": {
          "base_uri": "https://localhost:8080/"
        },
        "id": "4QzVOg5II8rq",
        "outputId": "9f2a5948-64c3-4213-ba3f-d3f9f7c8fc17"
      },
      "execution_count": null,
      "outputs": [
        {
          "output_type": "stream",
          "name": "stdout",
          "text": [
            "Orignal Input is:  I love Python\n",
            "After using split method:  ['I', 'love', 'Python']\n",
            "After doing reverse of above:  ['Python', 'love', 'I']\n",
            "After joining the reverse:  Python love I\n"
          ]
        }
      ]
    },
    {
      "cell_type": "code",
      "source": [
        "#Shortcut\n",
        "name=input('Enter a sentence to reverse it :')\n",
        "rev=' '.join(name.split(' ')[::-1])\n",
        "print(rev)\n",
        "print(rev.title())"
      ],
      "metadata": {
        "colab": {
          "base_uri": "https://localhost:8080/"
        },
        "id": "roacuiD8Klm3",
        "outputId": "bd8dbad3-5cf8-4e00-e0b2-9145ba10601c"
      },
      "execution_count": null,
      "outputs": [
        {
          "output_type": "stream",
          "name": "stdout",
          "text": [
            "Enter a sentence to reverse it :amit mahto\n",
            "mahto amit\n",
            "Mahto Amit\n"
          ]
        }
      ]
    },
    {
      "cell_type": "code",
      "source": [
        "#COMPREHENSION \n",
        "'''\n",
        "--> It is a shorter syntax when we want to create new list,set od dictionary based on the value of existing iterable object.\n",
        "--> There are 3 types of comprehension\n",
        "      1. List Comprehension\n",
        "          syntax: \n",
        "               list_variable=[expression for values in iterable if condition]\n",
        "      2. Set Comprehension\n",
        "              syntax: \n",
        "                      set_variable={expression for values in iterable if condition}\n",
        "      3. Dictionary Comprehension\n",
        "             syntax: \n",
        "                      dict_variable={expkey:expvalue for values in iterable if condition}\n",
        "      \n",
        "'''\n",
        "\n",
        "#Without using Comprehension\n",
        "#WAP To create and print even list from existing list\n",
        "\n",
        "l1=[4,5,669,7,65,66,2,541,444,333,111]\n",
        "evenlist=[]\n",
        "\n",
        "for value in l1:\n",
        "  if value%2==0:\n",
        "    evenlist.append(value)\n",
        "print('Even List is :', evenlist)"
      ],
      "metadata": {
        "colab": {
          "base_uri": "https://localhost:8080/"
        },
        "id": "zuzuaFXRMKkn",
        "outputId": "7b21df64-4bbc-4c7b-c117-9ad61e99eea9"
      },
      "execution_count": null,
      "outputs": [
        {
          "output_type": "stream",
          "name": "stdout",
          "text": [
            "Even List is : [4, 66, 2, 444]\n"
          ]
        }
      ]
    },
    {
      "cell_type": "code",
      "source": [
        "#LIST COMPREHENSION\n",
        "#EVEN LIST\n",
        "lc=[9,56,33,22,11,5652,54163,523,0]\n",
        "evenlist=[value for value in lc if value%2==0]\n",
        "print('Even List are: ', evenlist)\n",
        "\n",
        "#ODD LIST\n",
        "oddlist=[value for value in lc if value%2!=0]\n",
        "print('Odd List are: ', oddlist)\n",
        "\n",
        "#SQUARE LIST\n",
        "squarelist=[value**2 for value in lc]\n",
        "print('SQUARE List are: ', squarelist)\n",
        "\n",
        "#SQUARE LIST of even number\n",
        "sqlist=[value**2 for value in lc if value%2==0]\n",
        "print('SQUARE List of Even are: ', sqlist)"
      ],
      "metadata": {
        "colab": {
          "base_uri": "https://localhost:8080/"
        },
        "id": "KTw6ZBjJR466",
        "outputId": "fb5dd8f6-aefc-4cce-8e42-c5ba5b0dadec"
      },
      "execution_count": null,
      "outputs": [
        {
          "output_type": "stream",
          "name": "stdout",
          "text": [
            "Even List are:  [56, 22, 5652, 0]\n",
            "Odd List are:  [9, 33, 11, 54163, 523]\n",
            "SQUARE List are:  [81, 3136, 1089, 484, 121, 31945104, 2933630569, 273529, 0]\n",
            "SQUARE List of Even are:  [3136, 484, 31945104, 0]\n"
          ]
        }
      ]
    },
    {
      "cell_type": "code",
      "source": [
        "#SET COMPREHENSION\n",
        "\n",
        "sc=[7,88,56,3,25,66,77]\n",
        "sqsets={value**2 for value in sc}\n",
        "print(sqsets)"
      ],
      "metadata": {
        "colab": {
          "base_uri": "https://localhost:8080/"
        },
        "id": "dpXJgG06V7X-",
        "outputId": "fb31d50b-aaa5-4fde-d247-bd7ed909ec93"
      },
      "execution_count": null,
      "outputs": [
        {
          "output_type": "stream",
          "name": "stdout",
          "text": [
            "{7744, 3136, 4356, 9, 5929, 49, 625}\n"
          ]
        }
      ]
    },
    {
      "cell_type": "code",
      "source": [
        "#DICT COMPREHENSION\n",
        "\n",
        "dc=[7,8,9,6,62,3,612,258]\n",
        "\n",
        "#wap to create dictionary of eelement as key and sqaure as values of above list\n",
        "\n",
        "sqdict={value:value**2 for value in dc}\n",
        "print('Square using dict: ',sqdict)"
      ],
      "metadata": {
        "colab": {
          "base_uri": "https://localhost:8080/"
        },
        "id": "cIuyH-ONWecG",
        "outputId": "7e7603f4-c0e3-4208-a7f6-daa6bf6079ca"
      },
      "execution_count": null,
      "outputs": [
        {
          "output_type": "stream",
          "name": "stdout",
          "text": [
            "Square using dict:  {7: 49, 8: 64, 9: 81, 6: 36, 62: 3844, 3: 9, 612: 374544, 258: 66564}\n"
          ]
        }
      ]
    },
    {
      "cell_type": "code",
      "source": [
        "#wap to convert given list into dictionary with index of element as key and element itselef as value\n",
        "\n",
        "l1=['RAJ','AJAY','PRIYA','JAY']\n",
        "\n",
        "d1={l1.index(value):value for value in l1}\n",
        "print(d1)"
      ],
      "metadata": {
        "colab": {
          "base_uri": "https://localhost:8080/"
        },
        "id": "hPTdakEbXohN",
        "outputId": "4b789abc-29e0-41f1-f568-cae65004ef2d"
      },
      "execution_count": null,
      "outputs": [
        {
          "output_type": "stream",
          "name": "stdout",
          "text": [
            "{0: 'RAJ', 1: 'AJAY', 2: 'PRIYA', 3: 'JAY'}\n"
          ]
        }
      ]
    }
  ]
}