{
  "nbformat": 4,
  "nbformat_minor": 0,
  "metadata": {
    "colab": {
      "name": "FEB07.ipynb",
      "provenance": [],
      "authorship_tag": "ABX9TyMyUuUcD2Q5HpeA6fnwBwGr",
      "include_colab_link": true
    },
    "kernelspec": {
      "name": "python3",
      "display_name": "Python 3"
    },
    "language_info": {
      "name": "python"
    }
  },
  "cells": [
    {
      "cell_type": "markdown",
      "metadata": {
        "id": "view-in-github",
        "colab_type": "text"
      },
      "source": [
        "<a href=\"https://colab.research.google.com/github/mahtoamit/Python/blob/main/FEB07.ipynb\" target=\"_parent\"><img src=\"https://colab.research.google.com/assets/colab-badge.svg\" alt=\"Open In Colab\"/></a>"
      ]
    },
    {
      "cell_type": "code",
      "execution_count": null,
      "metadata": {
        "colab": {
          "base_uri": "https://localhost:8080/"
        },
        "id": "N1Nyiw-p7Fuy",
        "outputId": "a4998230-f4ee-41f2-acd2-3dc711b48283"
      },
      "outputs": [
        {
          "output_type": "stream",
          "name": "stdout",
          "text": [
            "Enter your first digit5\n",
            "Enter your second digit5\n",
            "Both digit are Equal\n"
          ]
        }
      ],
      "source": [
        "#WAP to check and print the lowest of 2 numbers and also check they are equal or not\n",
        "\n",
        "n1=int(input('Enter your first digit'))\n",
        "n2=int(input('Enter your second digit'))\n",
        "\n",
        "if n1==n2:\n",
        "  print('Both digit are Equal')\n",
        "elif n1<n2:\n",
        "  print('Your first digit is lowest')\n",
        "else:\n",
        "  print('Your second digit is lowest')"
      ]
    },
    {
      "cell_type": "code",
      "source": [
        "#WAP to check and print 3 number and check the lowest of it.\n",
        "\n",
        "n1=int(input('Enter your first digit: '))\n",
        "n2=int(input('Enter your second digit: '))\n",
        "n3=int(input('Enter your third digit: '))\n",
        "\n",
        "#Nested if \n",
        "2\n",
        "if n1<n2:\n",
        "  if n1<n3:\n",
        "    print('N1 is the Lowest')   #[T,T]\n",
        "  else:\n",
        "    print('N3 is the Lowest')    #[T,F]\n",
        "elif n2<n3:\n",
        "  print('N2 is the lowest')     #[F,T]\n",
        "else:\n",
        "  print('All are Equal')     #[F,F]"
      ],
      "metadata": {
        "id": "N5igN4hU_mJV",
        "colab": {
          "base_uri": "https://localhost:8080/"
        },
        "outputId": "9247da61-a120-48cd-8518-238320535362"
      },
      "execution_count": null,
      "outputs": [
        {
          "output_type": "stream",
          "name": "stdout",
          "text": [
            "Enter your first digit: 6\n",
            "Enter your second digit: 9\n",
            "Enter your third digit: 2\n",
            "N3 is the Lowest\n"
          ]
        }
      ]
    },
    {
      "cell_type": "code",
      "source": [
        "#WAP to check and print 3 number and check the Highest of it.\n",
        "\n",
        "n1=int(input('Enter your first digit: '))\n",
        "n2=int(input('Enter your second digit: '))\n",
        "n3=int(input('Enter your third digit: '))\n",
        "\n",
        "#Nested if \n",
        "\n",
        "if n1>n2:\n",
        "  if n1>n3:\n",
        "    print('N1 is the Highest')   #[T,T]\n",
        "  else:\n",
        "    print('N3 is the Highest')    #[T,F]\n",
        "elif n2>n3:\n",
        "  print('N2 is the Highest')     #[F,T]\n",
        "else:\n",
        "  print('N3 is highest6')     #[F,F]"
      ],
      "metadata": {
        "colab": {
          "base_uri": "https://localhost:8080/"
        },
        "id": "4h_i9nwzEyVZ",
        "outputId": "27eefd6a-bce2-4211-d01a-30ce947be9cf"
      },
      "execution_count": null,
      "outputs": [
        {
          "output_type": "stream",
          "name": "stdout",
          "text": [
            "Enter your first digit: 5\n",
            "Enter your second digit: 6\n",
            "Enter your third digit: 8\n",
            "N3 is highest\n"
          ]
        }
      ]
    },
    {
      "cell_type": "code",
      "source": [
        "#WAP to check and print 3 number and check the lowest of it.\n",
        "\n",
        "n1=int(input('Enter your first digit: '))\n",
        "n2=int(input('Enter your second digit: '))\n",
        "n3=int(input('Enter your third digit: '))\n",
        "\n",
        "#Using logical operators \n",
        "\n",
        "if n1<n2 and n1<n3:\n",
        "    print('N1 is the Lowest')  \n",
        "elif n2<n3:\n",
        "  print('N2 is the lowest')     \n",
        "elif n3<n2:\n",
        "  print('N3 is lowest')  \n",
        "else:\n",
        "  print(\"All are equal\")  "
      ],
      "metadata": {
        "colab": {
          "base_uri": "https://localhost:8080/"
        },
        "id": "sc3wU5nvJX-x",
        "outputId": "d65941fd-5336-4136-d868-4483177332a2"
      },
      "execution_count": null,
      "outputs": [
        {
          "output_type": "stream",
          "name": "stdout",
          "text": [
            "Enter your first digit: 9\n",
            "Enter your second digit: 87\n",
            "Enter your third digit: 75\n",
            "N1 is the Lowest\n"
          ]
        }
      ]
    },
    {
      "cell_type": "code",
      "source": [
        "#WAP to check and print 3 number and check the highest of it Using Logical Operators.\n",
        "\n",
        "#HOMEWORK"
      ],
      "metadata": {
        "id": "GehW-A-4KXHA"
      },
      "execution_count": null,
      "outputs": []
    },
    {
      "cell_type": "code",
      "source": [
        "#Itreative statements\n",
        "\n",
        "#Itreative statements is also known as Looping statements.\n",
        "#Itreative statement are used to excecute specific block of code repeadly\n",
        "#i.e. block will exceute till condition becomes FALSE.\n",
        "# In Python there are 2 types of looping statements \n",
        "#1. FOR LOOP\n",
        "#        If we know number of iteration then we go with FOR LOOP.\n",
        "#        FOR LOOP is based on RANGE\n",
        "#2. WHILE LOOP\n",
        "#       If we dont know number of itreation then we go with WHILE LOOP.\n",
        "#       WHILE LOOP is based on condition\n",
        "\n"
      ],
      "metadata": {
        "id": "tcwMrWtdKeZY"
      },
      "execution_count": null,
      "outputs": []
    },
    {
      "cell_type": "code",
      "source": [
        "# EXAMPLE OF WHILE LOOP\n",
        "\n",
        "#INFINITE LOOP\n",
        "# Because 0 is always less then 5\n",
        "# Because itereative statement is missing (increment)\n",
        "\n",
        "i=0\n",
        "while i<5:\n",
        "  print('hello')"
      ],
      "metadata": {
        "id": "AmT22zycMc9x"
      },
      "execution_count": null,
      "outputs": []
    },
    {
      "cell_type": "code",
      "source": [
        "#WAP to print HI msg 5times\n",
        "\n",
        "i=0\n",
        "while i<5:\n",
        "  print('hello')\n",
        "  #i=i+1\n",
        "  i += 1 # Increment assignment operator also known as SHORTHAND OPERATOR\n"
      ],
      "metadata": {
        "colab": {
          "base_uri": "https://localhost:8080/"
        },
        "id": "nbVfP87kONXp",
        "outputId": "7b39acf4-fe46-4b00-ab41-41c4919ebab7"
      },
      "execution_count": null,
      "outputs": [
        {
          "output_type": "stream",
          "name": "stdout",
          "text": [
            "hello\n",
            "hello\n",
            "hello\n",
            "hello\n",
            "hello\n"
          ]
        }
      ]
    },
    {
      "cell_type": "code",
      "source": [
        "#WAP to print user name n times\n",
        "\n",
        "name=str(input('Enter your name:'))\n",
        "n=int(input('How many times you want to Print Your NAME:'))\n",
        "\n",
        "i=0\n",
        "while i<n:\n",
        "  print('Hello',name)\n",
        "  i +=1"
      ],
      "metadata": {
        "colab": {
          "base_uri": "https://localhost:8080/"
        },
        "id": "dKUzZLv7QFqZ",
        "outputId": "b49103d9-c775-48f6-89ee-7390181e0eeb"
      },
      "execution_count": null,
      "outputs": [
        {
          "output_type": "stream",
          "name": "stdout",
          "text": [
            "Enter your name:AMIT\n",
            "How many times you want to Print Your NAME:3\n",
            "Hello AMIT\n",
            "Hello AMIT\n",
            "Hello AMIT\n"
          ]
        }
      ]
    },
    {
      "cell_type": "code",
      "source": [
        "#WAP to print even number between 1 to n\n",
        "\n",
        "n=int(input('Enter a Number: '))\n",
        "i=2\n",
        "while i<=n:\n",
        "  print(i, end=\" ,\")\n",
        "  i +=2"
      ],
      "metadata": {
        "colab": {
          "base_uri": "https://localhost:8080/"
        },
        "id": "VZdORL-yRSs5",
        "outputId": "a5874f5c-cec5-4ecb-d57b-5a40d103c522"
      },
      "execution_count": null,
      "outputs": [
        {
          "output_type": "stream",
          "name": "stdout",
          "text": [
            "Enter a Number: 49\n",
            "2 ,4 ,6 ,8 ,10 ,12 ,14 ,16 ,18 ,20 ,22 ,24 ,26 ,28 ,30 ,32 ,34 ,36 ,38 ,40 ,42 ,44 ,46 ,48 ,"
          ]
        }
      ]
    },
    {
      "cell_type": "code",
      "source": [
        "\n",
        "# comma is removed at the end\n",
        "\n",
        "n=int(input('Enter a Number: '))\n",
        "i=2\n",
        "while i<=n:\n",
        "  if i==n or i==n-1:\n",
        "    print(i)\n",
        "  else:\n",
        "   print(i, end=\" ,\")\n",
        "  i +=2"
      ],
      "metadata": {
        "colab": {
          "base_uri": "https://localhost:8080/"
        },
        "id": "JBe_BYQHT4qJ",
        "outputId": "81dcc25c-438a-494e-8e59-bb29975072f4"
      },
      "execution_count": null,
      "outputs": [
        {
          "output_type": "stream",
          "name": "stdout",
          "text": [
            "Enter a Number: 49\n",
            "2 ,4 ,6 ,8 ,10 ,12 ,14 ,16 ,18 ,20 ,22 ,24 ,26 ,28 ,30 ,32 ,34 ,36 ,38 ,40 ,42 ,44 ,46 ,48\n"
          ]
        }
      ]
    },
    {
      "cell_type": "code",
      "source": [
        "#WAP to print number between 1 to n , those are divisible by 3(without condition(i%3==0))\n",
        "\n",
        "n=int(input('Enter a Number: '))\n",
        "i=3\n",
        "while i<=n:\n",
        "  print(i, end=\" \")\n",
        "  i +=3"
      ],
      "metadata": {
        "colab": {
          "base_uri": "https://localhost:8080/"
        },
        "id": "8EgvLRkJULrI",
        "outputId": "dad0289a-4b6e-4379-986c-f803ccbd0a9c"
      },
      "execution_count": null,
      "outputs": [
        {
          "output_type": "stream",
          "name": "stdout",
          "text": [
            "Enter a Number: 20\n",
            "3 6 9 12 15 18 "
          ]
        }
      ]
    },
    {
      "cell_type": "code",
      "source": [
        "#WAP to print Hii message n times using one variable\n",
        "\n",
        "n=int(input('Enter a input: '))\n",
        "while n>0:\n",
        "  print('Hello')\n",
        "  n-=1\n"
      ],
      "metadata": {
        "colab": {
          "base_uri": "https://localhost:8080/"
        },
        "id": "73VOCC4DV73Y",
        "outputId": "e87f7a65-6dba-45eb-9754-dc71532b5929"
      },
      "execution_count": null,
      "outputs": [
        {
          "output_type": "stream",
          "name": "stdout",
          "text": [
            "Enter a input: 9\n",
            "Hello\n",
            "Hello\n",
            "Hello\n",
            "Hello\n",
            "Hello\n",
            "Hello\n",
            "Hello\n",
            "Hello\n",
            "Hello\n"
          ]
        }
      ]
    }
  ]
}