{
  "nbformat": 4,
  "nbformat_minor": 0,
  "metadata": {
    "colab": {
      "name": "FEB08.ipynb",
      "provenance": [],
      "authorship_tag": "ABX9TyPxwEBqOSyKp8IHo5if+Sia",
      "include_colab_link": true
    },
    "kernelspec": {
      "name": "python3",
      "display_name": "Python 3"
    },
    "language_info": {
      "name": "python"
    }
  },
  "cells": [
    {
      "cell_type": "markdown",
      "metadata": {
        "id": "view-in-github",
        "colab_type": "text"
      },
      "source": [
        "<a href=\"https://colab.research.google.com/github/mahtoamit/Python/blob/main/FEB08.ipynb\" target=\"_parent\"><img src=\"https://colab.research.google.com/assets/colab-badge.svg\" alt=\"Open In Colab\"/></a>"
      ]
    },
    {
      "cell_type": "code",
      "execution_count": null,
      "metadata": {
        "colab": {
          "base_uri": "https://localhost:8080/"
        },
        "id": "2VZsXc33Dfps",
        "outputId": "f4766e99-9529-4590-cd23-cd5073fc6f08"
      },
      "outputs": [
        {
          "output_type": "stream",
          "name": "stdout",
          "text": [
            "Enter a Number: 77777777777777\n",
            "Number of Digits is : 14\n"
          ]
        }
      ],
      "source": [
        "#WAP to print digit of given number\n",
        "# eXAMPLE : enter number: 123\n",
        "#number of digit are :3\n",
        "\n",
        "num = int(input('Enter a Number: '))\n",
        "i=0\n",
        "while(num>0):\n",
        "  num=num//10\n",
        "  i+=1\n",
        "print('Number of Digits is :',i)"
      ]
    },
    {
      "cell_type": "code",
      "source": [
        "#WAP TO COUNT EVEN AND ODD NUMBER DIGITS OF GIVEN NUMBER\n",
        "\n",
        "num = int(input('Enter a Number: '))\n",
        "even=0\n",
        "odd=0\n",
        "\n",
        "while (num>0):\n",
        "  digit= num % 10\n",
        "  if digit%2==0:\n",
        "    even+=1\n",
        "  else:\n",
        "    odd+=1\n",
        "  num=num//10\n",
        "print('Number of Total Digits are ', even+odd)\n",
        "print('Number of Even Digits are ', even)\n",
        "print('Number of Odd Digits are ', odd)\n",
        "\n"
      ],
      "metadata": {
        "colab": {
          "base_uri": "https://localhost:8080/"
        },
        "id": "DW_96J4vGwYY",
        "outputId": "1f726beb-28d8-4ada-ce23-d51683e54d6b"
      },
      "execution_count": null,
      "outputs": [
        {
          "output_type": "stream",
          "name": "stdout",
          "text": [
            "Enter a Number: 9999\n",
            "Number of Total Digits are  4\n",
            "Number of Even Digits are  0\n",
            "Number of Odd Digits are  4\n"
          ]
        }
      ]
    },
    {
      "cell_type": "code",
      "source": [
        "#WAP to reverse a number \n",
        "\n",
        "num = int(input('Enter a Number: '))\n",
        "rev=0\n",
        "while(num>0):\n",
        "  digit=num%10\n",
        "  rev = rev * 10 + digit\n",
        "  num=num//10\n",
        "print('Resverse of a Given Number is: ', rev)\n",
        "  "
      ],
      "metadata": {
        "colab": {
          "base_uri": "https://localhost:8080/"
        },
        "id": "WIIXodeoMfT8",
        "outputId": "47db4585-c216-4ec0-ca57-95fb1d689a21"
      },
      "execution_count": null,
      "outputs": [
        {
          "output_type": "stream",
          "name": "stdout",
          "text": [
            "Enter a Number: 879\n",
            "Resverse of a Given Number is:  978\n"
          ]
        }
      ]
    },
    {
      "cell_type": "code",
      "source": [
        "#WAP to check number is Palindrom number or not\n",
        "\n",
        "# The number those reverse or original is same is known as PALINDROME.\n",
        "\n",
        "num = int(input('Enter a Number: '))\n",
        "rev=0\n",
        "temp=num #backup of orginal number enter by user.\n",
        "while(num>0):\n",
        "  digit=num%10\n",
        "  rev = rev * 10 + digit\n",
        "  num=num//10\n",
        "print('Resverse of a Given Number is: ', rev)\n",
        "\n",
        "if temp==rev:\n",
        "  print('Given Number is PALINDROME')\n",
        "else:\n",
        "  print('Given Number is PALINDROME')\n",
        "  \n",
        "\n"
      ],
      "metadata": {
        "colab": {
          "base_uri": "https://localhost:8080/"
        },
        "id": "m6GaUqTQQQEj",
        "outputId": "3f41912c-b721-4721-a307-a033e25b91bb"
      },
      "execution_count": null,
      "outputs": [
        {
          "output_type": "stream",
          "name": "stdout",
          "text": [
            "Enter a Number: 404\n",
            "Resverse of a Given Number is:  404\n",
            "Given Number is PALINDROME\n"
          ]
        }
      ]
    },
    {
      "cell_type": "code",
      "source": [
        "#WAP to check number is ARMSTRONG number or not\n",
        "\n",
        "#Summation of cube of each digit is equal to number is known as ARMSTRONG\n",
        "#ex: 153,370,371,407 (ONLY FOR 3 DIGIT, if we need for 2,4 digit then change the power)\n",
        "\n",
        "#ex: 153 = 1cube + 5cube + 3 cube\n",
        "         #= 1 + 125 + 27\n",
        "         #= 153\n",
        "\n",
        "num = int(input('Enter a Number: '))\n",
        "add=0\n",
        "temp=num\n",
        "while(num>0):\n",
        "  digit=num%10  #Got the digit of last number\n",
        "  cube=digit**3   #done the cube of last digit here\n",
        "  add=add+cube     \n",
        "  num=num//10\n",
        "if(add==temp):\n",
        "  print(temp,'Number is Armstrong.')\n",
        "else:\n",
        "  print(temp,'Number is not Armstrong.')\n",
        "\n"
      ],
      "metadata": {
        "colab": {
          "base_uri": "https://localhost:8080/"
        },
        "id": "iLCHeNXqSHUC",
        "outputId": "6d8377d3-2b78-44fe-ad7c-3cf3d777e039"
      },
      "execution_count": null,
      "outputs": [
        {
          "output_type": "stream",
          "name": "stdout",
          "text": [
            "Enter a Number: 371\n",
            "371 Number is Armstrong.\n"
          ]
        }
      ]
    },
    {
      "cell_type": "code",
      "source": [
        "#FOR LOOP\n",
        "# for is similar to while loop expect the syntax.\n",
        "# When we kknow the number of iteration/range we use FOR LOOP\n",
        "# Generally in python for loop is based on RANGE FUNCTION.\n",
        "\n",
        "'''\n",
        "  range() function:-\n",
        "             range() is built-in-function of PYTHON which used to create the sequence of number.\n",
        "             Parameters:-\n",
        "                range(start,end,step)\n",
        "                here,\n",
        "                   START by defult is 0\n",
        "                   STEP by default is 1\n",
        "                   END is required \n",
        "                   END value is not included\n",
        "'''"
      ],
      "metadata": {
        "id": "WRIg-snkVpxH"
      },
      "execution_count": null,
      "outputs": []
    },
    {
      "cell_type": "code",
      "source": [
        "\n",
        "# here START = 0, END = 10, STEP = 1.\n",
        "\n",
        "for i in range(20):\n",
        "  print(i, end=\" \")\n",
        "\n"
      ],
      "metadata": {
        "colab": {
          "base_uri": "https://localhost:8080/"
        },
        "id": "fnCIIqSuY2ie",
        "outputId": "bf8d75d9-dd82-4b22-e788-79e4f500c005"
      },
      "execution_count": null,
      "outputs": [
        {
          "output_type": "stream",
          "name": "stdout",
          "text": [
            "0 1 2 3 4 5 6 7 8 9 10 11 12 13 14 15 16 17 18 19 0 2 4 6 8 10 12 14 16 18 "
          ]
        }
      ]
    },
    {
      "cell_type": "code",
      "source": [
        "# here START = 5, END = 20, STEP = 5.\n",
        "\n",
        "for i in range(5,20,5):\n",
        "             print(i, end = \" \")"
      ],
      "metadata": {
        "colab": {
          "base_uri": "https://localhost:8080/"
        },
        "id": "JAz929ShaAx0",
        "outputId": "0eb5d9f5-4cfe-48d6-ba12-3cbf9da6c10f"
      },
      "execution_count": null,
      "outputs": [
        {
          "output_type": "stream",
          "name": "stdout",
          "text": [
            "5 10 15 "
          ]
        }
      ]
    },
    {
      "cell_type": "code",
      "source": [
        "#WAP To print all the number between 1 to n.\n",
        "\n",
        "n=int(input('Enter a number: '))\n",
        "\n",
        "for i in range(1,n+1):\n",
        "   print(i, end=\" \")"
      ],
      "metadata": {
        "colab": {
          "base_uri": "https://localhost:8080/"
        },
        "id": "6wHO13ccbnfb",
        "outputId": "438fa001-8783-450d-c1f6-a173cbe1b970"
      },
      "execution_count": null,
      "outputs": [
        {
          "output_type": "stream",
          "name": "stdout",
          "text": [
            "Enter a number: 9\n",
            "1 2 3 4 5 6 7 8 9 "
          ]
        }
      ]
    },
    {
      "cell_type": "code",
      "source": [
        "#WAP To print all the number between m to n.\n",
        "\n",
        "m=int(input('Enter a START number: '))\n",
        "n=int(input('Enter a END number: '))\n",
        "if m<n:\n",
        "  for i in range(m,n+1):\n",
        "    print(i, end=\" \")\n",
        "else:\n",
        "  print('Invalid range (m<n)')\n"
      ],
      "metadata": {
        "colab": {
          "base_uri": "https://localhost:8080/"
        },
        "id": "mXmwmhErdEL6",
        "outputId": "67e5efff-0b6a-44c0-aeb1-ca86bdcacf03"
      },
      "execution_count": null,
      "outputs": [
        {
          "output_type": "stream",
          "name": "stdout",
          "text": [
            "Enter a START number: 9\n",
            "Enter a END number: 2\n",
            "Invalid range (m<n)\n"
          ]
        }
      ]
    }
  ]
}