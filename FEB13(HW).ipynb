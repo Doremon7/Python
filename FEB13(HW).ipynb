{
  "nbformat": 4,
  "nbformat_minor": 0,
  "metadata": {
    "colab": {
      "name": "FEB13(HW).ipynb",
      "provenance": [],
      "authorship_tag": "ABX9TyPlvltT5tAwBk4UzLxGWdHe",
      "include_colab_link": true
    },
    "kernelspec": {
      "name": "python3",
      "display_name": "Python 3"
    },
    "language_info": {
      "name": "python"
    }
  },
  "cells": [
    {
      "cell_type": "markdown",
      "metadata": {
        "id": "view-in-github",
        "colab_type": "text"
      },
      "source": [
        "<a href=\"https://colab.research.google.com/github/mahtoamit/Python/blob/main/FEB13(HW).ipynb\" target=\"_parent\"><img src=\"https://colab.research.google.com/assets/colab-badge.svg\" alt=\"Open In Colab\"/></a>"
      ]
    },
    {
      "cell_type": "code",
      "execution_count": null,
      "metadata": {
        "colab": {
          "base_uri": "https://localhost:8080/"
        },
        "id": "eBfXFTz-q09t",
        "outputId": "b9c60a4d-fb35-4e26-a66d-db568df97f95"
      },
      "outputs": [
        {
          "output_type": "stream",
          "name": "stdout",
          "text": [
            "*\n",
            "**\n",
            "***\n",
            "****\n"
          ]
        }
      ],
      "source": [
        "#WAP To print the given pattern\n",
        "# *\n",
        "# **\n",
        "# ***\n",
        "# ****\n",
        "\n",
        "\n",
        "for row in range(1,5):    \n",
        "   for col in range(1,row+1):   \n",
        "      print('*', end='')\n",
        "   print()"
      ]
    },
    {
      "cell_type": "code",
      "source": [
        "#WAP To print the given pattern\n",
        "# ****\n",
        "# ***\n",
        "# **\n",
        "# *\n",
        "\n",
        "\n",
        "for row in range(1,5):    \n",
        "   for col in range(row,5):   \n",
        "      print('*', end='')\n",
        "   print()"
      ],
      "metadata": {
        "colab": {
          "base_uri": "https://localhost:8080/"
        },
        "id": "OH0Q59fLvVjP",
        "outputId": "b059f615-aac1-4241-bf6b-fab029f52e07"
      },
      "execution_count": null,
      "outputs": [
        {
          "output_type": "stream",
          "name": "stdout",
          "text": [
            "****\n",
            "***\n",
            "**\n",
            "*\n"
          ]
        }
      ]
    },
    {
      "cell_type": "code",
      "source": [
        "\n",
        "for row in range(1,5):    \n",
        "   for col in range(1,row+1):   \n",
        "      print('*', end='')\n",
        "   print()\n",
        "for row in range(1,4):    \n",
        "   for col in range(row,4):   \n",
        "      print('*', end='')\n",
        "   print()"
      ],
      "metadata": {
        "id": "uVTF6DWIvrJB"
      },
      "execution_count": null,
      "outputs": []
    },
    {
      "cell_type": "code",
      "source": [
        "#WAP to print 1-10 using for loop\n",
        "\n",
        "for i in range(1,11):\n",
        "  print(i, end=' ')\n"
      ],
      "metadata": {
        "id": "8RTtHlj_0wu4",
        "colab": {
          "base_uri": "https://localhost:8080/"
        },
        "outputId": "68accfc7-880c-4af2-962d-b7216321bf1c"
      },
      "execution_count": 6,
      "outputs": [
        {
          "output_type": "stream",
          "name": "stdout",
          "text": [
            "1 2 3 4 5 6 7 8 9 10 "
          ]
        }
      ]
    },
    {
      "cell_type": "code",
      "source": [
        "#WAP to print 10-1 using for loop\n",
        "\n",
        "for i in range(0,10):\n",
        "  print(10-i, end=' ')"
      ],
      "metadata": {
        "id": "JxIw9eXF2w91"
      },
      "execution_count": 5,
      "outputs": []
    },
    {
      "cell_type": "code",
      "source": [
        "#WAP to print 10-1 using while loop\n",
        "i = 10\n",
        "while(i>0):\n",
        "    print(i, end=' ')\n",
        "    i -= 1"
      ],
      "metadata": {
        "id": "MKg8oMIFymvX"
      },
      "execution_count": null,
      "outputs": []
    },
    {
      "cell_type": "code",
      "source": [
        "#WAP to print 1-10 using while loop\n",
        "i = 1\n",
        "while(i<=10):\n",
        "    print(i, end=' ')\n",
        "    i += 1"
      ],
      "metadata": {
        "id": "7lFZ5U4S24um"
      },
      "execution_count": null,
      "outputs": []
    },
    {
      "cell_type": "code",
      "source": [
        "#WAP to calculate the factorial of number using for loop\n",
        "n=int(input('Enter a Number to find a Factorial: '))\n",
        "fact=1\n",
        "for i in range(1, n+1):\n",
        "  fact=fact*i\n",
        "print('Factorial of a given number', n , 'is: ', fact)"
      ],
      "metadata": {
        "id": "KHrygtbf1XCL"
      },
      "execution_count": null,
      "outputs": []
    },
    {
      "cell_type": "code",
      "source": [
        "#WAP to calculate the factorial of number using WHILE loop\n",
        "n=int(input('Enter a Number to find a Factorial: '))\n",
        "fact=1\n",
        "i=1\n",
        "while i<=n:\n",
        "  fact=fact*i\n",
        "  i+=1\n",
        "print('Factorial of a given number', n , 'is: ', fact)"
      ],
      "metadata": {
        "id": "Lf6hTYqj5unH"
      },
      "execution_count": null,
      "outputs": []
    },
    {
      "cell_type": "code",
      "source": [
        "# WAP to add 1st nth natural using for loop\n",
        "\n",
        "\n",
        "n = int(input(' Enter number : '))\n",
        "\n",
        "print('Natural numbers from 1 to', n, 'is: ')\n",
        "\n",
        "for i in range(1, n + 1):\n",
        "    print(i, end=\" \")"
      ],
      "metadata": {
        "colab": {
          "base_uri": "https://localhost:8080/"
        },
        "id": "KbTlL4ib8Fl4",
        "outputId": "45aa5bbd-ecc3-4f8f-9276-3b5a7f07bdd1"
      },
      "execution_count": null,
      "outputs": [
        {
          "output_type": "stream",
          "name": "stdout",
          "text": [
            " Enter number : 8\n",
            "Natural numbers from 1 to 8 is: \n",
            "1 2 3 4 5 6 7 8 "
          ]
        }
      ]
    },
    {
      "cell_type": "code",
      "source": [
        "# WAP to add 1st nth natural using for loop\n",
        "\n",
        "n=int(input('Enter a number: '))\n",
        "\n",
        "if n < 0:\n",
        "   print(\"Enter a positive number\")\n",
        "else:\n",
        "   sum = 0\n",
        "   while(n > 0):\n",
        "       sum += n\n",
        "       n -= 1\n",
        "   print(\"The sum is\", sum)"
      ],
      "metadata": {
        "colab": {
          "base_uri": "https://localhost:8080/"
        },
        "id": "nE9Wh8wA-lJG",
        "outputId": "bd326150-b404-4a3b-97b9-da8d33fe20f0"
      },
      "execution_count": 8,
      "outputs": [
        {
          "output_type": "stream",
          "name": "stdout",
          "text": [
            "Enter a number: 20\n",
            "The sum is 210\n"
          ]
        }
      ]
    },
    {
      "cell_type": "code",
      "source": [
        "x=2**2**3**1\n",
        "print(x)"
      ],
      "metadata": {
        "colab": {
          "base_uri": "https://localhost:8080/"
        },
        "id": "FAsSA0wnkI8O",
        "outputId": "a2a668a2-2635-4fe8-addc-da4bc5f385d4"
      },
      "execution_count": null,
      "outputs": [
        {
          "output_type": "stream",
          "name": "stdout",
          "text": [
            "256\n"
          ]
        }
      ]
    }
  ]
}