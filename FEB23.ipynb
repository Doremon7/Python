{
  "nbformat": 4,
  "nbformat_minor": 0,
  "metadata": {
    "colab": {
      "name": "FEB23.ipynb",
      "provenance": [],
      "authorship_tag": "ABX9TyOuQ68IyvWxJHmP6FQTQVga",
      "include_colab_link": true
    },
    "kernelspec": {
      "name": "python3",
      "display_name": "Python 3"
    },
    "language_info": {
      "name": "python"
    }
  },
  "cells": [
    {
      "cell_type": "markdown",
      "metadata": {
        "id": "view-in-github",
        "colab_type": "text"
      },
      "source": [
        "<a href=\"https://colab.research.google.com/github/mahtoamit/Python/blob/main/FEB23.ipynb\" target=\"_parent\"><img src=\"https://colab.research.google.com/assets/colab-badge.svg\" alt=\"Open In Colab\"/></a>"
      ]
    },
    {
      "cell_type": "code",
      "execution_count": null,
      "metadata": {
        "colab": {
          "base_uri": "https://localhost:8080/"
        },
        "id": "JYcvc8XZMFfp",
        "outputId": "90f22c42-6ce7-4850-d46a-2f97ac1a4aac"
      },
      "outputs": [
        {
          "output_type": "stream",
          "name": "stdout",
          "text": [
            "Square of  5 is 25 \n",
            "Returened Value is 25\n"
          ]
        }
      ],
      "source": [
        "#WAP to create a function which return and print square of a number \n",
        "\n",
        "def sq(n1):\n",
        "  squ = n1**2\n",
        "  print(f'Square of  {n1} is {squ} ')\n",
        "  return squ\n",
        "ans=sq(5)\n",
        "print('Returened Value is',ans)"
      ]
    },
    {
      "cell_type": "markdown",
      "source": [
        "# *Types of Parameters in Python*"
      ],
      "metadata": {
        "id": "Yn4_IalUVx8m"
      }
    },
    {
      "cell_type": "code",
      "source": [
        "'''\n",
        "    Types of Parameters in Python\n",
        "    1. Required Parameter or Positional Parameter\n",
        "    2. Optional Parameter\n",
        "    3. *args (Special Symbol parameters) also known as Non- Keyword Argument\n",
        "    4. **kwarg (Keyword Arguments)\n",
        "'''"
      ],
      "metadata": {
        "id": "Ynk_qNZgV2s2"
      },
      "execution_count": null,
      "outputs": []
    },
    {
      "cell_type": "markdown",
      "source": [
        "# 1. Required Parameter or Positional Parameter"
      ],
      "metadata": {
        "id": "ndqJtTReWxBj"
      }
    },
    {
      "cell_type": "code",
      "source": [
        "'''\n",
        "  --> When we not assign any default value to the parameter then that parameter is known as Required Parameter.\n",
        "       (i.e. above function is example of Required parameter)\n",
        " --> In required parameter value must be pass at the time of function calling.\n",
        "'''"
      ],
      "metadata": {
        "id": "R7KezmCNW2uJ"
      },
      "execution_count": null,
      "outputs": []
    },
    {
      "cell_type": "markdown",
      "source": [
        "# 2.Optional Parameter\n"
      ],
      "metadata": {
        "id": "Wdr0fMLsXbt5"
      }
    },
    {
      "cell_type": "code",
      "source": [
        "'''\n",
        "  --> When we declare a parameter with default value then it is known as optional parameter.\n",
        "  --> In optional Parameter , it is not compulsory to pass the value because it use defalut value for calculationortherwise not.\n",
        "  --> Optional parameter is always on right side of required parameter.\n",
        "  --> Example :\n",
        "             function_name(p1,p2,p3=value,p4=value)\n",
        "             here p1,p2 are rquired parameter and p3,p4 are optional parameter\n",
        "'''"
      ],
      "metadata": {
        "id": "fIG53vXUXiMZ"
      },
      "execution_count": null,
      "outputs": []
    },
    {
      "cell_type": "code",
      "source": [
        "#EXAMPLE\n",
        "\n",
        "def user(age,name='Anonymous'):\n",
        "  print(f'Name:= {name} \\n Age = {age}')\n",
        "  #various ways to call a function\n",
        "  \n",
        "user(45)\n",
        "user(23,'Raj')    #when we know the order of parameter in function\n",
        "user(23,name='Raj')\n",
        "user(age=23,name='raj')    # when  we dont known the order of parameter in function\n",
        "\n",
        "#in above example function age is required and name is optional parameter "
      ],
      "metadata": {
        "colab": {
          "base_uri": "https://localhost:8080/"
        },
        "id": "yAuAOlwCYoB9",
        "outputId": "010bbba6-a68b-4519-aec8-b1faa04d235b"
      },
      "execution_count": null,
      "outputs": [
        {
          "output_type": "stream",
          "name": "stdout",
          "text": [
            "Name:= Anonymous \n",
            " Age = 45\n",
            "Name:= Raj \n",
            " Age = 23\n",
            "Name:= Raj \n",
            " Age = 23\n",
            "Name:= raj \n",
            " Age = 23\n"
          ]
        }
      ]
    },
    {
      "cell_type": "markdown",
      "source": [
        "# 3. *arg (Special Symbol parameters)"
      ],
      "metadata": {
        "id": "V3I8mwTScJXl"
      }
    },
    {
      "cell_type": "code",
      "source": [
        "'''\n",
        " *arg (Special Symbol parameters): \n",
        " --> *arg is known as variable nnumber of argument. here in place of arg we can write any varible name just start with * . example *amit,*add,*sum\n",
        "--> When the function parameter are start (prefix) with * is known *arg(variable number of argument)\n",
        "--> At the time of calling it accept n number of values and store them into TUPLE Types.\n",
        "\n",
        "\n",
        "'''"
      ],
      "metadata": {
        "id": "fu_Jzc-IcLv8"
      },
      "execution_count": null,
      "outputs": []
    },
    {
      "cell_type": "code",
      "source": [
        "#EXAMPLE without *args\n",
        "def add(n1=0,n2=0):\n",
        "  return n1+n2\n",
        "\n",
        "print('Addition is :',add())\n",
        "print('Addition is :',add(1))\n",
        "print('Addition is :',add(1,2,3))\n",
        "\n",
        "#In this given a error because above function we can pass the minimum 0 and maximum 2 number of paramter but if you want to pass n number of parameter we use *arg\n"
      ],
      "metadata": {
        "colab": {
          "base_uri": "https://localhost:8080/",
          "height": 253
        },
        "id": "pSky_LGHdU5E",
        "outputId": "525b73c3-dc27-41bf-8331-0ad9e0c02f61"
      },
      "execution_count": null,
      "outputs": [
        {
          "output_type": "stream",
          "name": "stdout",
          "text": [
            "Addition is : 0\n",
            "Addition is : 1\n"
          ]
        },
        {
          "output_type": "error",
          "ename": "TypeError",
          "evalue": "ignored",
          "traceback": [
            "\u001b[0;31m---------------------------------------------------------------------------\u001b[0m",
            "\u001b[0;31mTypeError\u001b[0m                                 Traceback (most recent call last)",
            "\u001b[0;32m<ipython-input-10-2e42d42dcc49>\u001b[0m in \u001b[0;36m<module>\u001b[0;34m()\u001b[0m\n\u001b[1;32m      6\u001b[0m \u001b[0mprint\u001b[0m\u001b[0;34m(\u001b[0m\u001b[0;34m'Addition is :'\u001b[0m\u001b[0;34m,\u001b[0m\u001b[0madd\u001b[0m\u001b[0;34m(\u001b[0m\u001b[0;34m)\u001b[0m\u001b[0;34m)\u001b[0m\u001b[0;34m\u001b[0m\u001b[0;34m\u001b[0m\u001b[0m\n\u001b[1;32m      7\u001b[0m \u001b[0mprint\u001b[0m\u001b[0;34m(\u001b[0m\u001b[0;34m'Addition is :'\u001b[0m\u001b[0;34m,\u001b[0m\u001b[0madd\u001b[0m\u001b[0;34m(\u001b[0m\u001b[0;36m1\u001b[0m\u001b[0;34m)\u001b[0m\u001b[0;34m)\u001b[0m\u001b[0;34m\u001b[0m\u001b[0;34m\u001b[0m\u001b[0m\n\u001b[0;32m----> 8\u001b[0;31m \u001b[0mprint\u001b[0m\u001b[0;34m(\u001b[0m\u001b[0;34m'Addition is :'\u001b[0m\u001b[0;34m,\u001b[0m\u001b[0madd\u001b[0m\u001b[0;34m(\u001b[0m\u001b[0;36m1\u001b[0m\u001b[0;34m,\u001b[0m\u001b[0;36m2\u001b[0m\u001b[0;34m,\u001b[0m\u001b[0;36m3\u001b[0m\u001b[0;34m)\u001b[0m\u001b[0;34m)\u001b[0m\u001b[0;34m\u001b[0m\u001b[0;34m\u001b[0m\u001b[0m\n\u001b[0m\u001b[1;32m      9\u001b[0m \u001b[0;34m\u001b[0m\u001b[0m\n",
            "\u001b[0;31mTypeError\u001b[0m: add() takes from 0 to 2 positional arguments but 3 were given"
          ]
        }
      ]
    },
    {
      "cell_type": "code",
      "source": [
        "#EXAMPLE With using *arg\n",
        "\n",
        "def add(*n):           #used *arg\n",
        "  ans = 0\n",
        "  for i in n:\n",
        "    ans +=i\n",
        "  return ans\n",
        "print('Addition is ', add())        \n",
        "print('Addition is ', add(1))\n",
        "print('Addition is ', add(1,2,4,5,7))"
      ],
      "metadata": {
        "colab": {
          "base_uri": "https://localhost:8080/"
        },
        "id": "IDStsaMNgBxi",
        "outputId": "2eebaf58-cb32-435c-8d31-acd7edc07e93"
      },
      "execution_count": null,
      "outputs": [
        {
          "output_type": "stream",
          "name": "stdout",
          "text": [
            "Addition is  0\n",
            "Addition is  1\n",
            "Addition is  19\n"
          ]
        }
      ]
    },
    {
      "cell_type": "code",
      "source": [
        "#EXAMPLE With using *arg also using built in function SUM(N)\n",
        "\n",
        "def add(*n):           #used *arg\n",
        "  return sum(n)\n",
        "print('Addition is ', add())        \n",
        "print('Addition is ', add(1))\n",
        "print('Addition is ', add(1,2,4,5,7))"
      ],
      "metadata": {
        "colab": {
          "base_uri": "https://localhost:8080/"
        },
        "id": "IbxvzuQJhDS4",
        "outputId": "7d0f7f98-7406-4bc5-c458-b163790dd2f8"
      },
      "execution_count": null,
      "outputs": [
        {
          "output_type": "stream",
          "name": "stdout",
          "text": [
            "Addition is  0\n",
            "Addition is  1\n",
            "Addition is  19\n"
          ]
        }
      ]
    },
    {
      "cell_type": "code",
      "source": [
        "l1=[7,8,52,3,45,41,5641,45,61,45,41,5641,56,41]\n",
        "print(l1)\n",
        "print(l1[0],l1[1],l1[2],l1[3], sep=',')       #makes code lengthy\n",
        "print(*l1, sep=',')         #makes code easy shortcut\n",
        "\n",
        "'''\n",
        "   When we want to pass each value of iterable types as parameter to the function we use * with iterable object as above\n",
        "'''"
      ],
      "metadata": {
        "colab": {
          "base_uri": "https://localhost:8080/"
        },
        "id": "Y3hssnjbiP4f",
        "outputId": "6689369f-68c5-4984-b45b-be1abfed5226"
      },
      "execution_count": null,
      "outputs": [
        {
          "output_type": "stream",
          "name": "stdout",
          "text": [
            "[7, 8, 52, 3, 45, 41, 5641, 45, 61, 45, 41, 5641, 56, 41]\n",
            "7,8,52,3\n",
            "7,8,52,3,45,41,5641,45,61,45,41,5641,56,41\n"
          ]
        }
      ]
    },
    {
      "cell_type": "code",
      "source": [
        ""
      ],
      "metadata": {
        "id": "PWbkW6fPvNZz"
      },
      "execution_count": null,
      "outputs": []
    },
    {
      "cell_type": "code",
      "source": [
        ""
      ],
      "metadata": {
        "id": "HWXYrm3lvNMK"
      },
      "execution_count": null,
      "outputs": []
    },
    {
      "cell_type": "markdown",
      "source": [
        "# 4. **kwargs (Keyword Arguments)"
      ],
      "metadata": {
        "id": "PC_7kGnZjM2V"
      }
    },
    {
      "cell_type": "code",
      "source": [
        "'''\n",
        "  --> **kwargs stands for Keyword number of argument.\n",
        "  --> It is used to pass n number of value to the function in the form of keyword=value (i.e pair)\n",
        "  --> When we want to pass multiple values to the function with lable we use kwargs\n",
        "\n",
        "\n",
        "\n",
        "'''"
      ],
      "metadata": {
        "id": "qbKrR_XSjZot"
      },
      "execution_count": null,
      "outputs": []
    },
    {
      "cell_type": "code",
      "source": [
        "#EXAMPLE\n",
        "\n",
        "def stdinfo(**std):\n",
        "  print('Student Information ')\n",
        "  for key,value in std.items():\n",
        "    print(key, '=', value)\n",
        "stdinfo(sid=7,sname='Raj Sharma', sdept='Mech',sdob= '10 June 1999')"
      ],
      "metadata": {
        "colab": {
          "base_uri": "https://localhost:8080/"
        },
        "id": "QRD60ekQkK20",
        "outputId": "b5a9a5b6-0035-4859-e6a9-9021058779b5"
      },
      "execution_count": null,
      "outputs": [
        {
          "output_type": "stream",
          "name": "stdout",
          "text": [
            "Student Information \n",
            "sid = 7\n",
            "sname = Raj Sharma\n",
            "sdept = Mech\n",
            "sdob = 10 June 1999\n"
          ]
        }
      ]
    },
    {
      "cell_type": "code",
      "source": [
        "#EXAMPLE- when 2 parameter is compulsory\n",
        "\n",
        "def stdinfo(**std):\n",
        "  if len(std)>2:\n",
        "    print('Student Information ')\n",
        "    for key,value in std.items():\n",
        "       print(key, '=', value)\n",
        "  else: \n",
        "    print('Enter more than 2 parameters')\n",
        "\n",
        "stdinfo(sid=7,sname='Raj Sharma')"
      ],
      "metadata": {
        "colab": {
          "base_uri": "https://localhost:8080/"
        },
        "id": "F2eO6JMSpWmn",
        "outputId": "4385fa85-61da-4935-d5d1-2e301630e372"
      },
      "execution_count": null,
      "outputs": [
        {
          "output_type": "stream",
          "name": "stdout",
          "text": [
            "Enter more than 2 parameters\n"
          ]
        }
      ]
    },
    {
      "cell_type": "markdown",
      "source": [
        "# Types of Function\n",
        "\n"
      ],
      "metadata": {
        "id": "nQasKPq9quQu"
      }
    },
    {
      "cell_type": "code",
      "source": [
        "'''\n",
        "  Types of Function\n",
        "  1. Normal Function OR General Function\n",
        "  2. Lambda Function\n",
        "\n",
        "'''"
      ],
      "metadata": {
        "id": "ST6oHPkmqyzu"
      },
      "execution_count": null,
      "outputs": []
    },
    {
      "cell_type": "code",
      "source": [
        ""
      ],
      "metadata": {
        "id": "kXJ0t7NVvZoR"
      },
      "execution_count": null,
      "outputs": []
    },
    {
      "cell_type": "code",
      "source": [
        ""
      ],
      "metadata": {
        "id": "UDmbzzOEvZlK"
      },
      "execution_count": null,
      "outputs": []
    },
    {
      "cell_type": "code",
      "source": [
        ""
      ],
      "metadata": {
        "id": "UxPwqUKlvZhh"
      },
      "execution_count": null,
      "outputs": []
    },
    {
      "cell_type": "markdown",
      "source": [
        "#  1. Normal Function OR General Function\n"
      ],
      "metadata": {
        "id": "M-atrdaWrM9V"
      }
    },
    {
      "cell_type": "code",
      "source": [
        "'''\n",
        " --> When we define a function using def keyword is known as Normal function.\n",
        " --> Normal function are named function, and it contain multiple lines of body.\n",
        " --> Previous all program are example of normal function\n",
        "'''"
      ],
      "metadata": {
        "id": "p4f0WdmFrOrl"
      },
      "execution_count": null,
      "outputs": []
    },
    {
      "cell_type": "markdown",
      "source": [
        "# 2. Lambda Function"
      ],
      "metadata": {
        "id": "jeihXr3jrp7M"
      }
    },
    {
      "cell_type": "code",
      "source": [
        "'''\n",
        "--> When we define a function using lambda keyword is known as lambda function.\n",
        "--> Lambda function define without name and it contain single line of body.\n",
        "--> Lambda function is also known as Anonymous Function in PYTHON.\n",
        "--> It is also known as Inline Function.\n",
        "--> It are used as argument to pass any another function.\n",
        "--> It stored in a variable as a value.\n",
        "--> It returns the value implicitly (automatically) \n",
        "--> SYNTAX:\n",
        "             variable_name = lambda parameter:expression\n",
        "\n",
        "'''"
      ],
      "metadata": {
        "id": "TY5qg7I4rw1V"
      },
      "execution_count": null,
      "outputs": []
    },
    {
      "cell_type": "code",
      "source": [
        "#EXAMPLE\n",
        "\n",
        "sq = lambda n:n**2\n",
        "print('Square is : ', sq(3))"
      ],
      "metadata": {
        "colab": {
          "base_uri": "https://localhost:8080/"
        },
        "id": "9nv_5ngeta7L",
        "outputId": "f0736442-3be6-4be8-920d-beba01edd563"
      },
      "execution_count": null,
      "outputs": [
        {
          "output_type": "stream",
          "name": "stdout",
          "text": [
            "Square is :  9\n"
          ]
        }
      ]
    },
    {
      "cell_type": "code",
      "source": [
        "sq = lambda n:n**3\n",
        "print('Cube is : ', sq(3))"
      ],
      "metadata": {
        "colab": {
          "base_uri": "https://localhost:8080/"
        },
        "id": "6XJFoGYkuGuL",
        "outputId": "33112fd4-61ff-44c3-b482-c11061186c9b"
      },
      "execution_count": null,
      "outputs": [
        {
          "output_type": "stream",
          "name": "stdout",
          "text": [
            "Cube is :  27\n"
          ]
        }
      ]
    },
    {
      "cell_type": "code",
      "source": [
        "add = lambda n1,n2:n1+n2\n",
        "print('Addition is : ', add(3,6))"
      ],
      "metadata": {
        "colab": {
          "base_uri": "https://localhost:8080/"
        },
        "id": "nK3qKOCbuNkz",
        "outputId": "54c2de45-8ed6-4185-e5de-e7767edc2de5"
      },
      "execution_count": null,
      "outputs": [
        {
          "output_type": "stream",
          "name": "stdout",
          "text": [
            "Addition is :  9\n"
          ]
        }
      ]
    }
  ]
}