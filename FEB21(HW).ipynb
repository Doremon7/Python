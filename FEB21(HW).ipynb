{
  "nbformat": 4,
  "nbformat_minor": 0,
  "metadata": {
    "colab": {
      "name": "FEB21(HW).ipynb",
      "provenance": [],
      "authorship_tag": "ABX9TyOtdlYsri/5TlksKK+BIqp8",
      "include_colab_link": true
    },
    "kernelspec": {
      "name": "python3",
      "display_name": "Python 3"
    },
    "language_info": {
      "name": "python"
    }
  },
  "cells": [
    {
      "cell_type": "markdown",
      "metadata": {
        "id": "view-in-github",
        "colab_type": "text"
      },
      "source": [
        "<a href=\"https://colab.research.google.com/github/mahtoamit/Python/blob/main/FEB21(HW).ipynb\" target=\"_parent\"><img src=\"https://colab.research.google.com/assets/colab-badge.svg\" alt=\"Open In Colab\"/></a>"
      ]
    },
    {
      "cell_type": "code",
      "execution_count": null,
      "metadata": {
        "id": "BjxNqDG8TleQ"
      },
      "outputs": [],
      "source": [
        "'''\n",
        "\n",
        "Set\n",
        "\n",
        "a = {1,2,3,4,5}\n",
        "b = {3,4,5,6,7,8,9}\n",
        "\n",
        "Q1. Write a code to perform union operation on a and b set\n",
        "Q2. Write a code to perform intersection operation on set a and b\n",
        "Q3. Write a code to add 6, in set a\n",
        "\n",
        "'''"
      ]
    },
    {
      "cell_type": "code",
      "source": [
        "#Q1\n",
        "\n",
        "a = {1,2,3,4,5}\n",
        "b = {3,4,5,6,7,8,9}\n",
        "\n",
        "c=a.union(b)\n",
        "print('After Union we get - ', c)\n",
        "\n"
      ],
      "metadata": {
        "colab": {
          "base_uri": "https://localhost:8080/"
        },
        "id": "s9WTFWIKc1G3",
        "outputId": "13d14a11-ed19-48c7-a298-80e3b3edcd36"
      },
      "execution_count": null,
      "outputs": [
        {
          "output_type": "stream",
          "name": "stdout",
          "text": [
            "After Union we get -  {1, 2, 3, 4, 5, 6, 7, 8, 9}\n"
          ]
        }
      ]
    },
    {
      "cell_type": "code",
      "source": [
        "#Q2\n",
        "\n",
        "c=a.intersection(b)\n",
        "print('After Intersection we get - ',c)"
      ],
      "metadata": {
        "colab": {
          "base_uri": "https://localhost:8080/"
        },
        "id": "lE07-b8idbF1",
        "outputId": "d5974277-b543-4b43-c531-e294737d3245"
      },
      "execution_count": null,
      "outputs": [
        {
          "output_type": "stream",
          "name": "stdout",
          "text": [
            "After Intersection we get -  {3, 4, 5}\n"
          ]
        }
      ]
    },
    {
      "cell_type": "code",
      "source": [
        "#Q3\n",
        "a.add(6)\n",
        "print('Adding value 6 in set A : ', a)"
      ],
      "metadata": {
        "colab": {
          "base_uri": "https://localhost:8080/"
        },
        "id": "DH_FUTgmep5N",
        "outputId": "140c3491-1a4a-4a44-ec2a-c674f9a811b8"
      },
      "execution_count": null,
      "outputs": [
        {
          "output_type": "stream",
          "name": "stdout",
          "text": [
            "Adding value 6 in set A :  {1, 2, 3, 4, 5, 6}\n"
          ]
        }
      ]
    },
    {
      "cell_type": "code",
      "source": [
        ""
      ],
      "metadata": {
        "id": "BgKdnHgs0IYU"
      },
      "execution_count": null,
      "outputs": []
    },
    {
      "cell_type": "code",
      "source": [
        ""
      ],
      "metadata": {
        "id": "ll9nXISR0IW5"
      },
      "execution_count": null,
      "outputs": []
    },
    {
      "cell_type": "code",
      "source": [
        ""
      ],
      "metadata": {
        "id": "rEO-Et1d0IS3"
      },
      "execution_count": null,
      "outputs": []
    },
    {
      "cell_type": "code",
      "source": [
        ""
      ],
      "metadata": {
        "id": "zwB7iPUs0IRR"
      },
      "execution_count": null,
      "outputs": []
    },
    {
      "cell_type": "code",
      "source": [
        "#List"
      ],
      "metadata": {
        "id": "eTJ3EG0fl1Sk"
      },
      "execution_count": null,
      "outputs": []
    },
    {
      "cell_type": "code",
      "source": [
        "#Q1 - write a code to add a element 'eleven' , inside list at the end\n",
        "# output-:[2,4,6,8,10,'eleven']\n",
        "\n",
        "x = [2,4,6,8,10]\n",
        "x.append('eleven')\n",
        "print('Adding eleven at the end of list',x)"
      ],
      "metadata": {
        "colab": {
          "base_uri": "https://localhost:8080/"
        },
        "id": "XDcBlRiEmCXi",
        "outputId": "f239787e-0a5d-437b-e44d-78142537b612"
      },
      "execution_count": null,
      "outputs": [
        {
          "output_type": "stream",
          "name": "stdout",
          "text": [
            "Adding eleven at the end of list [2, 4, 6, 8, 10, 'eleven']\n"
          ]
        }
      ]
    },
    {
      "cell_type": "code",
      "source": [
        "#Q2.perform an operation to get the following output\n",
        "#output-: ['one', 2, 4, 6, 8, 10, 'eleven']\n",
        "\n",
        "x = [2, 4, 6, 8, 10, 'eleven']\n",
        "x.insert(0,'one')\n",
        "print('Adding one at the index 0 in list: ',x)"
      ],
      "metadata": {
        "colab": {
          "base_uri": "https://localhost:8080/"
        },
        "id": "Nic03pulm_tW",
        "outputId": "afd01c16-cab8-45f8-ded7-d3ee66df5129"
      },
      "execution_count": null,
      "outputs": [
        {
          "output_type": "stream",
          "name": "stdout",
          "text": [
            "Adding one at the index 0 in list:  ['one', 2, 4, 6, 8, 10, 'eleven']\n"
          ]
        }
      ]
    },
    {
      "cell_type": "code",
      "source": [
        "#Q3.perform an operation to merge the list y inside list x\n",
        "#y= [12,13,14]\n",
        "#output-: ['one', 2, 4, 6, 8, 10, 'eleven', 12, 13, 14]\n",
        "\n",
        "x=['one', 2, 4, 6, 8, 10, 'eleven']\n",
        "y= [12,13,14]\n",
        "x.extend(y)\n",
        "print('Merging Y in X : ',x)"
      ],
      "metadata": {
        "colab": {
          "base_uri": "https://localhost:8080/"
        },
        "id": "1dpVbXoVn4cy",
        "outputId": "3a5edbdf-f28a-4fab-c483-fb5b19f2b1aa"
      },
      "execution_count": null,
      "outputs": [
        {
          "output_type": "stream",
          "name": "stdout",
          "text": [
            "Merging Y in X :  ['one', 2, 4, 6, 8, 10, 'eleven', 12, 13, 14]\n"
          ]
        }
      ]
    },
    {
      "cell_type": "code",
      "source": [
        "#Q4.perform an operation to get the following output\n",
        "#output-: [14, 13, 12, 'eleven', 10, 8, 6, 4, 2, 'one']\n",
        "\n",
        "x=['one', 2, 4, 6, 8, 10, 'eleven', 12, 13, 14]\n",
        "print('Reverse of the list : ', x[::-1])"
      ],
      "metadata": {
        "colab": {
          "base_uri": "https://localhost:8080/"
        },
        "id": "naGCB8Ieoior",
        "outputId": "6cad1251-cffe-430d-a48f-15d13ab79a31"
      },
      "execution_count": null,
      "outputs": [
        {
          "output_type": "stream",
          "name": "stdout",
          "text": [
            "Reverse of the list :  [14, 13, 12, 'eleven', 10, 8, 6, 4, 2, 'one']\n"
          ]
        }
      ]
    },
    {
      "cell_type": "code",
      "source": [
        "#Q5.Perform one single operation to remove 'eleven', 10, 8 all together at once\n",
        "#output-: [14, 13, 12, 6, 4, 2, 'one']\n",
        "\n",
        "x=[14, 13, 12, 'eleven', 10, 8, 6, 4, 2, 'one']\n",
        "del x[3:6]\n",
        "print('Removed multiple elements from list',x)"
      ],
      "metadata": {
        "colab": {
          "base_uri": "https://localhost:8080/"
        },
        "id": "Nabzr1KBpUEG",
        "outputId": "70dc5c1b-44b8-4eaf-a249-abb777e28085"
      },
      "execution_count": null,
      "outputs": [
        {
          "output_type": "stream",
          "name": "stdout",
          "text": [
            "Removed multiple elements from list [14, 13, 12, 6, 4, 2, 'one']\n"
          ]
        }
      ]
    },
    {
      "cell_type": "code",
      "source": [
        "#Q6.write a code to remove 'one' element from the list\n",
        "#output-: [14, 13, 12, 6, 4, 2]\n",
        "\n",
        "x=[14, 13, 12, 6, 4, 2, 'one']\n",
        "x.pop()\n",
        "print('REMOVED LAST VALUE:', x)"
      ],
      "metadata": {
        "colab": {
          "base_uri": "https://localhost:8080/"
        },
        "id": "w2kyrgMCrO1n",
        "outputId": "70bc0b0a-37c1-458b-bdcb-d8d38cf4f00a"
      },
      "execution_count": null,
      "outputs": [
        {
          "output_type": "stream",
          "name": "stdout",
          "text": [
            "REMOVED LAST VALUE: [14, 13, 12, 6, 4, 2]\n"
          ]
        }
      ]
    },
    {
      "cell_type": "code",
      "source": [
        "#Q7.write a code to get the following output\n",
        "#x = [\"hey\",\"there\",\"hello\",\"world\"]\n",
        "#y= \" \"\n",
        "#output-: 'hey there hello world'\n",
        "\n",
        "x = [\"hey\",\"there\",\"hello\",\"world\"]\n",
        "y= \" \"\n",
        "' '.join(x)"
      ],
      "metadata": {
        "colab": {
          "base_uri": "https://localhost:8080/",
          "height": 35
        },
        "id": "cV4fIW5Vr1IU",
        "outputId": "065c516f-4ebb-40b6-a83d-9728890b39b4"
      },
      "execution_count": null,
      "outputs": [
        {
          "output_type": "execute_result",
          "data": {
            "application/vnd.google.colaboratory.intrinsic+json": {
              "type": "string"
            },
            "text/plain": [
              "'hey there hello world'"
            ]
          },
          "metadata": {},
          "execution_count": 38
        }
      ]
    }
  ]
}