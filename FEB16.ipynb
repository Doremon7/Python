{
  "nbformat": 4,
  "nbformat_minor": 0,
  "metadata": {
    "colab": {
      "name": "FEB16.ipynb",
      "provenance": [],
      "authorship_tag": "ABX9TyNVNnjKNzdEd9HDTO0+fn/i",
      "include_colab_link": true
    },
    "kernelspec": {
      "name": "python3",
      "display_name": "Python 3"
    },
    "language_info": {
      "name": "python"
    }
  },
  "cells": [
    {
      "cell_type": "markdown",
      "metadata": {
        "id": "view-in-github",
        "colab_type": "text"
      },
      "source": [
        "<a href=\"https://colab.research.google.com/github/mahtoamit/Python/blob/main/FEB16.ipynb\" target=\"_parent\"><img src=\"https://colab.research.google.com/assets/colab-badge.svg\" alt=\"Open In Colab\"/></a>"
      ]
    },
    {
      "cell_type": "code",
      "source": [
        "#SET:\n",
        "'''\n",
        "    --> Set is also advance datatype of PYTHON.\n",
        "    --> Set is used to store the multiple values in a single variable and it is seperated by comma.\n",
        "    --> Set values are enclosed in {} Curly Brackets.\n",
        "    --> Set is collections of UNIQUE Values.\n",
        "    --> Set is unorder.\n",
        "    --> Set stored only inmutable data types. example : {1,7,[1,2]} - inside the set list are not allowed.\n",
        "    --> Set is a MUTABLE Data Types.\n",
        "    --> Set cannot created a nested set.\n",
        "    --> Set does not allow the indexing because set is an unorder.\n",
        "    --> Empty set are not created by using {}\n",
        "    --> SYNTAX:\n",
        "                 variable_name ={value1,value2,value3,............}\n",
        "\n",
        "'''"
      ],
      "metadata": {
        "id": "zDj5Uz0wQ6eU"
      },
      "execution_count": null,
      "outputs": []
    },
    {
      "cell_type": "code",
      "source": [
        "s1={12,1.1,True,'AMIT',0,False,7+7j}\n",
        "print(s1)"
      ],
      "metadata": {
        "colab": {
          "base_uri": "https://localhost:8080/"
        },
        "id": "5ceAsvWfS5Zx",
        "outputId": "f4155a9e-81a7-4e5a-b3e5-9d5a57db20bc"
      },
      "execution_count": null,
      "outputs": [
        {
          "output_type": "stream",
          "name": "stdout",
          "text": [
            "{0, 1.1, True, 12, (7+7j), 'AMIT'}\n"
          ]
        }
      ]
    },
    {
      "cell_type": "code",
      "source": [
        "# METHOD OF SET IN DATA TYPES\n",
        "'''\n",
        "                                TO ADD VALUES IN A SET\n",
        "1. add(value): It add the values in a set\n",
        "2. update(iterable object): It is used to add another set or iterable object in current set.\n",
        "                               \n",
        "                               TO REMOVE VALUES IN A SET\n",
        "3. remove(value): It is used to remove the value from set, if present otherwise it will give error in output as KEY Error.\n",
        "4. discard(value): It is used to remove the values in a set, But if values are not present in a set it does not gives an Error.\n",
        "5. pop(): It removes any random values from set.\n",
        "6. clear(): It removes all values from set.\n",
        "7. union(): Return a set containing union of sets.\n",
        "8. intersection(): It is used to return set of common values of both set.\n",
        "9. diffrence(): It returns uncommon values of 1st set only.\n",
        "10. symmetric_difference(): It returns uncommon values of both set only.\n",
        "11. intersection_update():\n",
        "12. difference_update():\n",
        "13. symmetric_difference_update():\n",
        "\n",
        "'''"
      ],
      "metadata": {
        "id": "mZ5tXzRzUwun"
      },
      "execution_count": null,
      "outputs": []
    },
    {
      "cell_type": "code",
      "source": [
        "#ADD\n",
        "\n",
        "s2={1,9,7,3}\n",
        "print(s2)\n",
        "\n",
        "s2.add(44)\n",
        "print('After adding value in a SET: ',s2)\n",
        "\n",
        "s2.add('amit')\n",
        "print('After adding string in a SET: ',s2)\n"
      ],
      "metadata": {
        "colab": {
          "base_uri": "https://localhost:8080/"
        },
        "id": "R_gIBKziV6A6",
        "outputId": "2afc1e76-d8f1-45f8-f6d9-0f78d37bf9ff"
      },
      "execution_count": null,
      "outputs": [
        {
          "output_type": "stream",
          "name": "stdout",
          "text": [
            "{1, 3, 9, 7}\n",
            "After adding value in a SET:  {1, 3, 7, 9, 44}\n",
            "After adding string in a SET:  {1, 3, 'amit', 7, 9, 44}\n"
          ]
        }
      ]
    },
    {
      "cell_type": "code",
      "source": [
        "#UPADTE\n",
        "\n",
        "s2.update({4,6,7,85,63})\n",
        "print('After updating value in SET:', s2)\n",
        "\n",
        "\n",
        "s2.update('AMIT')\n",
        "print('After updating string in SET:', s2)"
      ],
      "metadata": {
        "colab": {
          "base_uri": "https://localhost:8080/"
        },
        "id": "e3MDuC4TXl7x",
        "outputId": "1083f903-33d6-4654-cae1-7c97f7dc06a2"
      },
      "execution_count": null,
      "outputs": [
        {
          "output_type": "stream",
          "name": "stdout",
          "text": [
            "After updating value in SET: {1, 3, 'amit', 4, 6, 7, 9, 44, 85, 63}\n",
            "After updating string in SET: {1, 3, 'amit', 4, 6, 7, 9, 'I', 44, 'M', 'A', 85, 'T', 63}\n"
          ]
        }
      ]
    },
    {
      "cell_type": "code",
      "source": [
        "#REMOVE\n",
        "\n",
        "s2.remove(9)\n",
        "print('After removing 9 in set:',s2)\n"
      ],
      "metadata": {
        "colab": {
          "base_uri": "https://localhost:8080/"
        },
        "id": "zFOO8m_cX5Mo",
        "outputId": "678120db-58fc-4409-9796-bdf904bce077"
      },
      "execution_count": null,
      "outputs": [
        {
          "output_type": "stream",
          "name": "stdout",
          "text": [
            "After removing 9 in set: {1, 3, 'amit', 4, 6, 7, 'I', 'M', 'A', 85, 'T', 63}\n"
          ]
        }
      ]
    },
    {
      "cell_type": "code",
      "source": [
        "#DISCARD\n",
        "\n",
        "s3={8,9,63,45,22}\n",
        "s3.discard(9)\n",
        "print('After discard:',s3)\n",
        "\n",
        "#7 is not present in set then too it does not show an error.\n",
        "s3.discard(7)\n",
        "print('After discard :',s3)\n"
      ],
      "metadata": {
        "colab": {
          "base_uri": "https://localhost:8080/"
        },
        "id": "6UT9KlRrYzvf",
        "outputId": "222cdcef-76dd-470b-95e7-cdd48e97b111"
      },
      "execution_count": null,
      "outputs": [
        {
          "output_type": "stream",
          "name": "stdout",
          "text": [
            "After discard: {8, 45, 22, 63}\n",
            "After discard : {8, 45, 22, 63}\n"
          ]
        }
      ]
    },
    {
      "cell_type": "code",
      "source": [
        "#POP\n",
        "\n",
        "s3.pop()\n",
        "print('After POP: ',s3)"
      ],
      "metadata": {
        "colab": {
          "base_uri": "https://localhost:8080/"
        },
        "id": "CtelDVr9ZkoO",
        "outputId": "bb1482aa-ebab-404c-a1c5-0a898d55a9a0"
      },
      "execution_count": null,
      "outputs": [
        {
          "output_type": "stream",
          "name": "stdout",
          "text": [
            "After POP:  {45, 22, 63}\n"
          ]
        }
      ]
    },
    {
      "cell_type": "code",
      "source": [
        "#CLEAR\n",
        "\n",
        "s3.clear()\n",
        "print('After clear:',s3)"
      ],
      "metadata": {
        "colab": {
          "base_uri": "https://localhost:8080/"
        },
        "id": "WmQ6FFLMaD8k",
        "outputId": "3d9301dd-1f9e-4822-b412-b7230f11959d"
      },
      "execution_count": null,
      "outputs": [
        {
          "output_type": "stream",
          "name": "stdout",
          "text": [
            "After clear: set()\n"
          ]
        }
      ]
    },
    {
      "cell_type": "code",
      "source": [
        "#INTERSECTION\n",
        "\n",
        "s4={1,2,3,4}\n",
        "s5={7,8,1,2,66}\n",
        "\n",
        "s6=s4.intersection(s5)\n",
        "print('s4',s4)\n",
        "print('s5',s5)\n",
        "print('s6',s6)\n",
        "\n"
      ],
      "metadata": {
        "colab": {
          "base_uri": "https://localhost:8080/"
        },
        "id": "e2lPI3k0ckTv",
        "outputId": "ec2c4441-4fe5-4d77-dc77-b9a929b37c0f"
      },
      "execution_count": null,
      "outputs": [
        {
          "output_type": "stream",
          "name": "stdout",
          "text": [
            "s4 {1, 2, 3, 4}\n",
            "s5 {1, 2, 66, 7, 8}\n",
            "s6 {1, 2}\n"
          ]
        }
      ]
    },
    {
      "cell_type": "code",
      "source": [
        "#DIFFERENCE\n",
        "\n",
        "s6=s4.difference(s5)\n",
        "print('s4',s4)\n",
        "print('s5',s5)\n",
        "print('s6',s6)"
      ],
      "metadata": {
        "colab": {
          "base_uri": "https://localhost:8080/"
        },
        "id": "1F5PM1jCdCU2",
        "outputId": "208839b0-a879-4af5-daa6-c5fbcfc6835c"
      },
      "execution_count": null,
      "outputs": [
        {
          "output_type": "stream",
          "name": "stdout",
          "text": [
            "s4 {1, 2, 3, 4}\n",
            "s5 {1, 2, 66, 7, 8}\n",
            "s6 {3, 4}\n"
          ]
        }
      ]
    },
    {
      "cell_type": "code",
      "source": [
        "#SYMMETRIC DIFFERENCE\n",
        "\n",
        "s6=s4.symmetric_difference(s5)\n",
        "print('s4',s4)\n",
        "print('s5',s5)\n",
        "print('s6',s6)"
      ],
      "metadata": {
        "colab": {
          "base_uri": "https://localhost:8080/"
        },
        "id": "PD3Y4oAmeVR8",
        "outputId": "16b06cf7-ef89-4c8b-bb17-96344b46a686"
      },
      "execution_count": null,
      "outputs": [
        {
          "output_type": "stream",
          "name": "stdout",
          "text": [
            "s4 {1, 2, 3, 4}\n",
            "s5 {1, 2, 66, 7, 8}\n",
            "s6 {66, 3, 4, 7, 8}\n"
          ]
        }
      ]
    },
    {
      "cell_type": "code",
      "source": [
        "#intersection_update():\n",
        "\n",
        "s1={1,3,7,8}\n",
        "s2={3,7,9,6}\n",
        "s1.intersection_update(s2)\n",
        "print('After Intersection Update:',s1)\n",
        "print('After Intersection Update:',s2)\n",
        "\n"
      ],
      "metadata": {
        "colab": {
          "base_uri": "https://localhost:8080/"
        },
        "id": "eZPRVpo2fNQq",
        "outputId": "7b3585c1-2eef-4f2b-d2e5-e75810d82af7"
      },
      "execution_count": null,
      "outputs": [
        {
          "output_type": "stream",
          "name": "stdout",
          "text": [
            "After Intersection Update: {3, 7}\n",
            "After Intersection Update: {9, 3, 6, 7}\n"
          ]
        }
      ]
    },
    {
      "cell_type": "code",
      "source": [
        "#difference_update():\n",
        "\n",
        "s1.difference_update(s2)\n",
        "print('After Difference Update:',s1)\n",
        "print('After Difference Update:',s2)\n"
      ],
      "metadata": {
        "colab": {
          "base_uri": "https://localhost:8080/"
        },
        "id": "1THFBXbPfSgC",
        "outputId": "de3c95fb-a537-4d9a-b168-a70700392e18"
      },
      "execution_count": null,
      "outputs": [
        {
          "output_type": "stream",
          "name": "stdout",
          "text": [
            "After Difference Update: set()\n",
            "After Difference Update: {9, 3, 6, 7}\n"
          ]
        }
      ]
    },
    {
      "cell_type": "code",
      "source": [
        "#symmetric_difference_update():\n",
        "\n",
        "s1.symmetric_difference_update(s2)\n",
        "print('After Symmetric Difference Update:',s1)\n",
        "print('After Symmetric Difference Update:',s2)\n",
        "\n"
      ],
      "metadata": {
        "colab": {
          "base_uri": "https://localhost:8080/"
        },
        "id": "LHXZmtYiff-J",
        "outputId": "a289ebb0-f403-42f1-ee04-343b8d845204"
      },
      "execution_count": null,
      "outputs": [
        {
          "output_type": "stream",
          "name": "stdout",
          "text": [
            "After Symmetric Difference Update: {9, 3, 6, 7}\n",
            "After Symmetric Difference Update: {9, 3, 6, 7}\n"
          ]
        }
      ]
    },
    {
      "cell_type": "code",
      "source": [
        "#RESEARCH OTHER METHOD OF SETS (HOMEWORK)\n",
        "'''\n",
        "1. isdsjoint() : Return whether 2 set have a intersection or not.\n",
        "2. issubset() : Return whether another set contain this set or not.\n",
        "3. issuperset() : Return whether this set contains another set or not\n",
        "\n",
        "'''"
      ],
      "metadata": {
        "id": "ZMNtoOkmgydQ"
      },
      "execution_count": null,
      "outputs": []
    },
    {
      "cell_type": "code",
      "source": [
        ""
      ],
      "metadata": {
        "id": "gRQgnTgPhDLP"
      },
      "execution_count": null,
      "outputs": []
    },
    {
      "cell_type": "code",
      "source": [
        "#SET OPERATION WITH OPERATOR\n",
        "\n",
        "#INTERSECTION OPERATOR\n",
        "s1={1,2,3,4,7}\n",
        "s2={7,8,9,11}\n",
        "s3=s1&s2\n",
        "print(s3)"
      ],
      "metadata": {
        "colab": {
          "base_uri": "https://localhost:8080/"
        },
        "id": "GS-HvDQPhDDv",
        "outputId": "edd7d838-9bd2-4f94-f697-e8d2c14409ee"
      },
      "execution_count": null,
      "outputs": [
        {
          "output_type": "stream",
          "name": "stdout",
          "text": [
            "{7}\n"
          ]
        }
      ]
    },
    {
      "cell_type": "code",
      "source": [
        "#UNION OPERATOR\n",
        "#nOTE: + OPERATOR NOT SUPPORTED IN SET\n",
        "s1={1,2,3,4,7}\n",
        "s2={7,8,9,11}\n",
        "s3=s1|s2\n",
        "print(s3)"
      ],
      "metadata": {
        "colab": {
          "base_uri": "https://localhost:8080/"
        },
        "id": "G7wRzqcRhyHN",
        "outputId": "dbf6db9b-569d-400b-8945-3b7cc9a6305b"
      },
      "execution_count": null,
      "outputs": [
        {
          "output_type": "stream",
          "name": "stdout",
          "text": [
            "{1, 2, 3, 4, 7, 8, 9, 11}\n"
          ]
        }
      ]
    },
    {
      "cell_type": "code",
      "source": [
        "#DIFFERENCE OPERATOR\n",
        "\n",
        "s1={1,2,3,4,7}\n",
        "s2={7,8,9,11}\n",
        "s3=s1-s2\n",
        "print(s3)"
      ],
      "metadata": {
        "colab": {
          "base_uri": "https://localhost:8080/"
        },
        "id": "RaSWDRrziI9F",
        "outputId": "5c410493-9007-43cc-b021-79cbeec580e6"
      },
      "execution_count": null,
      "outputs": [
        {
          "output_type": "stream",
          "name": "stdout",
          "text": [
            "{1, 2, 3, 4}\n"
          ]
        }
      ]
    },
    {
      "cell_type": "code",
      "source": [
        "# SYMMETRIC DIFFERENCE OPERATOR\n",
        "s1={1,2,3,4,7}\n",
        "s2={7,8,9,11}\n",
        "s3=s1^s2\n",
        "print(s3)"
      ],
      "metadata": {
        "colab": {
          "base_uri": "https://localhost:8080/"
        },
        "id": "M_x94h7FicZ9",
        "outputId": "783dbd07-2b81-4827-e474-18b522ef0be2"
      },
      "execution_count": null,
      "outputs": [
        {
          "output_type": "stream",
          "name": "stdout",
          "text": [
            "{1, 2, 3, 4, 8, 9, 11}\n"
          ]
        }
      ]
    },
    {
      "cell_type": "code",
      "source": [
        ""
      ],
      "metadata": {
        "id": "4Rz6E_USjGNl"
      },
      "execution_count": null,
      "outputs": []
    },
    {
      "cell_type": "code",
      "source": [
        "# DICTIONARY\n",
        "'''\n",
        "   --> It is also an advance datatype of PYTHON\n",
        "   --> It is used to store a multple values in a pair form of KEY:VALUES\n",
        "   --> Pairs of dictionary are enclosed in {} Curly Brackets.\n",
        "   --> Pairs are sperated by comma and a key and values are seprated by colon.\n",
        "   --> It is MUTUABLE DATA TYPE.\n",
        "   --> It is Order.\n",
        "   --> SYNTAX:\n",
        "          variable_name={ Key:Value, key2:value,key3:value3,......}\n",
        "\n",
        "\n",
        "RULES FOR KEY:\n",
        "--> Key of dictionary cannot be duplicate.\n",
        "--> Key of dictionary is Unique.\n",
        "--> Key is always INMUTUABLE TYPE\n",
        "--> Key is used as a index to fetch the value of respected key.\n",
        "\n",
        "RULES FOR VALUE:\n",
        "--> Duplicate values are allowed in dictionary.\n",
        "--> Values of dictionary can be any type.\n",
        "\n",
        "'''"
      ],
      "metadata": {
        "id": "GYx8IjuNjGH_"
      },
      "execution_count": null,
      "outputs": []
    },
    {
      "cell_type": "code",
      "source": [
        "d1={1:1, 'brand': 3,(1,2):5}\n",
        "print(d1)\n",
        "\n"
      ],
      "metadata": {
        "colab": {
          "base_uri": "https://localhost:8080/"
        },
        "id": "tBbaQ3V3l5KQ",
        "outputId": "75c204ac-9c13-4658-cba3-17d9b11e7f7c"
      },
      "execution_count": null,
      "outputs": [
        {
          "output_type": "stream",
          "name": "stdout",
          "text": [
            "{1: 1, 'brand': 3, (1, 2): 5}\n"
          ]
        }
      ]
    },
    {
      "cell_type": "code",
      "source": [
        "#EMPLOYEE INFORMATION\n",
        "\n",
        "emp={'Id': 101, 'Name':'Ujwal Jain','Salary':500000}\n",
        "print('Id: ',emp['Id'])\n",
        "print('Name: ',emp['Name'])\n",
        "print('Salary: ',emp['Salary'])\n",
        "\n",
        "#here id,name,salary are keys\n",
        "# here 101, Ujawal Jain, 30000 are values"
      ],
      "metadata": {
        "colab": {
          "base_uri": "https://localhost:8080/"
        },
        "id": "Fb7Dr2-hnZQd",
        "outputId": "7e2faf49-7a18-4147-e294-1acddbc6c656"
      },
      "execution_count": null,
      "outputs": [
        {
          "output_type": "stream",
          "name": "stdout",
          "text": [
            "Id:  101\n",
            "Name:  Ujwal Jain\n",
            "Salary:  500000\n"
          ]
        }
      ]
    },
    {
      "cell_type": "code",
      "source": [
        "#To add new key \n",
        "\n",
        "emp['Department']='AI Developer'\n",
        "print(emp)"
      ],
      "metadata": {
        "colab": {
          "base_uri": "https://localhost:8080/"
        },
        "id": "y7v9sa67pZqS",
        "outputId": "3dc362ca-16a3-41ba-9e3a-daf76d230c87"
      },
      "execution_count": null,
      "outputs": [
        {
          "output_type": "stream",
          "name": "stdout",
          "text": [
            "{'Id': 101, 'Name': 'Ujwal Jain', 'Salary': 500000, 'Department': 'AI Developer'}\n"
          ]
        }
      ]
    },
    {
      "cell_type": "code",
      "source": [
        "#To replace/update values in existing \n",
        "\n",
        "emp['Salary']=700000\n",
        "print(emp)"
      ],
      "metadata": {
        "colab": {
          "base_uri": "https://localhost:8080/"
        },
        "id": "S24NPr5Kp0Ih",
        "outputId": "93053aaf-d81f-4638-84a5-ba3520e5dbcd"
      },
      "execution_count": null,
      "outputs": [
        {
          "output_type": "stream",
          "name": "stdout",
          "text": [
            "{'Id': 101, 'Name': 'Ujwal Jain', 'Salary': 700000, 'Department': 'AI Developer'}\n"
          ]
        }
      ]
    }
  ]
}