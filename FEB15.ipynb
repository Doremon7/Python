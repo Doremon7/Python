{
  "nbformat": 4,
  "nbformat_minor": 0,
  "metadata": {
    "colab": {
      "name": "FEB15.ipynb",
      "provenance": [],
      "authorship_tag": "ABX9TyNUvKiBRbU//0HWovHZaNtX",
      "include_colab_link": true
    },
    "kernelspec": {
      "name": "python3",
      "display_name": "Python 3"
    },
    "language_info": {
      "name": "python"
    }
  },
  "cells": [
    {
      "cell_type": "markdown",
      "metadata": {
        "id": "view-in-github",
        "colab_type": "text"
      },
      "source": [
        "<a href=\"https://colab.research.google.com/github/mahtoamit/Python/blob/main/FEB15.ipynb\" target=\"_parent\"><img src=\"https://colab.research.google.com/assets/colab-badge.svg\" alt=\"Open In Colab\"/></a>"
      ]
    },
    {
      "cell_type": "code",
      "source": [
        "# METHOD OF LIST IN DATA TYPES\n",
        "'''\n",
        "                                 TO ADD VALUES IN LIST\n",
        "\n",
        " 1. APPEND --> It adds a single value at the end of a list\n",
        " 2. INSERT --> It is use to add new single values at specify positions. example : insert(index,values)\n",
        " 3. EXTEND --> It is use to add multople values into list at end of list always.\n",
        "\n",
        "                                 TO DELETE VALUES IN LIST \n",
        "\n",
        " 4. POP --> It is use to remove the values from specify index. \n",
        "            --> But bydefault it removes last values if we not put the index.\n",
        "           --> pop(index=-1)\n",
        "           --> If index is out of range gives error in output as index error.\n",
        " 5. REMOVE -->It is use to remove specifed elements from th list, if presnet otherwise gives error in output as Value Error.\n",
        "                   --> remove(element)\n",
        " 6. CLEAR --> It is used to remove all the elements in the list\n",
        "                --> clear()\n",
        " 7.index(value) -->  Return index of specified value.\n",
        "                       --> If values are not found in list it gives error in output as Value Error.\n",
        " 8. COUNT --> count(value)\n",
        "                 --> It is use to count and return the specified values in a list.\n",
        "                 --> If values are not found in list it will give 0 as a count.\n",
        " 9. SORT --> For ascending order - sort()\n",
        "               --> for descending order - sort(reverse=True)\n",
        "\n",
        "'''"
      ],
      "metadata": {
        "id": "VfJilbfQOiCg"
      },
      "execution_count": null,
      "outputs": []
    },
    {
      "cell_type": "code",
      "execution_count": null,
      "metadata": {
        "colab": {
          "base_uri": "https://localhost:8080/"
        },
        "id": "V6rlgqGP_nYZ",
        "outputId": "887fe3b3-6c6e-48aa-9894-3d0cd5a2fe86"
      },
      "outputs": [
        {
          "output_type": "stream",
          "name": "stdout",
          "text": [
            "[7, 8, 6, 44, 35, 22, 12, 9]\n"
          ]
        }
      ],
      "source": [
        "#APPEND - BUILT-IN-METHOD OF LIST\n",
        "\n",
        "l1=[7,8,6,44,35,22,12]\n",
        "l1.append(9)\n",
        "print(l1)\n"
      ]
    },
    {
      "cell_type": "code",
      "source": [
        "#INSERT \n",
        "\n",
        "l1.insert(3,777)\n",
        "print(l1)"
      ],
      "metadata": {
        "colab": {
          "base_uri": "https://localhost:8080/"
        },
        "id": "zz3FbwFwPQUW",
        "outputId": "ae71f8a7-2890-4318-d5fd-4dd63d3c8108"
      },
      "execution_count": null,
      "outputs": [
        {
          "output_type": "stream",
          "name": "stdout",
          "text": [
            "[7, 8, 6, 777, 44, 35, 22, 12, 9]\n"
          ]
        }
      ]
    },
    {
      "cell_type": "code",
      "source": [
        ""
      ],
      "metadata": {
        "id": "3Idv5ylulXD0"
      },
      "execution_count": null,
      "outputs": []
    },
    {
      "cell_type": "code",
      "source": [
        ""
      ],
      "metadata": {
        "id": "aOxj0-xnlYyj"
      },
      "execution_count": null,
      "outputs": []
    },
    {
      "cell_type": "code",
      "source": [
        ""
      ],
      "metadata": {
        "id": "bk1iXETplYWL"
      },
      "execution_count": null,
      "outputs": []
    },
    {
      "cell_type": "code",
      "source": [
        "#EXTEND\n",
        "\n",
        "l1.extend([6324,452,6663,1212,5])\n",
        "print(l1)"
      ],
      "metadata": {
        "colab": {
          "base_uri": "https://localhost:8080/"
        },
        "id": "lgWrx_w3QO1V",
        "outputId": "20c8fbe3-e7bf-432d-9bee-b3af693eac63"
      },
      "execution_count": null,
      "outputs": [
        {
          "output_type": "stream",
          "name": "stdout",
          "text": [
            "[7, 8, 6, 777, 44, 35, 22, 12, 9, 6324, 452, 6663, 1212, 5]\n"
          ]
        }
      ]
    },
    {
      "cell_type": "code",
      "source": [
        "#POP\n",
        "\n",
        "l1.pop()\n",
        "print('After pop without index: ', l1)\n",
        "\n",
        "l1.pop(5)\n",
        "print('After pop with index: ', l1)\n"
      ],
      "metadata": {
        "colab": {
          "base_uri": "https://localhost:8080/"
        },
        "id": "OskjAszTSBLL",
        "outputId": "d164160a-3625-46c8-94ff-d4a7a638114b"
      },
      "execution_count": null,
      "outputs": [
        {
          "output_type": "stream",
          "name": "stdout",
          "text": [
            "After pop without index:  [7, 8, 6, 777, 44, 35, 22, 12, 9, 6324, 452, 6663]\n",
            "After pop with index:  [7, 8, 6, 777, 44, 22, 12, 9, 6324, 452, 6663]\n"
          ]
        }
      ]
    },
    {
      "cell_type": "code",
      "source": [
        "#REMOVE\n",
        "\n",
        "l1.remove(777)\n",
        "print(l1)"
      ],
      "metadata": {
        "colab": {
          "base_uri": "https://localhost:8080/"
        },
        "id": "_4e9f-inTOsR",
        "outputId": "d84b48a7-20ab-4058-dc06-9563741996f4"
      },
      "execution_count": null,
      "outputs": [
        {
          "output_type": "stream",
          "name": "stdout",
          "text": [
            "[7, 8, 6, 44, 22, 12, 9, 6324, 452, 6663]\n"
          ]
        }
      ]
    },
    {
      "cell_type": "code",
      "source": [
        "#CLEAR\n",
        "\n",
        "l2=[7,8,99,65]\n",
        "l2.clear()\n",
        "print(l2)\n"
      ],
      "metadata": {
        "colab": {
          "base_uri": "https://localhost:8080/"
        },
        "id": "OkJcZig-UUKf",
        "outputId": "b63619fc-83a7-4bbf-eea2-5724ab9fa2b9"
      },
      "execution_count": null,
      "outputs": [
        {
          "output_type": "stream",
          "name": "stdout",
          "text": [
            "[]\n"
          ]
        }
      ]
    },
    {
      "cell_type": "code",
      "source": [
        ""
      ],
      "metadata": {
        "id": "Q8rdbxhJles0"
      },
      "execution_count": null,
      "outputs": []
    },
    {
      "cell_type": "code",
      "source": [
        "# index(values)\n",
        "\n",
        "l3=[22,34,11,67,88,6,454,]\n",
        "print('index of 88:', l3.index(88))"
      ],
      "metadata": {
        "colab": {
          "base_uri": "https://localhost:8080/"
        },
        "id": "qdfHazUoVwOD",
        "outputId": "4d41d9ec-7c84-4996-8541-1805b8439fa8"
      },
      "execution_count": null,
      "outputs": [
        {
          "output_type": "stream",
          "name": "stdout",
          "text": [
            "index of 88: 4\n"
          ]
        }
      ]
    },
    {
      "cell_type": "code",
      "source": [
        "# count(values)\n",
        "\n",
        "l3=[22,11,11,67,88,6,11,498,55,63,11,]\n",
        "print('Count of 11:', l3.count(11), )"
      ],
      "metadata": {
        "colab": {
          "base_uri": "https://localhost:8080/"
        },
        "id": "HA9bxSCCWirD",
        "outputId": "8e918abc-4703-4a0b-d614-99dec8d56a86"
      },
      "execution_count": null,
      "outputs": [
        {
          "output_type": "stream",
          "name": "stdout",
          "text": [
            "Count of 11: 4\n"
          ]
        }
      ]
    },
    {
      "cell_type": "code",
      "source": [
        "# sort()\n",
        "\n",
        "l3.sort()\n",
        "print('After sorting the list:', l3)\n",
        "\n",
        "l3.sort(reverse=True)\n",
        "print('After sorting the list in reverse order :', l3)\n",
        "\n"
      ],
      "metadata": {
        "colab": {
          "base_uri": "https://localhost:8080/"
        },
        "id": "ymykOtWvXevy",
        "outputId": "6fb6cf80-310d-4d38-8bfb-c2b4a301d956"
      },
      "execution_count": null,
      "outputs": [
        {
          "output_type": "stream",
          "name": "stdout",
          "text": [
            "After sorting the list: [6, 11, 11, 11, 11, 22, 55, 63, 67, 88, 498]\n",
            "After sorting the list in reverse order : [498, 88, 67, 63, 55, 22, 11, 11, 11, 11, 6]\n"
          ]
        }
      ]
    },
    {
      "cell_type": "code",
      "source": [
        "#TUPLE:\n",
        "'''\n",
        "         --> It is advance data type of PYTHON.\n",
        "         --> It is used to store multiple values in a single variable and sperated by comma.\n",
        "         --> Tuple values are enclosed in ( ) Round Brackets.\n",
        "         --> It is a default data type in advance type.\n",
        "         --> Tuple allows the duplicate values.\n",
        "         --> Tuple allows indexing start from 0.\n",
        "         --> Tuple allows the negative indexing\n",
        "         --> Tuple are INMUTABLE/UNCHANGEABLE/UNMODIFIED\n",
        "         --> Tuples are fixed Data Types.\n",
        "\n",
        "         Syntax 1:\n",
        "                     variable_name=(value1,value2,value3.........)\n",
        "\n",
        "                              Syntax 2:\n",
        "                                         variable_name=value1,value2,value3..........\n",
        "\n",
        "\n",
        "'''"
      ],
      "metadata": {
        "id": "ADrf286_ZCz3"
      },
      "execution_count": null,
      "outputs": []
    },
    {
      "cell_type": "code",
      "source": [
        "#Example of Tuple\n",
        "\n",
        "t1=(1,2,55,667)\n",
        "t2= 2,34,56,77,89\n",
        "\n",
        "print('Tuple 1', t1, type(t1))\n",
        "print('Tuple 2', t2, type(t2))\n",
        "\n",
        "print('last value: ', t2[-2])\n"
      ],
      "metadata": {
        "colab": {
          "base_uri": "https://localhost:8080/"
        },
        "id": "P9MgL-UXawRk",
        "outputId": "75f68611-a9cb-467c-f331-b78003c20a62"
      },
      "execution_count": null,
      "outputs": [
        {
          "output_type": "stream",
          "name": "stdout",
          "text": [
            "Tuple 1 (1, 2, 55, 667) <class 'tuple'>\n",
            "Tuple 2 (2, 34, 56, 77, 89) <class 'tuple'>\n",
            "last value:  77\n"
          ]
        }
      ]
    },
    {
      "cell_type": "code",
      "source": [
        "# TO GET THE Address of variable\n",
        "\n",
        "a=2\n",
        "print('a', a, 'Memory Address is - ', id(a))\n",
        "\n",
        "b=7\n",
        "print('b', b, 'Memory Address is - ', id(b))\n"
      ],
      "metadata": {
        "colab": {
          "base_uri": "https://localhost:8080/"
        },
        "id": "2fiuxDVreLvH",
        "outputId": "53df9a5c-953b-4e87-8582-caf95e96ee0e"
      },
      "execution_count": null,
      "outputs": [
        {
          "output_type": "stream",
          "name": "stdout",
          "text": [
            "a 2 Memory Address is -  94280444660256\n",
            "b 7 Memory Address is -  94280444660416\n"
          ]
        }
      ]
    },
    {
      "cell_type": "code",
      "source": [
        "# TO GET THE Address of List\n",
        "\n",
        "l1=[9,7,44]\n",
        "print(l1,id(l1))\n",
        "l2=[9,7,44]\n",
        "print(l2,id(l2))\n",
        "\n",
        "#list address should be always different"
      ],
      "metadata": {
        "colab": {
          "base_uri": "https://localhost:8080/"
        },
        "id": "ii7tXfBMfUDe",
        "outputId": "2ef5f1b2-bef2-4860-9558-28875d3a83ae"
      },
      "execution_count": null,
      "outputs": [
        {
          "output_type": "stream",
          "name": "stdout",
          "text": [
            "[9, 7, 44] 140287131359104\n",
            "[9, 7, 44] 140287131829104\n"
          ]
        }
      ]
    },
    {
      "cell_type": "code",
      "source": [
        "# TO GET THE Address of TUPLE\n",
        "\n",
        "t1=(9,7,44)\n",
        "print(t1,id(t1))\n",
        "t2=(9,7,44)\n",
        "print(t2,id(t2))\n",
        "\n",
        "\n",
        "#tuple address should be always same"
      ],
      "metadata": {
        "colab": {
          "base_uri": "https://localhost:8080/"
        },
        "id": "N7ufVb8jfqNu",
        "outputId": "2d84c03d-3027-4230-c25c-ee02ed9e4dc1"
      },
      "execution_count": null,
      "outputs": [
        {
          "output_type": "stream",
          "name": "stdout",
          "text": [
            "(9, 7, 44) 140287131319744\n",
            "(9, 7, 44) 140287132073408\n"
          ]
        }
      ]
    },
    {
      "cell_type": "code",
      "source": [
        "# METHOD OF TUPLE IN DATA TYPES\n",
        "'''\n",
        " 1. index(value) -->  Return index of specified value.\n",
        "                       --> If values are not found in list it gives error in output as Value Error.\n",
        " 2. COUNT --> count(value)\n",
        "                 --> It is use to count and return the specified values in a list.\n",
        "                 --> If values are not found in list it will give 0 as a count.\n",
        "\n",
        "'''\n"
      ],
      "metadata": {
        "id": "5fR_cXykk4y2"
      },
      "execution_count": null,
      "outputs": []
    }
  ]
}