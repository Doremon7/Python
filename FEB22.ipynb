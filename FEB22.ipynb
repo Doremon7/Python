{
  "nbformat": 4,
  "nbformat_minor": 0,
  "metadata": {
    "colab": {
      "name": "FEB22.ipynb",
      "provenance": [],
      "authorship_tag": "ABX9TyOGN+hK622rea4cCDxRMtSq",
      "include_colab_link": true
    },
    "kernelspec": {
      "name": "python3",
      "display_name": "Python 3"
    },
    "language_info": {
      "name": "python"
    }
  },
  "cells": [
    {
      "cell_type": "markdown",
      "metadata": {
        "id": "view-in-github",
        "colab_type": "text"
      },
      "source": [
        "<a href=\"https://colab.research.google.com/github/mahtoamit/Python/blob/main/FEB22.ipynb\" target=\"_parent\"><img src=\"https://colab.research.google.com/assets/colab-badge.svg\" alt=\"Open In Colab\"/></a>"
      ]
    },
    {
      "cell_type": "markdown",
      "source": [
        "**FUNCTION**"
      ],
      "metadata": {
        "id": "XD6ZbqtcJd9z"
      }
    },
    {
      "cell_type": "code",
      "execution_count": null,
      "metadata": {
        "id": "SNR7N6XkFHyY"
      },
      "outputs": [],
      "source": [
        "'''\n",
        "--> Function is a name of block code which is use to execute specific task.\n",
        "Benifits of Functions:\n",
        "1. Function are use to divide larger program into smaller one.\n",
        "2. Function are use to achive code reusability.\n",
        "\n",
        "There are 2types of function in PYTHON\n",
        "1. Built-in-function.\n",
        "2. User-define-function also known as Custom Function.\n",
        "\n",
        "                                                                  ----------------------BULIT-IN-FUNCTION----------------------------\n",
        "       -->The function provided by python itself is known as built-in-function\n",
        "       --> Built-in-function are directly use program.\n",
        "       --> Example: print(),input(),type(),int()......\n",
        "       --> sum(): Used to perform summation of two numbers also use iterable object.\n",
        "'''"
      ]
    },
    {
      "cell_type": "code",
      "source": [
        "print(sum([9,9]))"
      ],
      "metadata": {
        "colab": {
          "base_uri": "https://localhost:8080/"
        },
        "id": "q3FtNQrbMUq_",
        "outputId": "b4d17ae9-7d82-4d7d-e9de-de15d0a9d4b3"
      },
      "execution_count": null,
      "outputs": [
        {
          "output_type": "stream",
          "name": "stdout",
          "text": [
            "18\n"
          ]
        }
      ]
    },
    {
      "cell_type": "code",
      "source": [
        "print(\"Addition of set values\",sum({9,8}))"
      ],
      "metadata": {
        "colab": {
          "base_uri": "https://localhost:8080/"
        },
        "id": "yD1u46UVMvCd",
        "outputId": "f1359eac-7368-4318-a84c-6be70ab5e5ab"
      },
      "execution_count": null,
      "outputs": [
        {
          "output_type": "stream",
          "name": "stdout",
          "text": [
            "Addition of set values 17\n"
          ]
        }
      ]
    },
    {
      "cell_type": "code",
      "source": [
        "print('Addition of tuple values',sum((9,9)))"
      ],
      "metadata": {
        "colab": {
          "base_uri": "https://localhost:8080/"
        },
        "id": "NRg_KESOM9D1",
        "outputId": "6f2730c6-3942-45be-b0c8-1e09fb42fd7e"
      },
      "execution_count": null,
      "outputs": [
        {
          "output_type": "stream",
          "name": "stdout",
          "text": [
            "Addition of tuple values 18\n"
          ]
        }
      ]
    },
    {
      "cell_type": "code",
      "source": [
        "l1=[7,8,9,63,25,00,6,886,65,85]\n",
        "print('Maximum Number from List is: ', max(l1))\n",
        "print('Minimum Number from List is: ', min(l1))\n",
        "print('Sumation  of List is: ', sum(l1))\n",
        "print('sorted  of List is: ', sorted(l1,reverse=True))\n"
      ],
      "metadata": {
        "colab": {
          "base_uri": "https://localhost:8080/"
        },
        "id": "N1okV_2FNrNl",
        "outputId": "9d911961-ba49-47b9-977a-0f54ccc4bfdc"
      },
      "execution_count": null,
      "outputs": [
        {
          "output_type": "stream",
          "name": "stdout",
          "text": [
            "Maximum Number from List is:  886\n",
            "Minimum Number from List is:  0\n",
            "Sumation  of List is:  1154\n",
            "sorted  of List is:  [886, 85, 65, 63, 25, 9, 8, 7, 6, 0]\n"
          ]
        }
      ]
    },
    {
      "cell_type": "code",
      "source": [
        ""
      ],
      "metadata": {
        "id": "jJhUi12YjkpH"
      },
      "execution_count": null,
      "outputs": []
    },
    {
      "cell_type": "code",
      "source": [
        ""
      ],
      "metadata": {
        "id": "IhPU8njYjkmP"
      },
      "execution_count": null,
      "outputs": []
    },
    {
      "cell_type": "code",
      "source": [
        ""
      ],
      "metadata": {
        "id": "gOQX5Aeajkjn"
      },
      "execution_count": null,
      "outputs": []
    },
    {
      "cell_type": "code",
      "source": [
        ""
      ],
      "metadata": {
        "id": "R52-CMfBjkgp"
      },
      "execution_count": null,
      "outputs": []
    },
    {
      "cell_type": "code",
      "source": [
        "'''\n",
        "          SORT                                                           |              SORTED\n",
        "\n",
        "1. It is a sort method of list type                            | 1. It is a sorted method of  core python library\n",
        "2. After sorting it returns the NONE                      | 2.  After sorting it returns the NEW LIST  \n",
        "3. sort method modify the Orginal List                  | 3. Sorted method does not modify the orignal list\n",
        "4. Sort is used with only and only list object         | 4. Sorted method sort the iterable object.\n",
        "5. Example: Shown below                                     | 5. Example: Shown below\n",
        "\n",
        "\n",
        "'''"
      ],
      "metadata": {
        "id": "jw3uDZjTQRPh"
      },
      "execution_count": null,
      "outputs": []
    },
    {
      "cell_type": "code",
      "source": [
        "#SORT\n",
        "\n",
        "l2=[7,5,2,3,965,54,63]\n",
        "print(l2)\n",
        "print(l2.sort(reverse=True))\n",
        "print (l2)"
      ],
      "metadata": {
        "colab": {
          "base_uri": "https://localhost:8080/"
        },
        "id": "tbuw4WXqSFj4",
        "outputId": "225cec2f-af2c-4f97-fb65-18fb13dd4eb2"
      },
      "execution_count": null,
      "outputs": [
        {
          "output_type": "stream",
          "name": "stdout",
          "text": [
            "[7, 5, 2, 3, 965, 54, 63]\n",
            "None\n",
            "[965, 63, 54, 7, 5, 3, 2]\n"
          ]
        }
      ]
    },
    {
      "cell_type": "code",
      "source": [
        "#SORTED\n",
        "\n",
        "l2=[7,5,2,3,965,54,63]\n",
        "print(l2)\n",
        "print(sorted(l2,reverse=True))\n",
        "print (l2)"
      ],
      "metadata": {
        "colab": {
          "base_uri": "https://localhost:8080/"
        },
        "id": "CN2rl32PShTw",
        "outputId": "da62770c-fe73-4255-dc99-c57f20a68e83"
      },
      "execution_count": null,
      "outputs": [
        {
          "output_type": "stream",
          "name": "stdout",
          "text": [
            "[7, 5, 2, 3, 965, 54, 63]\n",
            "[965, 63, 54, 7, 5, 3, 2]\n",
            "[7, 5, 2, 3, 965, 54, 63]\n"
          ]
        }
      ]
    },
    {
      "cell_type": "code",
      "source": [
        "'''\n",
        "USER DEFINE FUNCTION\n",
        "\n",
        "--> The function which define/create by user as per the requirements is know as user define functions.\n",
        "--> Every python function by default it return NONE VALUE.\n",
        "\n",
        "       SYNTAX (for function defenation): def()\n",
        "              def function_name(parameters list if any)\n",
        "                statement to be execute when function is call.\n",
        "                *****\n",
        "                ***\n",
        "\n",
        "        SYNTAX (for function calling/invoking):\n",
        "            function_name(value for parameters)\n",
        "\n",
        "'''"
      ],
      "metadata": {
        "id": "Qxrw4AuoTSCH"
      },
      "execution_count": null,
      "outputs": []
    },
    {
      "cell_type": "markdown",
      "source": [
        "# 1. No parameters and no return\n"
      ],
      "metadata": {
        "id": "4QvcU8YTblNo"
      }
    },
    {
      "cell_type": "code",
      "source": [
        "#Example\n",
        "#No parameters and no return\n",
        "def sayhello():\n",
        "  print('Hello Everyone!!!!!!!!!!!')\n",
        "  print('How are You?.........')\n",
        "\n",
        "\n",
        "sayhello()             #calling the function\n",
        "sayhello()             #calling the function\n",
        "\n",
        "a=sayhello()  \n",
        "print(a)"
      ],
      "metadata": {
        "colab": {
          "base_uri": "https://localhost:8080/"
        },
        "id": "DV9_Gn84U7ve",
        "outputId": "942b95c2-4f35-41d0-fba3-e03c8bf3331e"
      },
      "execution_count": null,
      "outputs": [
        {
          "output_type": "stream",
          "name": "stdout",
          "text": [
            "Hello Everyone!!!!!!!!!!!\n",
            "How are You?.........\n",
            "Hello Everyone!!!!!!!!!!!\n",
            "How are You?.........\n",
            "Hello Everyone!!!!!!!!!!!\n",
            "How are You?.........\n",
            "None\n"
          ]
        }
      ]
    },
    {
      "cell_type": "markdown",
      "source": [
        "# 2. Parameter with No return value.\n"
      ],
      "metadata": {
        "id": "6PonOfAQbhoP"
      }
    },
    {
      "cell_type": "code",
      "source": [
        "#2ND Writing style - Paramter with No return value.\n",
        "\n",
        "def welcomeuser(name):                  #we have added name as a parameter here\n",
        "  print('Welcome to ItVedant........')\n",
        "  print('Hello', name)\n",
        "\n",
        "welcomeuser('Amit')\n",
        "\n",
        "#pass to value to the function as keyword argument\n",
        "welcomeuser(name='Rahul')               #keyword argument"
      ],
      "metadata": {
        "colab": {
          "base_uri": "https://localhost:8080/"
        },
        "id": "EG0F8GjXXNVb",
        "outputId": "9176d020-763e-42a0-bd28-42131be5c5ad"
      },
      "execution_count": null,
      "outputs": [
        {
          "output_type": "stream",
          "name": "stdout",
          "text": [
            "Welcome to ItVedant........\n",
            "Hello Amit\n",
            "Welcome to ItVedant........\n",
            "Hello Rahul\n"
          ]
        }
      ]
    },
    {
      "cell_type": "markdown",
      "source": [
        "# 2. Parameter with No return value.\n"
      ],
      "metadata": {
        "id": "onRADjVabNfo"
      }
    },
    {
      "cell_type": "code",
      "source": [
        "#wap to create a function with user data which accept name and age and print it in proper format\n",
        "#2ND Writing style - Paramter with No return value.\n",
        "\n",
        "def userdata(name,age):\n",
        "  print(f'Hello, My Name is {name} and My age is {age} years old.')\n",
        "  print('Thank You...!!!!!')\n",
        "\n",
        "userdata('AMIT',23)\n",
        "userdata(23,'AMIT')\n",
        "\n",
        "userdata(age=23,name='AMIT')    #using keyword arguments\n",
        "\n"
      ],
      "metadata": {
        "colab": {
          "base_uri": "https://localhost:8080/"
        },
        "id": "j2yI8l7eY6Lh",
        "outputId": "fd447575-6681-458e-f98b-0d34d29ed53a"
      },
      "execution_count": null,
      "outputs": [
        {
          "output_type": "stream",
          "name": "stdout",
          "text": [
            "Hello, My Name is AMIT and My age is 23 years old.\n",
            "Thank You...!!!!!\n",
            "Hello, My Name is 23 and My age is AMIT years old.\n",
            "Thank You...!!!!!\n",
            "Hello, My Name is AMIT and My age is 23 years old.\n",
            "Thank You...!!!!!\n"
          ]
        }
      ]
    },
    {
      "cell_type": "code",
      "source": [
        "'''\n",
        " Return Statement:\n",
        "\n",
        " --> Return statement is used to return some values from function.\n",
        " --> It return single value of any type it may be int,float,list,tuple etc.\n",
        " --> It return multiple values seperated by comma, and it is consider as TUPLE.\n",
        " --> It is also use to stop the execution of function.\n",
        "'''"
      ],
      "metadata": {
        "id": "n2H2yJ8sbXev"
      },
      "execution_count": null,
      "outputs": []
    },
    {
      "cell_type": "markdown",
      "source": [
        "# 3. No Parameter With Return Value"
      ],
      "metadata": {
        "id": "_Xc-FFTZhEPB"
      }
    },
    {
      "cell_type": "code",
      "source": [
        "#Example of Return Function\n",
        "\n",
        "def f1():\n",
        "  print('Hello this is my Sample Function')\n",
        "  return [7,2]\n",
        "  print('Hiii')       #it will not give output because we have print it after return\n",
        "\n",
        "a=f1()\n",
        "print('a: ', a,type(a))"
      ],
      "metadata": {
        "colab": {
          "base_uri": "https://localhost:8080/"
        },
        "id": "j_B-BLlwcsQG",
        "outputId": "ffc53a98-b704-46cc-be64-b37b74053541"
      },
      "execution_count": null,
      "outputs": [
        {
          "output_type": "stream",
          "name": "stdout",
          "text": [
            "Hello this is my Sample Function\n",
            "a:  {} <class 'dict'>\n"
          ]
        }
      ]
    },
    {
      "cell_type": "code",
      "source": [
        "\n",
        "def f2():\n",
        "  print('Hello this is another Sample Function')\n",
        "  return [4,5],[1,7]\n",
        "\n",
        "a=f2()\n",
        "print('a: ',a,type(a))"
      ],
      "metadata": {
        "colab": {
          "base_uri": "https://localhost:8080/"
        },
        "id": "Z0O7AXtBfVfj",
        "outputId": "237d8959-2ab5-4856-8839-39076a69d81d"
      },
      "execution_count": null,
      "outputs": [
        {
          "output_type": "stream",
          "name": "stdout",
          "text": [
            "Hello this is another Sample Function\n",
            "a:  ([4, 5], [1, 7]) <class 'tuple'>\n"
          ]
        }
      ]
    },
    {
      "cell_type": "markdown",
      "source": [
        "# 4. Parameter with Return Value"
      ],
      "metadata": {
        "id": "DP60_Bd4iZ95"
      }
    },
    {
      "cell_type": "code",
      "source": [
        "#WAP to craete a function which accept 2 numbers from user and returns it addition\n",
        "\n",
        "def f3(num1,num2):\n",
        "  return num1+num2\n",
        "ans=f3(7,3)\n",
        "print('Addition is :', ans)"
      ],
      "metadata": {
        "colab": {
          "base_uri": "https://localhost:8080/"
        },
        "id": "uvCJumQwhXjh",
        "outputId": "b0b610ce-baf4-4867-d133-917b8a740a6e"
      },
      "execution_count": null,
      "outputs": [
        {
          "output_type": "stream",
          "name": "stdout",
          "text": [
            "Addition is : 10\n"
          ]
        }
      ]
    }
  ]
}