{
  "nbformat": 4,
  "nbformat_minor": 0,
  "metadata": {
    "colab": {
      "name": "FEB09.ipynb",
      "provenance": [],
      "authorship_tag": "ABX9TyPJEXPzTQHPcwxrUq+vvlC2",
      "include_colab_link": true
    },
    "kernelspec": {
      "name": "python3",
      "display_name": "Python 3"
    },
    "language_info": {
      "name": "python"
    }
  },
  "cells": [
    {
      "cell_type": "markdown",
      "metadata": {
        "id": "view-in-github",
        "colab_type": "text"
      },
      "source": [
        "<a href=\"https://colab.research.google.com/github/mahtoamit/Python/blob/main/FEB09.ipynb\" target=\"_parent\"><img src=\"https://colab.research.google.com/assets/colab-badge.svg\" alt=\"Open In Colab\"/></a>"
      ]
    },
    {
      "cell_type": "code",
      "execution_count": null,
      "metadata": {
        "colab": {
          "base_uri": "https://localhost:8080/"
        },
        "id": "_3AChhtyIfy8",
        "outputId": "a77a5493-ee4d-45cb-cc15-e07738d34481"
      },
      "outputs": [
        {
          "output_type": "stream",
          "name": "stdout",
          "text": [
            "Enter a Number: 60\n",
            "15 30 45 60 "
          ]
        }
      ],
      "source": [
        "#WAP to print the number those are divisible of 3 and 5\n",
        "\n",
        "n=int(input('Enter a Number: '))\n",
        "\n",
        "for i in range(1,1+n):\n",
        "  if i%3==0 and i%5==0:\n",
        "    print(i,end=' ')"
      ]
    },
    {
      "cell_type": "code",
      "source": [
        ""
      ],
      "metadata": {
        "id": "HRko4-XXllJB"
      },
      "execution_count": null,
      "outputs": []
    },
    {
      "cell_type": "code",
      "source": [
        ""
      ],
      "metadata": {
        "id": "jm8nsUeDlk6B"
      },
      "execution_count": null,
      "outputs": []
    },
    {
      "cell_type": "code",
      "source": [
        "#WAP to print the number betwen 1 to n those are divisible of 3 and 5\n",
        "\n",
        "n=int(input('Enter a Number: '))\n",
        "\n",
        "for i in range(1,1+n):\n",
        "  if i%3==0 or i%5==0:\n",
        "    print(i,end=' ')"
      ],
      "metadata": {
        "colab": {
          "base_uri": "https://localhost:8080/"
        },
        "id": "FkSYNGkxOkuf",
        "outputId": "4b844025-4ab7-47c1-96d5-bb515a1fb492"
      },
      "execution_count": null,
      "outputs": [
        {
          "output_type": "stream",
          "name": "stdout",
          "text": [
            "Enter a Number: 60\n",
            "3 5 6 9 10 12 15 18 20 21 24 25 27 30 33 35 36 39 40 42 45 48 50 51 54 55 57 60 "
          ]
        }
      ]
    },
    {
      "cell_type": "code",
      "source": [
        ""
      ],
      "metadata": {
        "id": "OJWnJPxjll0h"
      },
      "execution_count": null,
      "outputs": []
    },
    {
      "cell_type": "code",
      "source": [
        ""
      ],
      "metadata": {
        "id": "G7ZLHlvdllxi"
      },
      "execution_count": null,
      "outputs": []
    },
    {
      "cell_type": "code",
      "source": [
        "#WAP to print the table of number in following format.\n",
        "#ex; 5*1=5\n",
        "\n",
        "n=int(input('Enter a Number for which you want its Table: '))\n",
        "\n",
        "for i in range(1,11):\n",
        "  print(n, '*', i, '=',n*i)\n"
      ],
      "metadata": {
        "colab": {
          "base_uri": "https://localhost:8080/"
        },
        "id": "Q8j7igqOPfSn",
        "outputId": "825dc0bf-7981-4cea-d73d-ee017064344c"
      },
      "execution_count": null,
      "outputs": [
        {
          "output_type": "stream",
          "name": "stdout",
          "text": [
            "Enter a Number for which you want its Table: 99\n",
            "99 * 1 = 99\n",
            "99 * 2 = 198\n",
            "99 * 3 = 297\n",
            "99 * 4 = 396\n",
            "99 * 5 = 495\n",
            "99 * 6 = 594\n",
            "99 * 7 = 693\n",
            "99 * 8 = 792\n",
            "99 * 9 = 891\n",
            "99 * 10 = 990\n"
          ]
        }
      ]
    },
    {
      "cell_type": "code",
      "source": [
        ""
      ],
      "metadata": {
        "id": "kkb3OHxHlmXB"
      },
      "execution_count": null,
      "outputs": []
    },
    {
      "cell_type": "code",
      "source": [
        ""
      ],
      "metadata": {
        "id": "tMS_761BlmTp"
      },
      "execution_count": null,
      "outputs": []
    },
    {
      "cell_type": "code",
      "source": [
        "#Continue Keyword:\n",
        "     \n",
        "  # --> It is used to skip the specific iteration of loop.\n",
        "  # --> It terminates current iteration and start a new iteration.\n",
        "\n",
        "\n",
        "for i in range(1,11):\n",
        "    if i==5 or i==7:\n",
        "      continue  #it will skip the number when i will be 5 and 7\n",
        "    print(i,end=' ')"
      ],
      "metadata": {
        "colab": {
          "base_uri": "https://localhost:8080/"
        },
        "id": "NgYcYunvT37T",
        "outputId": "eba3835e-b68b-4c03-ba9c-425a0a6148e1"
      },
      "execution_count": null,
      "outputs": [
        {
          "output_type": "stream",
          "name": "stdout",
          "text": [
            "1 2 3 4 6 8 9 10 "
          ]
        }
      ]
    },
    {
      "cell_type": "code",
      "source": [
        ""
      ],
      "metadata": {
        "id": "bEBaTLGBlnMC"
      },
      "execution_count": null,
      "outputs": []
    },
    {
      "cell_type": "code",
      "source": [
        ""
      ],
      "metadata": {
        "id": "XRRrRaGHlnIx"
      },
      "execution_count": null,
      "outputs": []
    },
    {
      "cell_type": "code",
      "source": [
        "#WAP to print number between 1 to 20 those are not divisible by 3 and 5.\n",
        "\n",
        "for i in range(1,21):\n",
        "  if i%3==0 or i%5==0:\n",
        "    continue           #it will skip the number which are divisible by 3 and 5\n",
        "  print(i,end=' ')"
      ],
      "metadata": {
        "colab": {
          "base_uri": "https://localhost:8080/"
        },
        "id": "06Z1Opa_VMOp",
        "outputId": "27bf78ed-adff-47c4-eb86-b00a1bbc5494"
      },
      "execution_count": null,
      "outputs": [
        {
          "output_type": "stream",
          "name": "stdout",
          "text": [
            "1 2 4 7 8 11 13 14 16 17 19 "
          ]
        }
      ]
    },
    {
      "cell_type": "code",
      "source": [
        ""
      ],
      "metadata": {
        "id": "FLap9JM3loqJ"
      },
      "execution_count": null,
      "outputs": []
    },
    {
      "cell_type": "code",
      "source": [
        ""
      ],
      "metadata": {
        "id": "hm0AokaJlohx"
      },
      "execution_count": null,
      "outputs": []
    },
    {
      "cell_type": "code",
      "source": [
        "#BREAK Keyword:\n",
        "\n",
        "# --> Break is a keyword which is used to stop the loop \n",
        "\n",
        "\n",
        "for i in range(1,40):\n",
        "  print(i,end=' ')\n",
        "  if i==23:\n",
        "    break;   # it will break/stop the program when the value of i==23"
      ],
      "metadata": {
        "colab": {
          "base_uri": "https://localhost:8080/"
        },
        "id": "dAgtuymhWwHI",
        "outputId": "7ab85a3e-b654-48e7-897f-744c62ffd1f3"
      },
      "execution_count": null,
      "outputs": [
        {
          "output_type": "stream",
          "name": "stdout",
          "text": [
            "1 2 3 4 5 6 7 8 9 10 11 12 13 14 15 16 17 18 19 20 21 22 23 "
          ]
        }
      ]
    },
    {
      "cell_type": "code",
      "source": [
        ""
      ],
      "metadata": {
        "id": "yMvQpHMLlpwZ"
      },
      "execution_count": null,
      "outputs": []
    },
    {
      "cell_type": "code",
      "source": [
        ""
      ],
      "metadata": {
        "id": "WW1Z4iNKlpsp"
      },
      "execution_count": null,
      "outputs": []
    },
    {
      "cell_type": "code",
      "source": [
        "for i in range(1,40):\n",
        "  if i==23:\n",
        "    break;   # it will break/stop the program when the value of i==22\n",
        "  print(i,end=' ')"
      ],
      "metadata": {
        "colab": {
          "base_uri": "https://localhost:8080/"
        },
        "id": "ylsxEeJtXyLX",
        "outputId": "ba05d915-f771-4214-fba7-29f6a4ffd40f"
      },
      "execution_count": null,
      "outputs": [
        {
          "output_type": "stream",
          "name": "stdout",
          "text": [
            "1 2 3 4 5 6 7 8 9 10 11 12 13 14 15 16 17 18 19 20 21 22 "
          ]
        }
      ]
    },
    {
      "cell_type": "code",
      "source": [
        ""
      ],
      "metadata": {
        "id": "00AikXG4lrGh"
      },
      "execution_count": null,
      "outputs": []
    },
    {
      "cell_type": "code",
      "source": [
        ""
      ],
      "metadata": {
        "id": "n773732slrCB"
      },
      "execution_count": null,
      "outputs": []
    },
    {
      "cell_type": "code",
      "source": [
        " for nam in 'AMIT':\n",
        "  if nam=='I':\n",
        "    break   \n",
        "  print(nam,end=' ')"
      ],
      "metadata": {
        "colab": {
          "base_uri": "https://localhost:8080/"
        },
        "id": "wDu5_oLcYLml",
        "outputId": "908ccf2a-2573-4b07-c999-ac4e49a9bb9c"
      },
      "execution_count": null,
      "outputs": [
        {
          "output_type": "stream",
          "name": "stdout",
          "text": [
            "A M "
          ]
        }
      ]
    },
    {
      "cell_type": "code",
      "source": [
        ""
      ],
      "metadata": {
        "id": "dxYhsd2qlr4S"
      },
      "execution_count": null,
      "outputs": []
    },
    {
      "cell_type": "code",
      "source": [
        ""
      ],
      "metadata": {
        "id": "W6_ASr8blr1B"
      },
      "execution_count": null,
      "outputs": []
    },
    {
      "cell_type": "code",
      "source": [
        "# WHILE LOOP WITH ELSE STATEMENT:\n",
        "\n",
        "# --> In while loop ELSE block of code will excecute if and only if while loop completes all the iteration.\n",
        "# --> If while loop terminate/break before completing all ieration then only ELSE block code will not be execute.\n",
        "\n",
        "\n",
        "i=1\n",
        "while i<=10:\n",
        "  if i==5:\n",
        "    break\n",
        "  print(i,end=' ')\n",
        "  i += 1\n",
        "else:\n",
        "  print('While loop is completely executed.')\n"
      ],
      "metadata": {
        "colab": {
          "base_uri": "https://localhost:8080/"
        },
        "id": "yK1_eM-jaQXt",
        "outputId": "eb99731e-ae63-4d4e-91b1-58cc32205517"
      },
      "execution_count": null,
      "outputs": [
        {
          "output_type": "stream",
          "name": "stdout",
          "text": [
            "1 2 3 4 "
          ]
        }
      ]
    },
    {
      "cell_type": "code",
      "source": [
        ""
      ],
      "metadata": {
        "id": "4uhT76jDlsrR"
      },
      "execution_count": null,
      "outputs": []
    },
    {
      "cell_type": "code",
      "source": [
        ""
      ],
      "metadata": {
        "id": "_UsZJZW_lsoR"
      },
      "execution_count": null,
      "outputs": []
    },
    {
      "cell_type": "code",
      "source": [
        ""
      ],
      "metadata": {
        "id": "4YSD47T0mwF6"
      },
      "execution_count": null,
      "outputs": []
    },
    {
      "cell_type": "code",
      "source": [
        "# FOR LOOP WITH ELSE STATEMENT:\n",
        "\n",
        "# --> In FOR loop ELSE block of code will excecute if and only if while loop completes all the iteration.\n",
        "# --> If FOR loop terminate/break before completing all ieration then only ELSE block code will not be execute.\n",
        "\n",
        "\n",
        "for i in range(4,41,4):\n",
        "  if i%11==0:\n",
        "    break\n",
        "  print(i,end=' ')\n",
        "else:\n",
        "  print('For loop Completed ')\n",
        "  "
      ],
      "metadata": {
        "colab": {
          "base_uri": "https://localhost:8080/"
        },
        "id": "GGGbjlSXdKAa",
        "outputId": "ce17d864-0114-446a-e9c6-b88cd393ca77"
      },
      "execution_count": null,
      "outputs": [
        {
          "output_type": "stream",
          "name": "stdout",
          "text": [
            "4 8 12 16 20 24 28 32 36 40 For loop Completed \n"
          ]
        }
      ]
    },
    {
      "cell_type": "code",
      "source": [
        ""
      ],
      "metadata": {
        "id": "8KJKh0XKltkS"
      },
      "execution_count": null,
      "outputs": []
    },
    {
      "cell_type": "code",
      "source": [
        ""
      ],
      "metadata": {
        "id": "cnEaRl1tltgp"
      },
      "execution_count": null,
      "outputs": []
    },
    {
      "cell_type": "code",
      "source": [
        "#WAP to check number is prime or not\n",
        "\n",
        "#PRIME number:\n",
        "# --> Prime is positive number which is divisible by 1 or itself.\n",
        "\n",
        "n=int(input('Enter a number: '))\n",
        "\n",
        "for i in range(2,n):\n",
        "  if n%i==0:\n",
        "    print(n, 'is not a Prime Number, it is divisible by', i)\n",
        "    break\n",
        "else:\n",
        "  print(n, ' number is PRIME.')\n",
        "    "
      ],
      "metadata": {
        "colab": {
          "base_uri": "https://localhost:8080/"
        },
        "id": "y9oWq92nfVZw",
        "outputId": "81bcdb82-c155-4061-97f0-5445ee6d6fb9"
      },
      "execution_count": null,
      "outputs": [
        {
          "output_type": "stream",
          "name": "stdout",
          "text": [
            "Enter a number: 223\n",
            "223  number is PRIME.\n"
          ]
        }
      ]
    },
    {
      "cell_type": "code",
      "source": [
        ""
      ],
      "metadata": {
        "id": "ZDOqgSOLluPp"
      },
      "execution_count": null,
      "outputs": []
    },
    {
      "cell_type": "code",
      "source": [
        ""
      ],
      "metadata": {
        "id": "_F9sHpoCluMR"
      },
      "execution_count": null,
      "outputs": []
    },
    {
      "cell_type": "code",
      "source": [
        ""
      ],
      "metadata": {
        "id": "9GFlsuhVnv-A"
      },
      "execution_count": null,
      "outputs": []
    },
    {
      "cell_type": "code",
      "source": [
        ""
      ],
      "metadata": {
        "id": "Ew-Dblu0nvz4"
      },
      "execution_count": null,
      "outputs": []
    },
    {
      "cell_type": "code",
      "source": [
        ""
      ],
      "metadata": {
        "id": "e60Gt6vxnvxA"
      },
      "execution_count": null,
      "outputs": []
    },
    {
      "cell_type": "code",
      "source": [
        ""
      ],
      "metadata": {
        "id": "UTvKMTkznvuA"
      },
      "execution_count": null,
      "outputs": []
    },
    {
      "cell_type": "code",
      "source": [
        ""
      ],
      "metadata": {
        "id": "UR0-jZolnvng"
      },
      "execution_count": null,
      "outputs": []
    },
    {
      "cell_type": "code",
      "source": [
        "#WAP to print prime number between 1 to 100\n",
        "\n",
        "for n in range(1,100):    #range of number for checking prime\n",
        "  for i in range(2,n):     # range divisor\n",
        "    if n%i==0:\n",
        "      break      #inner loop will break if condition is true\n",
        "  else:\n",
        "    print(n,end=' ')\n",
        "else:\n",
        "  print('Prime Numbers bewteen 1 to 100')"
      ],
      "metadata": {
        "colab": {
          "base_uri": "https://localhost:8080/"
        },
        "id": "zpnUzk6FkWXd",
        "outputId": "b5c408ad-4b99-481a-ea19-488493132db0"
      },
      "execution_count": null,
      "outputs": [
        {
          "output_type": "stream",
          "name": "stdout",
          "text": [
            "1 2 3 5 7 11 13 17 19 23 29 31 37 41 43 47 53 59 61 67 71 73 79 83 89 97 Prime Numbers bewteen 1 to 100\n"
          ]
        }
      ]
    }
  ]
}