{
  "nbformat": 4,
  "nbformat_minor": 0,
  "metadata": {
    "colab": {
      "name": "Function(hw).ipynb",
      "provenance": [],
      "authorship_tag": "ABX9TyMPqPfxbaLQpN20a9nY+x2X",
      "include_colab_link": true
    },
    "kernelspec": {
      "name": "python3",
      "display_name": "Python 3"
    },
    "language_info": {
      "name": "python"
    }
  },
  "cells": [
    {
      "cell_type": "markdown",
      "metadata": {
        "id": "view-in-github",
        "colab_type": "text"
      },
      "source": [
        "<a href=\"https://colab.research.google.com/github/mahtoamit/Python/blob/main/Function(hw).ipynb\" target=\"_parent\"><img src=\"https://colab.research.google.com/assets/colab-badge.svg\" alt=\"Open In Colab\"/></a>"
      ]
    },
    {
      "cell_type": "code",
      "source": [
        "# Q1 - Explain what is lambda function with the help of example\n",
        "\n",
        "'''\n",
        "--> When we define a function using lambda keyword is known as lambda function.\n",
        "--> Lambda function define without name and it contain single line of body.\n",
        "--> Lambda function is also known as Anonymous Function in PYTHON.\n",
        "--> It is also known as Inline Function.\n",
        "--> It are used as argument to pass any another function.\n",
        "--> It stored in a variable as a value.\n",
        "--> It returns the value implicitly (automatically) \n",
        "--> SYNTAX:\n",
        "             variable_name = lambda parameter:expression\n",
        " '''\n",
        "\n",
        "#EXAMPLE\n",
        "\n",
        "sq = lambda n:n**2\n",
        "print('Square is : ', sq(3))\n"
      ],
      "metadata": {
        "colab": {
          "base_uri": "https://localhost:8080/"
        },
        "id": "egskyEcWReT7",
        "outputId": "b0f94976-9a4f-4cfb-c7b5-fbac63eca155"
      },
      "execution_count": null,
      "outputs": [
        {
          "output_type": "stream",
          "name": "stdout",
          "text": [
            "Square is :  9\n"
          ]
        }
      ]
    },
    {
      "cell_type": "code",
      "execution_count": 4,
      "metadata": {
        "colab": {
          "base_uri": "https://localhost:8080/"
        },
        "id": "ZJ6odTIDSl3F",
        "outputId": "3d069dc0-8237-4ac5-86ae-f24166bb6833"
      },
      "outputs": [
        {
          "output_type": "stream",
          "name": "stdout",
          "text": [
            "Enter the Number to Check Neon Number : 9\n",
            "Square of a Given Digit :  81\n",
            "The Sum of the Digits   : 9\n",
            "9 is a Neon Number.\n"
          ]
        }
      ],
      "source": [
        "#Q2 - WAP to create a function of neon number\n",
        "\n",
        "n = int(input('Enter the Number to Check Neon Number : '))\n",
        "sum = 0\n",
        "\n",
        "sq=n**2\n",
        "print('Square of a Given Digit : ' , sq)\n",
        "\n",
        "while sq > 0:\n",
        "    rem = sq % 10\n",
        "    sum = sum + rem\n",
        "    sq = sq // 10\n",
        "\n",
        "print('The Sum of the Digits   :', sum)\n",
        "\n",
        "if sum == n:\n",
        "    print(n, 'is a Neon Number.')\n",
        "else:\n",
        "    print(n, 'is not a Neon Number.')"
      ]
    },
    {
      "cell_type": "code",
      "source": [
        "# Q3- WAP to create a function of perfect number\n",
        "\n",
        "\n",
        "def per(n):\n",
        "    sum = 0\n",
        "    for i in range(1, n):\n",
        "        if(n % i == 0):\n",
        "            sum = sum + i\n",
        "    return sum        \n",
        "\n",
        "n = int(input(\"Please Enter any number: \"))\n",
        "if (n == per(n)):\n",
        "    print(n, 'a Perfect Number')\n",
        "else:\n",
        "    print(n, 'is not Perfect Number')"
      ],
      "metadata": {
        "colab": {
          "base_uri": "https://localhost:8080/"
        },
        "id": "nWHCvQbUTPv9",
        "outputId": "6de176bb-f024-403b-a6a2-438e46b52dd3"
      },
      "execution_count": null,
      "outputs": [
        {
          "output_type": "stream",
          "name": "stdout",
          "text": [
            "Please Enter any number: 66\n",
            "66 is not Perfect Number\n"
          ]
        }
      ]
    },
    {
      "cell_type": "code",
      "source": [
        "# Q5 - Explain what is variable length arguments i.e *args & **kwargs with an example of each\n",
        "\n",
        "'''\n",
        "1. *arg (Special Symbol parameters):\n",
        "  --> *arg is known as variable nnumber of argument. here in place of arg we can write any varible name just start with * . example *amit,*add,*sum\n",
        "  --> When the function parameter are start (prefix) with * is known *arg(variable number of argument)\n",
        "  --> At the time of calling it accept n number of values and store them into TUPLE Types.\n",
        "\n",
        "'''\n",
        "#EXAMPLE OF *args\n",
        "print('EXAMPLE OF *args ')\n",
        "\n",
        "def add(*n):          \n",
        "  ans = 0\n",
        "  for i in n:\n",
        "    ans +=i\n",
        "  return ans\n",
        "print('Addition is ', add())        \n",
        "print('Addition is ', add(1))\n",
        "print('Addition is  ', add(1,2,4,5,7))\n",
        "print('\\n')\n",
        "\n",
        "'''\n",
        "2. **kwargs (Keyword Arguments)\n",
        "  --> **kwargs stands for Keyword number of argument.\n",
        "  --> It is used to pass n number of value to the function in the form of keyword=value (i.e pair)\n",
        "  --> When we want to pass multiple values to the function with lable we use kwargs\n",
        "\n",
        "'''\n",
        "\n",
        "#EXAMPLE OF **kwargs\n",
        "\n",
        "print('EXAMPLE OF **kwargs ')\n",
        "def stdinfo(**std):\n",
        "  print('Student Information ')\n",
        "  for key,value in std.items():\n",
        "    print(key, '=', value)\n",
        "stdinfo(sid=7,sname='Raj Sharma', sdept='Mech',sdob= '10 June 1999')\n",
        "\n"
      ],
      "metadata": {
        "colab": {
          "base_uri": "https://localhost:8080/"
        },
        "id": "d0gB6J27R2OJ",
        "outputId": "5f7f0251-5797-4ea0-c5ed-06931b9712b5"
      },
      "execution_count": null,
      "outputs": [
        {
          "output_type": "stream",
          "name": "stdout",
          "text": [
            "EXAMPLE OF *args \n",
            "Addition is  0\n",
            "Addition is  1\n",
            "Addition is   19\n",
            "\n",
            "\n",
            "EXAMPLE OF **kwargs \n",
            "Student Information \n",
            "sid = 7\n",
            "sname = Raj Sharma\n",
            "sdept = Mech\n",
            "sdob = 10 June 1999\n"
          ]
        }
      ]
    },
    {
      "cell_type": "code",
      "source": [
        "#Q6 Explain what is default and required arguments with an example of each.\n",
        "\n",
        "'''\n",
        "1. default argument:\n",
        "  --> When we declare a parameter with default value then it is known as optional parameter.\n",
        "  -->  it is not compulsory to pass the value because it use defalut value for calculation ortherwise not.\n",
        "  --> It is always on right side of required parameter.\n",
        "  --> Example :\n",
        "             function_name(p1,p2,p3=value,p4=value)\n",
        "             here p1,p2 are rquired parameter and p3,p4 are optional parameter\n",
        "            \n",
        "'''\n",
        "\n",
        "#EXAMPLE: \n",
        "\n",
        "def user(age,name='Anonymous'):\n",
        "  print(f'Name:= {name} \\n Age = {age}')\n",
        "user(age=23,name='raj')    # when  we dont known the order of parameter in function\n"
      ],
      "metadata": {
        "colab": {
          "base_uri": "https://localhost:8080/"
        },
        "id": "vja87NuPVso2",
        "outputId": "d1cb338d-c886-4f17-f88f-3a37e8e782f2"
      },
      "execution_count": null,
      "outputs": [
        {
          "output_type": "stream",
          "name": "stdout",
          "text": [
            "Name:= raj \n",
            " Age = 23\n"
          ]
        }
      ]
    },
    {
      "cell_type": "code",
      "source": [
        "# Q7 -Create a function to calculate the the area of triangle\n",
        "\n",
        "def tri(l,b):\n",
        "  area=l*b\n",
        "  print(f'AREA OF TRAINGLE : Length = {l} and Breadth = {b} is {area} ')\n",
        "tri(7,2)\n"
      ],
      "metadata": {
        "colab": {
          "base_uri": "https://localhost:8080/"
        },
        "id": "7P99xPynO-ub",
        "outputId": "e5fd9da9-5c7b-456b-959d-3ae26a02ede2"
      },
      "execution_count": null,
      "outputs": [
        {
          "output_type": "stream",
          "name": "stdout",
          "text": [
            "AREA OF TRAINGLE : Length = 7 and Breadth = 2 is 14 \n"
          ]
        }
      ]
    },
    {
      "cell_type": "code",
      "source": [
        "#Q8 - Create a function that calculates the the volume of sphere\n",
        "\n",
        "def sp(r):\n",
        "  vol=4/3 * 3.14 * r*r*r\n",
        "  print(f'Volume OF Sphere : Radius = {r} is {vol} ')\n",
        "sp(7)"
      ],
      "metadata": {
        "colab": {
          "base_uri": "https://localhost:8080/"
        },
        "id": "UkuGTyONPnj3",
        "outputId": "fbb996f7-141e-4a97-e26c-694cedfb134f"
      },
      "execution_count": null,
      "outputs": [
        {
          "output_type": "stream",
          "name": "stdout",
          "text": [
            "Volume OF Sphere : Radius = 7 is 1436.0266666666666 \n"
          ]
        }
      ]
    },
    {
      "cell_type": "code",
      "source": [
        "#Q11-  Create a function to find out Cube of given number?\n",
        "\n",
        "def cube(n):\n",
        "  cu = n**3\n",
        "  print(f'Cube of  {n} is {cu} ')\n",
        "cube(3)"
      ],
      "metadata": {
        "id": "AyReGqeIXitm",
        "colab": {
          "base_uri": "https://localhost:8080/"
        },
        "outputId": "190fa877-c20a-4d38-e6a0-6699be4d9e28"
      },
      "execution_count": null,
      "outputs": [
        {
          "output_type": "stream",
          "name": "stdout",
          "text": [
            "Cube of  3 is 27 \n"
          ]
        }
      ]
    },
    {
      "cell_type": "code",
      "source": [
        "#Create a function calculation() such that it can accept two variables value and calculate the addition and subtraction of them. And also it must return both addition and subtraction in a single return call .\n",
        "#expected output: Addition and Subtraction of number is:30,10\n",
        "\n",
        "def add_sub(n1,n2):\n",
        "  add=n1+n2\n",
        "  sub=n1-n2\n",
        "  return add,sub\n",
        "print(f'Addition and Subtraction of Number is: ', add_sub(3,9))\n",
        "\n"
      ],
      "metadata": {
        "id": "CN2bNApwQRkV",
        "colab": {
          "base_uri": "https://localhost:8080/"
        },
        "outputId": "56a57417-b5df-46d8-8413-2c370490a8fc"
      },
      "execution_count": 13,
      "outputs": [
        {
          "output_type": "stream",
          "name": "stdout",
          "text": [
            "Addition and Subtraction of Number is:  (12, -6)\n"
          ]
        }
      ]
    },
    {
      "cell_type": "code",
      "source": [
        "#Write a Python function that takes a list of words and returns the length of the longest one.\n",
        "\n",
        "def long(a):\n",
        "    max1 = len(a[0])\n",
        "    tem = a[0]\n",
        "    for i in a:\n",
        "        if(len(i) > max1):\n",
        "            max1 = len(i)\n",
        "            tem = i\n",
        "    print('The longest word is :' ,tem, 'and length is ', max1)\n",
        "a = ['India', 'Russia', 'UAE', 'China']\n",
        "long(a)"
      ],
      "metadata": {
        "colab": {
          "base_uri": "https://localhost:8080/"
        },
        "id": "82iDW4hY_jW4",
        "outputId": "48e2d106-d4a5-442b-b96d-27d34d3cd5a1"
      },
      "execution_count": 23,
      "outputs": [
        {
          "output_type": "stream",
          "name": "stdout",
          "text": [
            "The longest word is : Russia and length is  6\n"
          ]
        }
      ]
    }
  ]
}