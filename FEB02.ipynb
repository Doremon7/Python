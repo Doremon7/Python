{
  "nbformat": 4,
  "nbformat_minor": 0,
  "metadata": {
    "colab": {
      "name": "FEB02.ipynb",
      "provenance": [],
      "authorship_tag": "ABX9TyO/4j8JLyr6jSLIOQ+FCGnR",
      "include_colab_link": true
    },
    "kernelspec": {
      "name": "python3",
      "display_name": "Python 3"
    },
    "language_info": {
      "name": "python"
    }
  },
  "cells": [
    {
      "cell_type": "markdown",
      "metadata": {
        "id": "view-in-github",
        "colab_type": "text"
      },
      "source": [
        "<a href=\"https://colab.research.google.com/github/Doremon7/Python/blob/main/FEB02.ipynb\" target=\"_parent\"><img src=\"https://colab.research.google.com/assets/colab-badge.svg\" alt=\"Open In Colab\"/></a>"
      ]
    },
    {
      "cell_type": "code",
      "execution_count": null,
      "metadata": {
        "id": "oviW4qMPTg2t"
      },
      "outputs": [],
      "source": [
        "#VARIABLE\n",
        "# Variable is the name of memoray loaction/address where the values /data is stored \n",
        "#i.e. Variable are used to stored values/data\n",
        "#Syntax for variable declaration in Python are as follows \n",
        "# variable_name = value;\n",
        "# Variable names must be start with alphabet only.\n",
        "# Variable name can allows the underscore _"
      ]
    },
    {
      "cell_type": "code",
      "source": [
        "# Example of variable \n",
        "\n",
        "i=7\n",
        "name='amit'\n",
        "print('i:-',i)"
      ],
      "metadata": {
        "colab": {
          "base_uri": "https://localhost:8080/"
        },
        "id": "MEhacDCbUvoi",
        "outputId": "9f205eb4-c540-4ceb-db7c-bf75af8355e0"
      },
      "execution_count": null,
      "outputs": [
        {
          "output_type": "stream",
          "name": "stdout",
          "text": [
            "i:- 7\n"
          ]
        }
      ]
    },
    {
      "cell_type": "code",
      "source": [
        "print('Name:-',name)\n",
        "\n",
        "# here green is a python function\n",
        "# here red is the message which we want to print\n",
        "# here black is the variable which is print"
      ],
      "metadata": {
        "colab": {
          "base_uri": "https://localhost:8080/"
        },
        "id": "cy9m7xmUVULw",
        "outputId": "64fbdf62-f857-4191-bde7-05d1c89bdc4c"
      },
      "execution_count": null,
      "outputs": [
        {
          "output_type": "stream",
          "name": "stdout",
          "text": [
            "Name:- amit\n"
          ]
        }
      ]
    },
    {
      "cell_type": "code",
      "source": [
        "print(i,':-', name)"
      ],
      "metadata": {
        "colab": {
          "base_uri": "https://localhost:8080/"
        },
        "id": "u32W5hWkV3SF",
        "outputId": "ed613a73-c177-47b0-b1a0-797f797db157"
      },
      "execution_count": null,
      "outputs": [
        {
          "output_type": "stream",
          "name": "stdout",
          "text": [
            "7 :- amit\n"
          ]
        }
      ]
    },
    {
      "cell_type": "code",
      "source": [
        "# Python is dyanmic type programming language\n",
        "# i.e. The type of varible changes during the excecution of program.\n",
        "\n",
        "\n",
        "# BASIC DATA TYPES \n",
        "# int only store the whole numbers\n",
        "i=7\n",
        "print('i=',i,'Its type is: ',type(i))\n",
        "\n",
        "# float type store only decimal numbers \n",
        "i=7.0\n",
        "print('i=',i,'Its type is: ',type(i))\n",
        "\n",
        "# here i is a boolean type in which we can store only 2 values (i.e. True and False)\n",
        "i=True\n",
        "print('i=',i,'Its type is: ',type(i))\n",
        "\n",
        "# real plus imaginary are used in complex type\n",
        "i=2+7j\n",
        "print('i=',i,'Its type is: ',type(i))\n"
      ],
      "metadata": {
        "colab": {
          "base_uri": "https://localhost:8080/"
        },
        "id": "MjiHiX4lXSLC",
        "outputId": "38d1009b-079a-4843-b7c2-eea0ae5f09c7"
      },
      "execution_count": null,
      "outputs": [
        {
          "output_type": "stream",
          "name": "stdout",
          "text": [
            "i= 7 Its type is:  <class 'int'>\n",
            "i= 7.0 Its type is:  <class 'float'>\n",
            "i= True Its type is:  <class 'bool'>\n",
            "i= (2+7j) Its type is:  <class 'complex'>\n"
          ]
        }
      ]
    },
    {
      "cell_type": "code",
      "source": [
        "\n",
        "# ADVANCE DATA TYPE OF PYTHON\n",
        "\n",
        "# 1- STRING\n",
        "# 2- List\n",
        "# 3- Tuple\n",
        "# 4- Set\n",
        "# 5- Dictionary\n",
        "\n",
        "#String\n",
        "\n",
        "# String is the collection of characters.\n",
        "# IN STRING WE CAN USE SINGLE QUOTES, DOUBLE QUOTES AND TRIPLE SINGLE & DOUBLE QUOTES\n",
        "\n",
        "i='AMIT'\n",
        "print('i=',i,'Its type is: ',type(i))\n",
        "\n",
        "i=\"AMIT\"\n",
        "print('i=',i,'Its type is: ',type(i))\n",
        "\n",
        "i='''AMIT'''\n",
        "print('i=',i,'Its type is: ',type(i))\n",
        "\n",
        "i=\"\"\"AMIT\"\"\"\n",
        "print('i=',i,'Its type is: ',type(i))\n",
        "\n",
        "\n",
        "\n",
        "\n"
      ],
      "metadata": {
        "colab": {
          "base_uri": "https://localhost:8080/"
        },
        "id": "sYZKS93iZN_l",
        "outputId": "3248a466-f895-4345-a211-88957fa60c01"
      },
      "execution_count": null,
      "outputs": [
        {
          "output_type": "stream",
          "name": "stdout",
          "text": [
            "i= AMIT Its type is:  <class 'str'>\n",
            "i= AMIT Its type is:  <class 'str'>\n",
            "i= AMIT Its type is:  <class 'str'>\n",
            "i= AMIT Its type is:  <class 'str'>\n"
          ]
        }
      ]
    },
    {
      "cell_type": "code",
      "source": [
        "# Q- Write a program to print Myself in Python\n",
        "\n",
        "print('My Name is Amit Mahto')\n",
        "print(' I have completed my Gradution in B.E. Mechanical Engineering ')\n",
        "print(' Currently I am doing a  Course in Python in ItVedant')"
      ],
      "metadata": {
        "colab": {
          "base_uri": "https://localhost:8080/"
        },
        "id": "7NxzLZsEd6EQ",
        "outputId": "362c18cc-29d6-4cfc-be9d-ec00b421cefe"
      },
      "execution_count": null,
      "outputs": [
        {
          "output_type": "stream",
          "name": "stdout",
          "text": [
            "My Name is Amit Mahto\n",
            " I have completed my Gradution in B.E. Mechanical Engineering \n",
            " Currently I am doing a  Course in Python in ItVedant\n"
          ]
        }
      ]
    },
    {
      "cell_type": "code",
      "source": [
        "# Q- Write a program to accept a username and print with hello message \n",
        "\n",
        "# input() : It is used to take the input from user \n",
        "# Input function return user data in string type only\n",
        "\n",
        "name= input('Enter your name ')\n",
        "print('Hello', name)"
      ],
      "metadata": {
        "colab": {
          "base_uri": "https://localhost:8080/"
        },
        "id": "8m_Ef4wHeykA",
        "outputId": "8c129fea-0ea0-4c37-8fa6-b6c59fc5fef2"
      },
      "execution_count": null,
      "outputs": [
        {
          "output_type": "stream",
          "name": "stdout",
          "text": [
            "Enter your name amit\n",
            "Hello amit\n"
          ]
        }
      ]
    },
    {
      "cell_type": "code",
      "source": [
        "# Q- Write a program to print addtion of 2 numbers\n",
        "\n",
        "n1 = input('Enter Your First Number')\n",
        "n2 = input('Enter Your Second Number')\n",
        "\n",
        "# here input gives the number in string types.\n",
        "\n",
        "add= n1+n2\n",
        "# here n1 and n2 is concat\n",
        "\n",
        "print('Your Addition is : ', add)"
      ],
      "metadata": {
        "colab": {
          "base_uri": "https://localhost:8080/"
        },
        "id": "Gum8OyuGg6An",
        "outputId": "9b800659-167f-42db-c0ab-a65092aa9c5e"
      },
      "execution_count": null,
      "outputs": [
        {
          "output_type": "stream",
          "name": "stdout",
          "text": [
            "Enter Your First Number7\n",
            "Enter Your Second Number8\n",
            "Your Addition is :  78\n"
          ]
        }
      ]
    },
    {
      "cell_type": "code",
      "source": [
        "# Q- Write a program to print addtion of 2 numbers convert user input into int type\n",
        "\n",
        "n1 = int(input('Enter Your First Number'))\n",
        "n2 = int(input('Enter Your Second Number'))\n",
        "\n",
        "add= n1+n2\n",
        "\n",
        "print('Your Addition is : ', add)"
      ],
      "metadata": {
        "colab": {
          "base_uri": "https://localhost:8080/"
        },
        "id": "QhrmUt-pj_9y",
        "outputId": "26bdc30c-47aa-4d85-ef53-cbed34d28164"
      },
      "execution_count": null,
      "outputs": [
        {
          "output_type": "stream",
          "name": "stdout",
          "text": [
            "Enter Your First Number7\n",
            "Enter Your Second Number7\n",
            "Your Addition is :  14\n"
          ]
        }
      ]
    },
    {
      "cell_type": "code",
      "source": [
        "# Q- Print addition of 2 numbers as follows:\n",
        "# ex- n1=3 , n2 = 4 so o/p should be 3+4=7\n",
        "\n",
        "n1 = int(input('Enter Your First Number'))\n",
        "n2 = int(input('Enter Your Second Number'))\n",
        "\n",
        "add= n1+n2\n",
        "\n",
        "print('Your Addition is : ', n1, '+', n2, '=', add)"
      ],
      "metadata": {
        "colab": {
          "base_uri": "https://localhost:8080/"
        },
        "id": "Tp5o3TF7ktdS",
        "outputId": "b2d5e062-43ac-46f1-a89d-cf56b16e22fc"
      },
      "execution_count": null,
      "outputs": [
        {
          "output_type": "stream",
          "name": "stdout",
          "text": [
            "Enter Your First Number7\n",
            "Enter Your Second Number8\n",
            "Your Addition is :  7 + 8 = 15\n"
          ]
        }
      ]
    },
    {
      "cell_type": "code",
      "source": [
        "# Q- Print addition of 2 numbers using FLOAT as follows:\n",
        "# ex- n1=3 , n2 = 4 so o/p should be 3+4=7\n",
        "\n",
        "n1 = float(input('Enter Your First Number'))\n",
        "n2 = float(input('Enter Your Second Number'))\n",
        "\n",
        "add= n1+n2\n",
        "\n",
        "print('Your Addition is : ', n1, '+', n2, '=', add)"
      ],
      "metadata": {
        "colab": {
          "base_uri": "https://localhost:8080/"
        },
        "id": "PqB1KUPWmQgj",
        "outputId": "9fbb08f4-5076-46c6-c9cd-cdfed5848ce6"
      },
      "execution_count": null,
      "outputs": [
        {
          "output_type": "stream",
          "name": "stdout",
          "text": [
            "Enter Your First Number8.9\n",
            "Enter Your Second Number7.3\n",
            "Your Addition is :  8.9 + 7.3 = 16.2\n"
          ]
        }
      ]
    }
  ]
}