{
  "nbformat": 4,
  "nbformat_minor": 0,
  "metadata": {
    "colab": {
      "name": "FEB14.ipynb",
      "provenance": [],
      "authorship_tag": "ABX9TyNy/TjFdiLUbvD3ZqADD9Ge",
      "include_colab_link": true
    },
    "kernelspec": {
      "name": "python3",
      "display_name": "Python 3"
    },
    "language_info": {
      "name": "python"
    }
  },
  "cells": [
    {
      "cell_type": "markdown",
      "metadata": {
        "id": "view-in-github",
        "colab_type": "text"
      },
      "source": [
        "<a href=\"https://colab.research.google.com/github/mahtoamit/Python/blob/main/FEB14.ipynb\" target=\"_parent\"><img src=\"https://colab.research.google.com/assets/colab-badge.svg\" alt=\"Open In Colab\"/></a>"
      ]
    },
    {
      "cell_type": "code",
      "execution_count": null,
      "metadata": {
        "id": "W9XeQ9TvG7Sr",
        "colab": {
          "base_uri": "https://localhost:8080/"
        },
        "outputId": "5ecc4cf3-e43c-4439-929c-8fbf3e9138c6"
      },
      "outputs": [
        {
          "output_type": "stream",
          "name": "stdout",
          "text": [
            "GOODBYE!!!!!!\n"
          ]
        }
      ],
      "source": [
        "#PASS KEYWORD:\n",
        "\"\"\"\n",
        "    Pass is a reserved keyword of PYTHON  to create a empty block of code.\n",
        "    i.e. when we dont want to write execute code inside any block we can use the pass keyword.\n",
        "\"\"\"\n",
        "\n",
        "i=445\n",
        "if i%2==0:\n",
        "  pass\n",
        "print('GOODBYE!!!!!!')\n",
        "\n",
        "# because pass keyword above if block of code is empty.\n"
      ]
    },
    {
      "cell_type": "code",
      "source": [
        "#Membership Operators in Python:\n",
        "\n",
        "\"\"\"\n",
        "   There are 2 membership operator in python\n",
        "      1. in\n",
        "            --> in operator is used with for statement to iterate the  iterable object(collection of values).\n",
        "            --> in operator is also used with if statement to check the left oprand is present in right oprand.\n",
        "\n",
        "\n",
        "      2. not in \n",
        "            --> not in vise versa to the in operator.\n",
        "          \n",
        "\"\"\"\n"
      ],
      "metadata": {
        "id": "BW1D8UQy96J2"
      },
      "execution_count": null,
      "outputs": []
    },
    {
      "cell_type": "code",
      "source": [
        "#EXAMPLE OF MEMEBERSHIP OPERATOR \n",
        "\n",
        "name=\"AMIT MAHTO\"\n",
        "for ch in name:          #here ch is charcater and values will be stored in this ch.\n",
        "   if ch!=' ':           # this is used because to SKIP the space between AMITT and MAHTO\n",
        "      print(ch , end=\" \")"
      ],
      "metadata": {
        "colab": {
          "base_uri": "https://localhost:8080/"
        },
        "id": "QkYAQVXuAUkr",
        "outputId": "3672da2a-20aa-4229-a3cd-07bedbd174af"
      },
      "execution_count": null,
      "outputs": [
        {
          "output_type": "stream",
          "name": "stdout",
          "text": [
            "A M I T M A H T O "
          ]
        }
      ]
    },
    {
      "cell_type": "code",
      "source": [
        "#MEMBERSHIP OPERATOR WITH IF STATEMENT\n",
        "\n",
        "name = 'AMIT'\n",
        "ch='h'\n",
        "if ch in name:\n",
        "  print('h is Present in Name. name=', name)\n",
        "else:\n",
        "    print('h is not Present in Name. name=', name)"
      ],
      "metadata": {
        "colab": {
          "base_uri": "https://localhost:8080/"
        },
        "id": "N_3vWTOMB7gr",
        "outputId": "7bf92e83-a6a0-4e88-b5f9-9d1c78c12722"
      },
      "execution_count": null,
      "outputs": [
        {
          "output_type": "stream",
          "name": "stdout",
          "text": [
            "h is not Present in Name. name= AMIT\n"
          ]
        }
      ]
    },
    {
      "cell_type": "code",
      "source": [
        "#WAP to count vowels of user enter name?\n",
        "\n",
        "name=str(input('Enter a NAME: '))\n",
        "v=0\n",
        "for ch in name:                   #ch is left operand and name is right operand. here we fetch one one charcter from name\n",
        "  if ch in 'aeiouAEIOU':          # here we check ch value is present or not in right str\n",
        "    v +=1\n",
        "print('Total Vowel in',name , 'is: ', v)\n"
      ],
      "metadata": {
        "colab": {
          "base_uri": "https://localhost:8080/"
        },
        "id": "taIXSMf1DBBJ",
        "outputId": "61e235c3-9eef-4816-f7b0-d128e4a409b4"
      },
      "execution_count": null,
      "outputs": [
        {
          "output_type": "stream",
          "name": "stdout",
          "text": [
            "Enter a NAME: amit\n",
            "Total Vowel in amit is:  2\n"
          ]
        }
      ]
    },
    {
      "cell_type": "code",
      "source": [
        "#Advance Data Type of PYTHON\n",
        "\n",
        "\"\"\"\n",
        "    There are 5 type of advance data type which are as follows:\n",
        "      1. List\n",
        "      2. Tuple\n",
        "      3. Set\n",
        "      4. Dict (Dictionary)\n",
        "      5. String (str)\n",
        "\n",
        "\n",
        "      --> Advance data type are used to store multiple value into single variable.\n",
        "\"\"\""
      ],
      "metadata": {
        "id": "PLqncTz3Hl-l"
      },
      "execution_count": null,
      "outputs": []
    },
    {
      "cell_type": "code",
      "source": [
        "#List:\n",
        "\n",
        "'''\n",
        "     --> List is advance data type of Python.\n",
        "     --> List is used to store multiple values ans seperated by comma , in a single variable.\n",
        "     --> List is always enclosed in a SQUARE BRACKET [].\n",
        "     --> List allows to store any types of values like(boolean,int,float etc). It is also known as hetrogenous collection \n",
        "     --> List allows indexing to access value of it.\n",
        "     --> List index is start from 0.\n",
        "     --> List allows insertion order to store data. means (it will be in sequence order)\n",
        "     --> List allows DUPLICATE values.\n",
        "     --> List is the MUTABLE/CHANGEABLE/MODIFIER DATA TYPE.\n",
        "     --> Syntax of List is: \n",
        "             variable_name = [value1, value2, value3, .....]\n",
        "'''"
      ],
      "metadata": {
        "id": "jawD1pegJZ9D"
      },
      "execution_count": null,
      "outputs": []
    },
    {
      "cell_type": "code",
      "source": [
        "#EMPTY LIST\n",
        "\n",
        "l1=[]\n",
        "print('list: ',l1)"
      ],
      "metadata": {
        "colab": {
          "base_uri": "https://localhost:8080/"
        },
        "id": "MtNYKj39L9Nw",
        "outputId": "3bf93e86-0e7c-4e70-c8ac-b0ddae5524c6"
      },
      "execution_count": null,
      "outputs": [
        {
          "output_type": "stream",
          "name": "stdout",
          "text": [
            "list:  []\n"
          ]
        }
      ]
    },
    {
      "cell_type": "code",
      "source": [
        "# To get type of List\n",
        "\n",
        "l1=[]\n",
        "print('list: ',l1, 'type:- ',type(l1))"
      ],
      "metadata": {
        "colab": {
          "base_uri": "https://localhost:8080/"
        },
        "id": "N8tAb74zNa6G",
        "outputId": "4daaad02-16f9-4b6e-df84-0e3427992faf"
      },
      "execution_count": null,
      "outputs": [
        {
          "output_type": "stream",
          "name": "stdout",
          "text": [
            "list:  [] type:-  <class 'list'>\n"
          ]
        }
      ]
    },
    {
      "cell_type": "code",
      "source": [
        "#Multiple values stored in list\n",
        "\n",
        "l2=[1,1.5,'amit',True,2+7j]\n",
        "print('list: ',l2)\n",
        "\n"
      ],
      "metadata": {
        "colab": {
          "base_uri": "https://localhost:8080/"
        },
        "id": "VCtdnmS_NrIn",
        "outputId": "b6d3eae2-6aed-4825-800b-ed1466c1611e"
      },
      "execution_count": null,
      "outputs": [
        {
          "output_type": "stream",
          "name": "stdout",
          "text": [
            "list:  [1, 1.5, 'amit', True, (2+7j)]\n"
          ]
        }
      ]
    },
    {
      "cell_type": "code",
      "source": [
        "#NESTED LIST\n",
        "\n",
        "l2=[1,1.5,'amit',True,2+7j,[777]]\n",
        "print('list: ',l2)"
      ],
      "metadata": {
        "colab": {
          "base_uri": "https://localhost:8080/"
        },
        "id": "wWJ4288fOBVu",
        "outputId": "f2b4defa-92ec-4fbf-b7f5-9b8738ea8c1c"
      },
      "execution_count": null,
      "outputs": [
        {
          "output_type": "stream",
          "name": "stdout",
          "text": [
            "list:  [1, 1.5, 'amit', True, (2+7j), [777]]\n"
          ]
        }
      ]
    },
    {
      "cell_type": "code",
      "source": [
        "# DUBLICATE VALUES ALLOWED:\n",
        "\n",
        "l3=[1,2,7,7,6,9,2,6,7,3,5]\n",
        "print('list: ',l3)\n",
        "\n"
      ],
      "metadata": {
        "colab": {
          "base_uri": "https://localhost:8080/"
        },
        "id": "RK_BJhOzOnGO",
        "outputId": "266ab780-2b19-4b19-bcb8-480cf644e880"
      },
      "execution_count": null,
      "outputs": [
        {
          "output_type": "stream",
          "name": "stdout",
          "text": [
            "list:  [1, 2, 7, 7, 6, 9, 2, 6, 7, 3, 5]\n"
          ]
        }
      ]
    },
    {
      "cell_type": "code",
      "source": [
        "# List is Iterable Object:\n",
        "\n",
        "l4=[1,2,7,7,6,7,3,5]\n",
        "for i in l4:\n",
        "  print(i, '=', i**2)"
      ],
      "metadata": {
        "colab": {
          "base_uri": "https://localhost:8080/"
        },
        "id": "D1LprqH9PBhE",
        "outputId": "b612e423-2bab-4e1c-9b33-19211eb2d342"
      },
      "execution_count": null,
      "outputs": [
        {
          "output_type": "stream",
          "name": "stdout",
          "text": [
            "1 = 1\n",
            "2 = 4\n",
            "7 = 49\n",
            "7 = 49\n",
            "6 = 36\n",
            "7 = 49\n",
            "3 = 9\n",
            "5 = 25\n"
          ]
        }
      ]
    },
    {
      "cell_type": "code",
      "source": [
        "#List allows indexing and index start from 0\n",
        "# Python list allows negative index also.\n",
        "# This negative index start from end of list\n",
        "\n",
        "l5=[1,27,7,77,6,7,34,5]\n",
        "\n",
        "print(len(l5))\n",
        "print('7th values of list 5 is: ', l5[6])\n",
        "print('7th values of list 5 is: ', l5[-7])\n",
        "\n",
        "print('First value using postive index', l5[0])\n",
        "print('First value using negative index', l5[-len(l5)])\n",
        "\n",
        "print('Last value using Positive index', l5[len(l5)-1])\n",
        "print('Last value using Negative index', l5[-1])\n",
        "\n"
      ],
      "metadata": {
        "colab": {
          "base_uri": "https://localhost:8080/"
        },
        "id": "cayxYAPAP6hF",
        "outputId": "22d446dc-4742-4a4b-b051-fdc7c7bd3e1a"
      },
      "execution_count": null,
      "outputs": [
        {
          "output_type": "stream",
          "name": "stdout",
          "text": [
            "8\n",
            "7th values of list 5 is:  34\n",
            "7th values of list 5 is:  27\n",
            "First value using postive index 1\n",
            "First value using negative index 1\n",
            "Last value using Positive index 5\n",
            "Last value using Negative index 5\n"
          ]
        }
      ]
    },
    {
      "cell_type": "code",
      "source": [
        "#WAP to iterate each value of list by using index.\n",
        "\n",
        "l6=[1,27,7,77,6,7,34,5]\n",
        "for index in range(8):\n",
        "  print(l6[index])\n"
      ],
      "metadata": {
        "colab": {
          "base_uri": "https://localhost:8080/"
        },
        "id": "9UhN0TFFRhZN",
        "outputId": "926ec07e-3975-4e84-c5a7-cec39224c8a4"
      },
      "execution_count": null,
      "outputs": [
        {
          "output_type": "stream",
          "name": "stdout",
          "text": [
            "1\n",
            "27\n",
            "7\n",
            "77\n",
            "6\n",
            "7\n",
            "34\n",
            "5\n"
          ]
        }
      ]
    },
    {
      "cell_type": "code",
      "source": [
        "# Length (len) function\n",
        "# here len() is built-in function which used to count the length\n",
        "\n",
        "l6=[1,27,7,77,6,7,34,5]\n",
        "print(len(l6))"
      ],
      "metadata": {
        "colab": {
          "base_uri": "https://localhost:8080/"
        },
        "id": "SPy556iGTG9i",
        "outputId": "6baef268-b31d-42d1-d4d7-472374f9023d"
      },
      "execution_count": null,
      "outputs": [
        {
          "output_type": "stream",
          "name": "stdout",
          "text": [
            "8\n"
          ]
        }
      ]
    },
    {
      "cell_type": "code",
      "source": [
        "#WAP To print each value of list using negative index.\n",
        "#WAP To print even value of list\n",
        "#WAP to count and print even and odd values of list\n",
        "#WAP To print sum of all values without using a built-in function"
      ],
      "metadata": {
        "id": "N2de2bEZX3v-"
      },
      "execution_count": null,
      "outputs": []
    },
    {
      "cell_type": "code",
      "source": [
        "#WAP To print even value of list\n",
        "\n",
        "l1=[7,89,63,22,49,78,0,93,666,888]\n",
        "for i in l1:\n",
        "  if i % 2 == 0:\n",
        "        print(i, end=\" \")"
      ],
      "metadata": {
        "colab": {
          "base_uri": "https://localhost:8080/"
        },
        "id": "KM450E-Vegmu",
        "outputId": "d3b16c88-31d1-4050-97e4-6a4650ed4ae7"
      },
      "execution_count": 1,
      "outputs": [
        {
          "output_type": "stream",
          "name": "stdout",
          "text": [
            "22 78 0 666 888 "
          ]
        }
      ]
    },
    {
      "cell_type": "code",
      "source": [
        "#WAP to count and print even and odd values of list\n",
        "l1 = [45,63,22,19,78,99,111,28]\n",
        "  \n",
        "even=0 \n",
        "odd = 0\n",
        "n = 0\n",
        "while(n < len(l1)):  \n",
        "    if l1[n] % 2 == 0:          # checking condition\n",
        "        even += 1\n",
        "    else:\n",
        "        odd += 1 \n",
        "    n += 1\n",
        "print(\"Even numbers in the list are : \", even)\n",
        "print(\"Odd numbers in the list are : \", odd)"
      ],
      "metadata": {
        "colab": {
          "base_uri": "https://localhost:8080/"
        },
        "id": "3JmFbVj7hi3N",
        "outputId": "3a0650d3-15ab-4acb-b9e1-f9ee53c5bb3c"
      },
      "execution_count": 7,
      "outputs": [
        {
          "output_type": "stream",
          "name": "stdout",
          "text": [
            "Even numbers in the list are :  3\n",
            "Odd numbers in the list are :  5\n"
          ]
        }
      ]
    }
  ]
}