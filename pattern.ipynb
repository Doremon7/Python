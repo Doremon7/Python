{
  "nbformat": 4,
  "nbformat_minor": 0,
  "metadata": {
    "colab": {
      "name": "pattern.ipynb",
      "provenance": [],
      "authorship_tag": "ABX9TyOK6Z9SAS6tR5yPTe2s4m4y",
      "include_colab_link": true
    },
    "kernelspec": {
      "name": "python3",
      "display_name": "Python 3"
    },
    "language_info": {
      "name": "python"
    }
  },
  "cells": [
    {
      "cell_type": "markdown",
      "metadata": {
        "id": "view-in-github",
        "colab_type": "text"
      },
      "source": [
        "<a href=\"https://colab.research.google.com/github/mahtoamit/Python/blob/main/pattern.ipynb\" target=\"_parent\"><img src=\"https://colab.research.google.com/assets/colab-badge.svg\" alt=\"Open In Colab\"/></a>"
      ]
    },
    {
      "cell_type": "code",
      "execution_count": null,
      "metadata": {
        "colab": {
          "base_uri": "https://localhost:8080/"
        },
        "id": "se1TwXVdr1qm",
        "outputId": "ae5e5922-cb9f-4d74-dbb5-22b153ddfa57"
      },
      "outputs": [
        {
          "output_type": "stream",
          "name": "stdout",
          "text": [
            "Enter the number of rows: 7\n",
            "* \n",
            "* * \n",
            "* * * \n",
            "* * * * \n",
            "* * * * * \n",
            "* * * * * * \n",
            "* * * * * * * \n"
          ]
        }
      ],
      "source": [
        "#INCREASING TRAINGLE\n",
        "\n",
        "n=int(input('Enter the number of rows: '))\n",
        "\n",
        "for row in range(1,n+1):    #outer for loop - used for rows\n",
        "   for col in range(1,row+1):   #inne for loop - used for columns\n",
        "      print('*', end=' ')\n",
        "   print()"
      ]
    },
    {
      "cell_type": "code",
      "source": [
        "#DECREASING TRAINGLE\n",
        "\n",
        "n=int(input('Enter the number of rows: '))\n",
        "\n",
        "for row in range(1,n+1):\n",
        "   for col in range(row,n):\n",
        "      print('*', end=' ')\n",
        "   print()"
      ],
      "metadata": {
        "colab": {
          "base_uri": "https://localhost:8080/"
        },
        "id": "t5RPqB9ktkAU",
        "outputId": "1e2a441d-8420-49df-9be7-ab729aeb9ccb"
      },
      "execution_count": null,
      "outputs": [
        {
          "output_type": "stream",
          "name": "stdout",
          "text": [
            "Enter the number of rows: 7\n",
            "* * * * * * \n",
            "* * * * * \n",
            "* * * * \n",
            "* * * \n",
            "* * \n",
            "* \n",
            "\n"
          ]
        }
      ]
    },
    {
      "cell_type": "code",
      "source": [
        "#RIGHT TRIANGLE\n",
        "\n",
        "n=int(input('Enter the number of rows: '))\n",
        "for row in range(n):\n",
        "    for space in range(row,n):\n",
        "        print(' ',end=' ')\n",
        "    for col in range(row+1):\n",
        "        print('*',end=' ')\n",
        "    print()"
      ],
      "metadata": {
        "colab": {
          "base_uri": "https://localhost:8080/"
        },
        "id": "jrJ_ikMCt_Yd",
        "outputId": "78c75174-bf90-4b81-d8b2-796d64abf069"
      },
      "execution_count": null,
      "outputs": [
        {
          "output_type": "stream",
          "name": "stdout",
          "text": [
            "Enter the number of rows: 7\n",
            "              * \n",
            "            * * \n",
            "          * * * \n",
            "        * * * * \n",
            "      * * * * * \n",
            "    * * * * * * \n",
            "  * * * * * * * \n"
          ]
        }
      ]
    },
    {
      "cell_type": "code",
      "source": [
        "#Left Triangle\n",
        "\n",
        "n=int(input('Enter the number of rows: '))\n",
        "for row in range(1,n+1):\n",
        "    for space in range(row+1):\n",
        "        print(' ',end=' ')\n",
        "    for col in range(row,n):\n",
        "        print('*',end=' ')\n",
        "    print()"
      ],
      "metadata": {
        "colab": {
          "base_uri": "https://localhost:8080/"
        },
        "id": "aPVeNDRvu6Ay",
        "outputId": "86d83bac-ea0c-401b-eee9-ffc190fddf99"
      },
      "execution_count": null,
      "outputs": [
        {
          "output_type": "stream",
          "name": "stdout",
          "text": [
            "Enter the number of rows: 7\n",
            "    * * * * * * \n",
            "      * * * * * \n",
            "        * * * * \n",
            "          * * * \n",
            "            * * \n",
            "              * \n",
            "                \n"
          ]
        }
      ]
    },
    {
      "cell_type": "code",
      "source": [
        "#HILL PATTERN\n",
        "\n",
        "n=int(input('Enter the number of rows: '))\n",
        "for row in range(n):\n",
        "    for space in range(row,n):\n",
        "        print(' ',end=' ')\n",
        "    for col in range(row):        #here we added only row because to make a peak of mountain we reduce 1 column\n",
        "        print('*',end=' ')\n",
        "    for col2 in range(row+1):\n",
        "         print('*',end=' ')\n",
        "    print()"
      ],
      "metadata": {
        "colab": {
          "base_uri": "https://localhost:8080/"
        },
        "id": "6668OdxywuCT",
        "outputId": "70d373e4-67e4-4f89-ebed-6158c62bf171"
      },
      "execution_count": null,
      "outputs": [
        {
          "output_type": "stream",
          "name": "stdout",
          "text": [
            "Enter the number of rows: 7\n",
            "              * \n",
            "            * * * \n",
            "          * * * * * \n",
            "        * * * * * * * \n",
            "      * * * * * * * * * \n",
            "    * * * * * * * * * * * \n",
            "  * * * * * * * * * * * * * \n"
          ]
        }
      ]
    },
    {
      "cell_type": "code",
      "source": [
        "#reverse hill pattern\n",
        "\n",
        "n=int(input('Enter the number of rows: '))\n",
        "for row in range(n):\n",
        "    for space in range(row+1):\n",
        "        print(' ',end=' ')\n",
        "    for col in range(row,n-1):        #here we added only n-1 because to make a peak of mountain we reduce 1 column\n",
        "        print('*',end=' ')\n",
        "    for col2 in range(row,n):\n",
        "         print('*',end=' ')\n",
        "    print()"
      ],
      "metadata": {
        "colab": {
          "base_uri": "https://localhost:8080/"
        },
        "id": "GNKMctB-yGju",
        "outputId": "bc650dd7-b1c4-4705-da6c-db54f2b19ba0"
      },
      "execution_count": null,
      "outputs": [
        {
          "output_type": "stream",
          "name": "stdout",
          "text": [
            "Enter the number of rows: 7\n",
            "  * * * * * * * * * * * * * \n",
            "    * * * * * * * * * * * \n",
            "      * * * * * * * * * \n",
            "        * * * * * * * \n",
            "          * * * * * \n",
            "            * * * \n",
            "              * \n"
          ]
        }
      ]
    },
    {
      "cell_type": "code",
      "source": [
        "#DIAMOND PATTTERN\n",
        "\n",
        "n=int(input('Enter the number of rows: '))\n",
        "for row in range(n-1):          #here we added only n-1 because to make a MIDDLE  peak of mountain we reduce 1 ROW\n",
        "    for space in range(row,n):\n",
        "        print(' ',end=' ')\n",
        "    for col in range(row):       \n",
        "        print('*',end=' ')\n",
        "    for col2 in range(row+1):\n",
        "         print('*',end=' ')\n",
        "    print()\n",
        "\n",
        "for row in range(n):\n",
        "    for space in range(row+1):\n",
        "        print(' ',end=' ')\n",
        "    for col in range(row,n-1):        \n",
        "        print('*',end=' ')\n",
        "    for col2 in range(row,n):\n",
        "         print('*',end=' ')\n",
        "    print()\n",
        "\n"
      ],
      "metadata": {
        "colab": {
          "base_uri": "https://localhost:8080/"
        },
        "id": "F9AYnKsSykQs",
        "outputId": "3a30be5f-b636-4466-9143-f141086b03a8"
      },
      "execution_count": null,
      "outputs": [
        {
          "output_type": "stream",
          "name": "stdout",
          "text": [
            "Enter the number of rows: 7\n",
            "              * \n",
            "            * * * \n",
            "          * * * * * \n",
            "        * * * * * * * \n",
            "      * * * * * * * * * \n",
            "    * * * * * * * * * * * \n",
            "  * * * * * * * * * * * * * \n",
            "    * * * * * * * * * * * \n",
            "      * * * * * * * * * \n",
            "        * * * * * * * \n",
            "          * * * * * \n",
            "            * * * \n",
            "              * \n"
          ]
        }
      ]
    },
    {
      "cell_type": "code",
      "source": [
        "#DIAMOND STAR\n",
        "\n",
        "for row in range(1,4):\n",
        "    for col in range(1,4):\n",
        "        if (row+col)%2==1:\n",
        "            print('*',end=' ')\n",
        "        else:\n",
        "            print(' ',end=' ')\n",
        "    print()"
      ],
      "metadata": {
        "colab": {
          "base_uri": "https://localhost:8080/"
        },
        "id": "D2GE4S9K5eth",
        "outputId": "f09ad994-f676-4174-8452-11b405bc0229"
      },
      "execution_count": null,
      "outputs": [
        {
          "output_type": "stream",
          "name": "stdout",
          "text": [
            "  *   \n",
            "*   * \n",
            "  *   \n"
          ]
        }
      ]
    },
    {
      "cell_type": "code",
      "source": [
        "#WAP to print X with star\n",
        "#n=int(input('Enter the number of stars you want in 1 row: '))\n",
        "#this logic will only work for 3*3 matrix\n",
        "for row in range(1,4):\n",
        "    for col in range(1,4):\n",
        "        if (row+col)%2==0:\n",
        "            print('*',end=' ')\n",
        "        else:\n",
        "            print(' ',end=' ')\n",
        "    print()"
      ],
      "metadata": {
        "colab": {
          "base_uri": "https://localhost:8080/"
        },
        "id": "Xr9Jft6P5y3E",
        "outputId": "6fd1b11a-eb0c-4b6c-9eeb-f6d38d30b08a"
      },
      "execution_count": null,
      "outputs": [
        {
          "output_type": "stream",
          "name": "stdout",
          "text": [
            "*   * \n",
            "  *   \n",
            "*   * \n"
          ]
        }
      ]
    },
    {
      "cell_type": "code",
      "source": [
        "#WAP to print * in diagonal from first row and column to last row and column\n",
        "for row in range(1,6):\n",
        "    for col in range(1,6):\n",
        "        if row==col:\n",
        "            print('*',end=' ')\n",
        "        else:\n",
        "            print(' ',end=' ')\n",
        "    print()"
      ],
      "metadata": {
        "colab": {
          "base_uri": "https://localhost:8080/"
        },
        "id": "NIAazBYO6Fu9",
        "outputId": "62db401a-7da2-488f-973c-2174a76ba9e9"
      },
      "execution_count": null,
      "outputs": [
        {
          "output_type": "stream",
          "name": "stdout",
          "text": [
            "*         \n",
            "  *       \n",
            "    *     \n",
            "      *   \n",
            "        * \n"
          ]
        }
      ]
    },
    {
      "cell_type": "code",
      "source": [
        "#WAP to print * in diagonal from first row and column to last row and column\n",
        "for row in range(1,6):\n",
        "    for col in range(1,6):\n",
        "        if row+col==6:\n",
        "            print('*',end=' ')\n",
        "        else:\n",
        "            print(' ',end=' ')\n",
        "    print()"
      ],
      "metadata": {
        "colab": {
          "base_uri": "https://localhost:8080/"
        },
        "id": "P6KN8lN16PgE",
        "outputId": "81408709-cc9a-4a0f-bc12-c6856704d235"
      },
      "execution_count": null,
      "outputs": [
        {
          "output_type": "stream",
          "name": "stdout",
          "text": [
            "        * \n",
            "      *   \n",
            "    *     \n",
            "  *       \n",
            "*         \n"
          ]
        }
      ]
    },
    {
      "cell_type": "code",
      "source": [
        "#WAP to print square with *\n",
        "for row in range(1,4):\n",
        "    for col in range(1,4):\n",
        "        print(row,col,sep='',end=' ')\n",
        "    print()"
      ],
      "metadata": {
        "colab": {
          "base_uri": "https://localhost:8080/"
        },
        "id": "P_dFnwmw6bcl",
        "outputId": "b14a34ab-3635-4377-d54c-a33c7da3da76"
      },
      "execution_count": null,
      "outputs": [
        {
          "output_type": "stream",
          "name": "stdout",
          "text": [
            "11 12 13 \n",
            "21 22 23 \n",
            "31 32 33 \n"
          ]
        }
      ]
    },
    {
      "cell_type": "code",
      "source": [
        "#SORTCUT TIPS AND TRICK\n",
        "\n",
        "n=int(input('enter the number of rows: '))\n",
        "for i in range(1,n+1):\n",
        "  print(' * '*i)\n",
        "  \n",
        "    "
      ],
      "metadata": {
        "colab": {
          "base_uri": "https://localhost:8080/"
        },
        "id": "L3ctXYWP7Dv9",
        "outputId": "92fd3d9f-2ac3-4073-a6d5-3b714ad8ca42"
      },
      "execution_count": null,
      "outputs": [
        {
          "output_type": "stream",
          "name": "stdout",
          "text": [
            "enter the number of rows: 8\n",
            " * \n",
            " *  * \n",
            " *  *  * \n",
            " *  *  *  * \n",
            " *  *  *  *  * \n",
            " *  *  *  *  *  * \n",
            " *  *  *  *  *  *  * \n",
            " *  *  *  *  *  *  *  * \n"
          ]
        }
      ]
    },
    {
      "cell_type": "code",
      "source": [
        "#NOTES:\n",
        "\n",
        "# for col in range(1,row+1): = for increasing traingle from left we usse this syntax \n",
        "# for col in range(row,n):   = for decreasing traingle from left we usse this syntax \n",
        "\n",
        "#  for col in range(row+1):  = for increasing traingle from right we usse this syntax \n",
        "#  for col in range(row,n-1):  = for decreasing/remove/delete one column we use this syntax"
      ],
      "metadata": {
        "id": "oPgK9D4g1U7a"
      },
      "execution_count": null,
      "outputs": []
    }
  ]
}