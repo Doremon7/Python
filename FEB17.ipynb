{
  "nbformat": 4,
  "nbformat_minor": 0,
  "metadata": {
    "colab": {
      "name": "FEB17.ipynb",
      "provenance": [],
      "authorship_tag": "ABX9TyOIG5hjvVm10vYjo9YCuKap",
      "include_colab_link": true
    },
    "kernelspec": {
      "name": "python3",
      "display_name": "Python 3"
    },
    "language_info": {
      "name": "python"
    }
  },
  "cells": [
    {
      "cell_type": "markdown",
      "metadata": {
        "id": "view-in-github",
        "colab_type": "text"
      },
      "source": [
        "<a href=\"https://colab.research.google.com/github/mahtoamit/Python/blob/main/FEB17.ipynb\" target=\"_parent\"><img src=\"https://colab.research.google.com/assets/colab-badge.svg\" alt=\"Open In Colab\"/></a>"
      ]
    },
    {
      "cell_type": "code",
      "execution_count": null,
      "metadata": {
        "id": "XBYkfvFDTtun"
      },
      "outputs": [],
      "source": [
        "# METHOD OF DICTIONARIES IN DATA TYPES\n",
        "'''\n",
        "\n",
        "1. keys(): It is used to get a set of all keys which is present in dictionary.\n",
        "2. values(): It is used to get all the values which is present in dictionary.\n",
        "3. items(): It is used to get all the tuple of  keys and values of a dictionary.\n",
        "4. get(key): It is used to get values of specidied key from dictionary.\n",
        "5. pop(key): It is used to remove specified key with value from dictionary.\n",
        "6. popitem(): It is used to remove last pair/item from dictionary.\n",
        "7. clear(): It will remove everything from dictionary.\n",
        "\n",
        "'''\n"
      ]
    },
    {
      "cell_type": "code",
      "source": [
        "#KEYS():\n",
        "\n",
        "d1={\n",
        "    'Book Id' : 1111,\n",
        "    'BookName' : 'Core Python',\n",
        "    'Book Price' : 750\n",
        "}\n",
        "\n",
        "print(d1.keys())"
      ],
      "metadata": {
        "colab": {
          "base_uri": "https://localhost:8080/"
        },
        "id": "6soFmVWVYyeQ",
        "outputId": "5a932a8d-c9e6-4593-84ba-af0c884f4b29"
      },
      "execution_count": null,
      "outputs": [
        {
          "output_type": "stream",
          "name": "stdout",
          "text": [
            "dict_keys(['Book Id', 'BookName', 'Book Price'])\n"
          ]
        }
      ]
    },
    {
      "cell_type": "code",
      "source": [
        "#VALUES():\n",
        "\n",
        "print(d1.values())"
      ],
      "metadata": {
        "colab": {
          "base_uri": "https://localhost:8080/"
        },
        "id": "KeuBGoCCZ0lY",
        "outputId": "d2837b1e-4f15-4a40-d57f-58499ad8384d"
      },
      "execution_count": null,
      "outputs": [
        {
          "output_type": "stream",
          "name": "stdout",
          "text": [
            "dict_values([1111, 'Core Python', 750])\n"
          ]
        }
      ]
    },
    {
      "cell_type": "code",
      "source": [
        "#ITEMS()\n",
        "\n",
        "print(d1.items())"
      ],
      "metadata": {
        "colab": {
          "base_uri": "https://localhost:8080/"
        },
        "id": "Dn2oo07uZ_qf",
        "outputId": "bc415305-fea7-4d69-d350-dbca450f8d13"
      },
      "execution_count": null,
      "outputs": [
        {
          "output_type": "stream",
          "name": "stdout",
          "text": [
            "dict_items([('Book Id', 1111), ('BookName', 'Core Python'), ('Book Price', 750)])\n"
          ]
        }
      ]
    },
    {
      "cell_type": "code",
      "source": [
        "#1st Method - To get keys using for loop\n",
        "\n",
        "for i in d1:\n",
        "  print(i, end=\": \")\n",
        "  print(d1[i])"
      ],
      "metadata": {
        "colab": {
          "base_uri": "https://localhost:8080/"
        },
        "id": "1oFAiTzpa3WA",
        "outputId": "7050ac90-043f-4e2e-d90c-ee462563d9ec"
      },
      "execution_count": null,
      "outputs": [
        {
          "output_type": "stream",
          "name": "stdout",
          "text": [
            "Book Id: 1111\n",
            "BookName: Core Python\n",
            "Book Price: 750\n"
          ]
        }
      ]
    },
    {
      "cell_type": "code",
      "source": [
        "#2nd Method - To get keys using for loop\n",
        "\n",
        "for i in d1.keys():\n",
        "  print(i, end=\": \")\n",
        "  print(d1[i])"
      ],
      "metadata": {
        "colab": {
          "base_uri": "https://localhost:8080/"
        },
        "id": "VIkxx9pnbDb_",
        "outputId": "997239cc-0e39-47ba-84a6-960c6a0dadc9"
      },
      "execution_count": null,
      "outputs": [
        {
          "output_type": "stream",
          "name": "stdout",
          "text": [
            "Book Id: 1111\n",
            "BookName: Core Python\n",
            "Book Price: 750\n"
          ]
        }
      ]
    },
    {
      "cell_type": "code",
      "source": [
        "# To get values using for loop\n",
        "for i in d1.values():\n",
        "  print(i)\n"
      ],
      "metadata": {
        "colab": {
          "base_uri": "https://localhost:8080/"
        },
        "id": "LtzjAhGCcCu4",
        "outputId": "a1131cbf-321b-4aa7-c67c-11f66b1f3506"
      },
      "execution_count": null,
      "outputs": [
        {
          "output_type": "stream",
          "name": "stdout",
          "text": [
            "1111\n",
            "Core Python\n",
            "750\n"
          ]
        }
      ]
    },
    {
      "cell_type": "code",
      "source": [
        "# To get pair items using for loop\n",
        "for k,v in d1.items():\n",
        "  print(k, '=', v)\n",
        "\n"
      ],
      "metadata": {
        "colab": {
          "base_uri": "https://localhost:8080/"
        },
        "id": "rJmj6kgNcpBu",
        "outputId": "957e57a4-8971-4c67-f842-073bf874becc"
      },
      "execution_count": null,
      "outputs": [
        {
          "output_type": "stream",
          "name": "stdout",
          "text": [
            "Book Id = 1111\n",
            "BookName = Core Python\n",
            "Book Price = 750\n"
          ]
        }
      ]
    },
    {
      "cell_type": "code",
      "source": [
        "#GET(KEY):\n",
        "\n",
        "print(d1.get('BookName'))"
      ],
      "metadata": {
        "colab": {
          "base_uri": "https://localhost:8080/"
        },
        "id": "bNqNLwZedCeX",
        "outputId": "727c4671-7518-4c80-ec53-c6c9a40899b6"
      },
      "execution_count": null,
      "outputs": [
        {
          "output_type": "stream",
          "name": "stdout",
          "text": [
            "Core Python\n"
          ]
        }
      ]
    },
    {
      "cell_type": "code",
      "source": [
        "#POP(KEY)\n",
        "\n",
        "print(d1.pop('BookName'))"
      ],
      "metadata": {
        "colab": {
          "base_uri": "https://localhost:8080/"
        },
        "id": "DMG1-M_kdu8H",
        "outputId": "da3deace-696d-43df-b127-bef0a8e7a005"
      },
      "execution_count": null,
      "outputs": [
        {
          "output_type": "stream",
          "name": "stdout",
          "text": [
            "Core Python\n"
          ]
        }
      ]
    },
    {
      "cell_type": "code",
      "source": [
        "#POPITEM():\n",
        "\n",
        "d1.popitem()\n",
        "print(d1)"
      ],
      "metadata": {
        "colab": {
          "base_uri": "https://localhost:8080/"
        },
        "id": "ock1DnB1d3Hu",
        "outputId": "417b3f67-080b-4479-cc75-e42db598a682"
      },
      "execution_count": null,
      "outputs": [
        {
          "output_type": "stream",
          "name": "stdout",
          "text": [
            "{'Book Id': 1111}\n"
          ]
        }
      ]
    },
    {
      "cell_type": "code",
      "source": [
        "#CLEAR():\n",
        "\n",
        "d1.clear()\n",
        "print(d1)"
      ],
      "metadata": {
        "colab": {
          "base_uri": "https://localhost:8080/"
        },
        "id": "vj-t36sQfQd3",
        "outputId": "3e01879f-aba9-4167-cc23-acc4e9560f7f"
      },
      "execution_count": null,
      "outputs": [
        {
          "output_type": "stream",
          "name": "stdout",
          "text": [
            "{}\n"
          ]
        }
      ]
    },
    {
      "cell_type": "code",
      "source": [
        "# research different types of method of dictionary (homework)"
      ],
      "metadata": {
        "id": "29yU2Uaafuu1"
      },
      "execution_count": null,
      "outputs": []
    },
    {
      "cell_type": "markdown",
      "source": [
        "                                                                                             ---------------------- END--------------------------"
      ],
      "metadata": {
        "id": "jz3ly7GYgT3N"
      }
    },
    {
      "cell_type": "code",
      "source": [
        "#STRING:\n",
        "\n",
        "'''\n",
        "--> String is a collection of charcters.\n",
        "--> In Python there are 3 ways to create a String.\n",
        "     1. Using Single Quotes: (' ')\n",
        "     2. Using Double Quotes: (\" \")\n",
        "     3. Using Triple Quotes: ('''   ''')\n",
        "--> String is Immuatble data.\n",
        "--> String Support both indexing Positive & Negative\n",
        "\n",
        "\n",
        "'''"
      ],
      "metadata": {
        "id": "0cAwo-jdgDLW"
      },
      "execution_count": null,
      "outputs": []
    },
    {
      "cell_type": "code",
      "source": [
        "#Example:\n",
        "\n",
        "s1='Amit'\n",
        "s2=\"Amit\"\n",
        "s3='''Amit'''\n",
        "s4=\"\"\"Amit\"\"\"\n",
        "\n",
        "print(s1,type(s1))\n",
        "print(s2,type(s2))\n",
        "print(s3,type(s3))\n",
        "print(s4,type(s4))"
      ],
      "metadata": {
        "colab": {
          "base_uri": "https://localhost:8080/"
        },
        "id": "rfw0ArfBhWG2",
        "outputId": "a9a4ba6b-8381-4bf9-b9dc-56ade3d31bb5"
      },
      "execution_count": null,
      "outputs": [
        {
          "output_type": "stream",
          "name": "stdout",
          "text": [
            "Amit <class 'str'>\n",
            "Amit <class 'str'>\n",
            "Amit <class 'str'>\n",
            "Amit <class 'str'>\n"
          ]
        }
      ]
    },
    {
      "cell_type": "code",
      "source": [
        "#String Operator:\n",
        "\n",
        "'''\n",
        "2 Types \n",
        "+ : It is used to concat 2 string.\n",
        "* : It is use to multiply string with int.\n",
        "\n",
        "'''"
      ],
      "metadata": {
        "id": "ve1MPWAxigWt"
      },
      "execution_count": null,
      "outputs": []
    },
    {
      "cell_type": "code",
      "source": [
        "#INDEX WITH STRING\n",
        "\n",
        "s1='Hi, I am Amit'\n",
        "\n",
        "#to get length of string\n",
        "print('Length of String is: ', len(s1))\n",
        "\n",
        "#to get index of string using positive side\n",
        "print('Index at s1[7] = ', s1[7])\n",
        "print('Index at s1[9] = ', s1[9])\n",
        "\n",
        "#to get index of string using negative side\n",
        "print('Index at s1[-7] = ', s1[-7])\n",
        "print('Index at s1[-9] = ', s1[-9])"
      ],
      "metadata": {
        "colab": {
          "base_uri": "https://localhost:8080/"
        },
        "id": "A0QPzsWci7gd",
        "outputId": "154c380f-9b43-4211-b68a-140725e0bff1"
      },
      "execution_count": null,
      "outputs": [
        {
          "output_type": "stream",
          "name": "stdout",
          "text": [
            "Length of String is:  13\n",
            "Index at s1[7] =  m\n",
            "Index at s1[9] =  A\n",
            "Index at s1[-7] =  a\n",
            "Index at s1[-9] =  I\n"
          ]
        }
      ]
    },
    {
      "cell_type": "code",
      "source": [
        "## METHOD OF STRING IN DATA TYPES\n",
        "\n",
        "'''\n",
        "\n",
        "1. title(): Convert 1st letter of each word in capital case.\n",
        "2.uppercase(): Convert entier string to capital\n",
        "3. lowercase(): Convert eniter string to lower\n",
        "4. capitalize(): Only do 1st letter capital of 1st word only.\n",
        "\n",
        "'''\n"
      ],
      "metadata": {
        "id": "cLASLQ2lkcCM"
      },
      "execution_count": null,
      "outputs": []
    },
    {
      "cell_type": "code",
      "source": [
        "#TITLE()\n",
        "\n",
        "s1='Amit mahto'\n",
        "print(s1.title())"
      ],
      "metadata": {
        "colab": {
          "base_uri": "https://localhost:8080/"
        },
        "id": "fXqot7v2kx4b",
        "outputId": "2b522b5c-8e92-43a2-dca4-5bd879927dbc"
      },
      "execution_count": null,
      "outputs": [
        {
          "output_type": "stream",
          "name": "stdout",
          "text": [
            "Amit Mahto\n"
          ]
        }
      ]
    },
    {
      "cell_type": "code",
      "source": [
        "#UPPERCASE():\n",
        "\n",
        "print(s1.upper())"
      ],
      "metadata": {
        "colab": {
          "base_uri": "https://localhost:8080/"
        },
        "id": "Vb8q2Ha6lW_z",
        "outputId": "5c082ac5-67be-462b-dbfd-5bf8ba7fabf5"
      },
      "execution_count": null,
      "outputs": [
        {
          "output_type": "stream",
          "name": "stdout",
          "text": [
            "AMIT MAHTO\n"
          ]
        }
      ]
    },
    {
      "cell_type": "code",
      "source": [
        "#LOWERCASE():\n",
        "\n",
        "print(s1.lower())"
      ],
      "metadata": {
        "colab": {
          "base_uri": "https://localhost:8080/"
        },
        "id": "Ajfq-i5Ula67",
        "outputId": "8a3e24a1-ff73-4538-bca4-5bf2f990c42a"
      },
      "execution_count": null,
      "outputs": [
        {
          "output_type": "stream",
          "name": "stdout",
          "text": [
            "amit mahto\n"
          ]
        }
      ]
    },
    {
      "cell_type": "code",
      "source": [
        "#CAPITALIZE():\n",
        "print(s1.capitalize())"
      ],
      "metadata": {
        "colab": {
          "base_uri": "https://localhost:8080/"
        },
        "id": "RURs30wYlzfj",
        "outputId": "6c21a549-ed7f-4055-e805-0b2b62d4e21a"
      },
      "execution_count": null,
      "outputs": [
        {
          "output_type": "stream",
          "name": "stdout",
          "text": [
            "Amit mahto\n"
          ]
        }
      ]
    },
    {
      "cell_type": "code",
      "source": [
        "#SPLIT()\n",
        "\n",
        "s2='Amit Rohan Jay Raj'\n",
        "namelist=s2.split(' ')\n",
        "print(namelist)\n",
        "\n",
        "#to split any charcter\n",
        "namelist=s2.split('a')\n",
        "print(namelist)"
      ],
      "metadata": {
        "colab": {
          "base_uri": "https://localhost:8080/"
        },
        "id": "oM6uR40ImWGi",
        "outputId": "bd852737-a838-404c-ec98-8939dc652340"
      },
      "execution_count": null,
      "outputs": [
        {
          "output_type": "stream",
          "name": "stdout",
          "text": [
            "['Amit', 'Rohan', 'Jay', 'Raj']\n",
            "['Amit Roh', 'n J', 'y R', 'j']\n"
          ]
        }
      ]
    },
    {
      "cell_type": "code",
      "source": [
        "#JOIN():\n",
        "\n",
        "s1='Raj'\n",
        "s2='Amit'\n",
        "s3='Jay'\n",
        "s4='Ujwal'\n",
        "\n",
        "s5=','.join([s1,s2,s3,s4])\n",
        "print(s5)\n",
        "\n",
        "s6=' '.join([s1,s2,s3,s4])\n",
        "print(s6)\n",
        "\n",
        "s7='#'.join([s1,s2,s3,s4])\n",
        "print(s7)"
      ],
      "metadata": {
        "colab": {
          "base_uri": "https://localhost:8080/"
        },
        "id": "_A0O0CQsnai7",
        "outputId": "5bb7ed90-76f4-4b7d-db0e-a68390eec865"
      },
      "execution_count": null,
      "outputs": [
        {
          "output_type": "stream",
          "name": "stdout",
          "text": [
            "Raj,Amit,Jay,Ujwal\n",
            "Raj Amit Jay Ujwal\n",
            "Raj#Amit#Jay#Ujwal\n"
          ]
        }
      ]
    },
    {
      "cell_type": "code",
      "source": [
        "#STARTSWITH(): \n",
        "#ENDSWITH():\n",
        "\n",
        "email=input('Enter your Email-Id: ')\n",
        "email=email.lower()\n",
        "if email.endswith('@gmail.com'):     #if email.endswith('@gmail.com') and email.islower():\n",
        "  print('Your Email is Valid! Go Forward')\n",
        "else:\n",
        "  print('Your Email is Invalid! Please Check Your Email')"
      ],
      "metadata": {
        "colab": {
          "base_uri": "https://localhost:8080/"
        },
        "id": "686O-DSboq6b",
        "outputId": "5c1b71e5-c3be-448c-a934-114e85b80331"
      },
      "execution_count": null,
      "outputs": [
        {
          "output_type": "stream",
          "name": "stdout",
          "text": [
            "Enter your Email-Id: mahtoamitg@Gmail.com\n",
            "Your Email is Valid! Go Forward\n"
          ]
        }
      ]
    },
    {
      "cell_type": "code",
      "source": [
        "#Types of String:\n",
        "'''\n",
        "1.Plain String\n",
        "2. Format String\n",
        "3. Raw String\n",
        "4. Binary String\n",
        "\n",
        "'''"
      ],
      "metadata": {
        "id": "Nqiw9c_qrwUq"
      },
      "execution_count": null,
      "outputs": []
    },
    {
      "cell_type": "code",
      "source": [
        "#Plain String\n",
        "\n",
        "name='Amit'\n",
        "city='Mumbai'\n",
        "age=23\n",
        "\n",
        "s1='Hi, I am ' + name + ' and I stay in ' + city + '  My age is ' + str(age);\n",
        "print(s1)"
      ],
      "metadata": {
        "colab": {
          "base_uri": "https://localhost:8080/"
        },
        "id": "xvOTzm5lsjY5",
        "outputId": "80cb9ea7-4db7-4979-8c84-110c8b71fb8e"
      },
      "execution_count": null,
      "outputs": [
        {
          "output_type": "stream",
          "name": "stdout",
          "text": [
            "Hi, I am Amit and I stay in Mumbai  My age is 23\n"
          ]
        }
      ]
    },
    {
      "cell_type": "code",
      "source": [
        "#Format String\n",
        "#String which preffix with f is known as format string\n",
        "# It allows to access the variable using place holder. i.e {variable_name}\n",
        "\n",
        "s2=f'Hi, I am {name}. I stay in {city}. My age is {age}.'\n",
        "print(s2)"
      ],
      "metadata": {
        "colab": {
          "base_uri": "https://localhost:8080/"
        },
        "id": "0_ME9Qw4tkdh",
        "outputId": "902f5e06-dae8-4d63-b1c0-fd9af6962527"
      },
      "execution_count": null,
      "outputs": [
        {
          "output_type": "stream",
          "name": "stdout",
          "text": [
            "Hi, I am Amit. I stay in Mumbai. My age is 23.\n"
          ]
        }
      ]
    },
    {
      "cell_type": "code",
      "source": [
        "#RAW String\n",
        "# --> The string which is preffix with r is known as RAW string\n",
        "#--> It avoid nescape chracter\n",
        "\n",
        "s3='c:\\demo\\hello.txt'\n",
        "print(s3)\n",
        "\n",
        "s4=r'c:\\demo\\test.txt'       #without r it will treat as \\t which is know as tab\n",
        "print(s4)\n",
        "\n",
        "\n",
        "s5=r'c:\\demo\\new.txt'    #without r it will treat as \\n which is know as new line\n",
        "print(s5)\n",
        "\n"
      ],
      "metadata": {
        "colab": {
          "base_uri": "https://localhost:8080/"
        },
        "id": "u786ZffiuxvA",
        "outputId": "4552124d-645a-4131-fdde-4446eef5862c"
      },
      "execution_count": null,
      "outputs": [
        {
          "output_type": "stream",
          "name": "stdout",
          "text": [
            "c:\\demo\\hello.txt\n",
            "c:\\demo\\test.txt\n",
            "c:\\demo\\new.txt\n"
          ]
        }
      ]
    },
    {
      "cell_type": "code",
      "source": [
        "#Binary String:\n",
        "# --> The string which is preffix with b is known as binary string\n",
        "\n",
        "s6=b'Amit'\n",
        "print(s6)"
      ],
      "metadata": {
        "colab": {
          "base_uri": "https://localhost:8080/"
        },
        "id": "eeFtItGjwjfp",
        "outputId": "9e5f4f90-a36e-461e-ce25-d9d34f8f3400"
      },
      "execution_count": null,
      "outputs": [
        {
          "output_type": "stream",
          "name": "stdout",
          "text": [
            "b'Amit'\n"
          ]
        }
      ]
    },
    {
      "cell_type": "code",
      "source": [
        "#String with For LOOP\n",
        "\n",
        "s1='Amit'\n",
        "for i in s1:\n",
        "  print(i)"
      ],
      "metadata": {
        "colab": {
          "base_uri": "https://localhost:8080/"
        },
        "id": "D8eExQidt8AC",
        "outputId": "7bf04af5-83a1-405d-ade0-0d45621cf768"
      },
      "execution_count": null,
      "outputs": [
        {
          "output_type": "stream",
          "name": "stdout",
          "text": [
            "A\n",
            "m\n",
            "i\n",
            "t\n"
          ]
        }
      ]
    },
    {
      "cell_type": "code",
      "source": [
        "#WAP to accept name from user and print it in reverse order\n",
        "\n",
        "name=input('Enter Your name: ')\n",
        "length=len(name)\n",
        "rev=''\n",
        "\n",
        "for index in range(length-1,-1,-1):\n",
        "  rev=rev+name[index]\n",
        "print('Name: ', name)\n",
        "print('Reverse of Name : ', rev)"
      ],
      "metadata": {
        "colab": {
          "base_uri": "https://localhost:8080/"
        },
        "id": "xQNKgbPExp0Q",
        "outputId": "4d6d2109-e57b-4909-d190-bfd0729df556"
      },
      "execution_count": null,
      "outputs": [
        {
          "output_type": "stream",
          "name": "stdout",
          "text": [
            "Enter Your name: AMIT\n",
            "Name:  AMIT\n",
            "Reverse of Name :  TIMA\n"
          ]
        }
      ]
    }
  ]
}