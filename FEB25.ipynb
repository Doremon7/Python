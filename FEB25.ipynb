{
  "nbformat": 4,
  "nbformat_minor": 0,
  "metadata": {
    "colab": {
      "name": "FEB25.ipynb",
      "provenance": [],
      "authorship_tag": "ABX9TyMRKecEy42U/XA+Fgi1ku67",
      "include_colab_link": true
    },
    "kernelspec": {
      "name": "python3",
      "display_name": "Python 3"
    },
    "language_info": {
      "name": "python"
    }
  },
  "cells": [
    {
      "cell_type": "markdown",
      "metadata": {
        "id": "view-in-github",
        "colab_type": "text"
      },
      "source": [
        "<a href=\"https://colab.research.google.com/github/mahtoamit/Python/blob/main/FEB25.ipynb\" target=\"_parent\"><img src=\"https://colab.research.google.com/assets/colab-badge.svg\" alt=\"Open In Colab\"/></a>"
      ]
    },
    {
      "cell_type": "code",
      "execution_count": null,
      "metadata": {
        "colab": {
          "base_uri": "https://localhost:8080/"
        },
        "id": "7n6SNDWaVjvg",
        "outputId": "50657389-1ec9-424c-bbf8-15224df1d524"
      },
      "outputs": [
        {
          "output_type": "stream",
          "name": "stdout",
          "text": [
            "Enter a number : 9\n",
            "9 Is Even Number False\n"
          ]
        }
      ],
      "source": [
        "#wap to create a lambda function which return true if number is even\n",
        "\n",
        "n = int(input('Enter a number : '))\n",
        "evenodd=lambda n:n%2==0\n",
        "print(n,'Is Even Number - ',evenodd(n))\n",
        "\n",
        "#Lambda are mainly used when we want to pass function as parameter /argument or another function.\n"
      ]
    },
    {
      "cell_type": "code",
      "source": [
        "#Let see on custom example\n",
        "\n",
        "def cal(n1,n2,action):\n",
        "  return action(n1,n2)\n",
        "\n",
        "n1 = int(input('Enter a number : '))\n",
        "n2 = int(input('Enter a number : '))\n",
        "\n",
        "add = cal(n1,n2, lambda n1,n2:n1+n2)\n",
        "mul = cal(n1,n2, lambda n1,n2:n1*n2)\n",
        "pow = cal(n1,n2, lambda n,p:n**p)\n",
        "sub = cal(n1,n2, lambda n1,n2:n1-n2)\n",
        "\n",
        "\n",
        "print('Addition is', add)\n",
        "print('Multiply is', mul)\n",
        "print('Power is', pow)\n",
        "print('Sub is', sub)"
      ],
      "metadata": {
        "colab": {
          "base_uri": "https://localhost:8080/"
        },
        "id": "3r-MAPABdKXQ",
        "outputId": "1cf70f97-69a1-4207-ee02-7da7e4b85878"
      },
      "execution_count": null,
      "outputs": [
        {
          "output_type": "stream",
          "name": "stdout",
          "text": [
            "Enter a number : 3\n",
            "Enter a number : 2\n",
            "Addition is 5\n",
            "Multiply is 6\n",
            "Power is 9\n"
          ]
        }
      ]
    },
    {
      "cell_type": "markdown",
      "source": [
        "#Lambda function with built-in-function\n"
      ],
      "metadata": {
        "id": "xkIrFtzNjFpI"
      }
    },
    {
      "cell_type": "markdown",
      "source": [
        "#1.filter(function, iterable_object)"
      ],
      "metadata": {
        "id": "CEbA66p1mbAV"
      }
    },
    {
      "cell_type": "code",
      "source": [
        "'''\n",
        "1.filter(function, iterable_object)\n",
        "    Filter function is used to filter the iterable object based on condition which as parameter to filter function itself.\n",
        "    It return the filter object only.\n",
        "'''\n",
        "#METHOD - 01\n",
        "l1=['Amit', 'Ujwal', 'Raj','Sameer', 'Ankit', 'Sanjay', 'Mayur']\n",
        "vowelname = []\n",
        "for name in l1:\n",
        "  if name[0] in 'aeiouAEIOU':\n",
        "    vowelname.append(name)\n",
        "print('L1-',  l1)\n",
        "print('Vowel Names - ', vowelname)"
      ],
      "metadata": {
        "colab": {
          "base_uri": "https://localhost:8080/"
        },
        "id": "runoEbmViS9Q",
        "outputId": "0989d6c1-b026-40c5-bf03-d1282c91a029"
      },
      "execution_count": null,
      "outputs": [
        {
          "output_type": "stream",
          "name": "stdout",
          "text": [
            "L1- ['Amit', 'Ujwal', 'Raj', 'Sameer', 'Ankit', 'Sanjay', 'Mayur']\n",
            "Vowel Names -  ['Amit', 'Ujwal', 'Ankit']\n"
          ]
        }
      ]
    },
    {
      "cell_type": "code",
      "source": [
        "#METHOD - 02 - Using LIIST COMPREHENSION\n",
        "\n",
        "l1=['Amit', 'Ujwal', 'Raj','Sameer', 'Ankit', 'Sanjay', 'Mayur']\n",
        "vowelname = [name for name in l1 if name[0] in 'aeiouAEIOU']\n",
        "print('L1-',  l1)\n",
        "print('Vowel Names - ', vowelname)\n"
      ],
      "metadata": {
        "colab": {
          "base_uri": "https://localhost:8080/"
        },
        "id": "qRnhxBMYnkS5",
        "outputId": "3c9cc9e4-b914-43d5-b2ac-7374119f1872"
      },
      "execution_count": null,
      "outputs": [
        {
          "output_type": "stream",
          "name": "stdout",
          "text": [
            "L1- ['Amit', 'Ujwal', 'Raj', 'Sameer', 'Ankit', 'Sanjay', 'Mayur']\n",
            "Vowel Names -  ['Amit', 'Ujwal', 'Ankit']\n"
          ]
        }
      ]
    },
    {
      "cell_type": "code",
      "source": [
        "#METHOD - 03 - Using FILTER\n",
        "\n",
        "l1=['Amit', 'Ujwal', 'Raj','Sameer', 'Ankit', 'Sanjay', 'Mayur']\n",
        "vowelname = set(filter(lambda name:name[0] in 'aeiouAEIOU',l1))   #here we can use set,list,tuple\n",
        "print('L1-',  l1)\n",
        "print('Vowel Names - ', vowelname)"
      ],
      "metadata": {
        "colab": {
          "base_uri": "https://localhost:8080/"
        },
        "id": "VJar-5xZof39",
        "outputId": "d68f7281-ead5-4300-ac2f-43f53a8ff559"
      },
      "execution_count": null,
      "outputs": [
        {
          "output_type": "stream",
          "name": "stdout",
          "text": [
            "L1- ['Amit', 'Ujwal', 'Raj', 'Sameer', 'Ankit', 'Sanjay', 'Mayur']\n",
            "Vowel Names -  {'Amit', 'Ankit', 'Ujwal'}\n"
          ]
        }
      ]
    },
    {
      "cell_type": "code",
      "source": [
        "'''\n",
        "  2. map(function,iterable_object)\n",
        "  3. reduce(function,iterable_object)\n",
        "    from functools import reduce - this line we have to write before using reduce\n",
        "\n",
        "'''"
      ],
      "metadata": {
        "id": "1cDVx2_usbNd"
      },
      "execution_count": null,
      "outputs": []
    },
    {
      "cell_type": "code",
      "source": [
        "from functools import reduce\n",
        "reduce()"
      ],
      "metadata": {
        "colab": {
          "base_uri": "https://localhost:8080/",
          "height": 183
        },
        "id": "Rk82AyASuJ3e",
        "outputId": "9a8bcd06-1e25-4683-922a-b7fff09b6ade"
      },
      "execution_count": null,
      "outputs": [
        {
          "output_type": "error",
          "ename": "TypeError",
          "evalue": "ignored",
          "traceback": [
            "\u001b[0;31m---------------------------------------------------------------------------\u001b[0m",
            "\u001b[0;31mTypeError\u001b[0m                                 Traceback (most recent call last)",
            "\u001b[0;32m<ipython-input-24-f24a7be7f59b>\u001b[0m in \u001b[0;36m<module>\u001b[0;34m()\u001b[0m\n\u001b[1;32m      1\u001b[0m \u001b[0;32mfrom\u001b[0m \u001b[0mfunctools\u001b[0m \u001b[0;32mimport\u001b[0m \u001b[0mreduce\u001b[0m\u001b[0;34m\u001b[0m\u001b[0;34m\u001b[0m\u001b[0m\n\u001b[0;32m----> 2\u001b[0;31m \u001b[0mreduce\u001b[0m\u001b[0;34m(\u001b[0m\u001b[0;34m)\u001b[0m\u001b[0;34m\u001b[0m\u001b[0;34m\u001b[0m\u001b[0m\n\u001b[0m",
            "\u001b[0;31mTypeError\u001b[0m: reduce expected at least 2 arguments, got 0"
          ]
        }
      ]
    },
    {
      "cell_type": "markdown",
      "source": [
        "# Types of User define Function\n",
        "\n"
      ],
      "metadata": {
        "id": "nQasKPq9quQu"
      }
    },
    {
      "cell_type": "code",
      "source": [
        "'''\n",
        "  Types of User define Function\n",
        "  1. Normal Function OR General Function\n",
        "  2. Lambda Function\n",
        "  3. Recursive function\n",
        "\n",
        "'''"
      ],
      "metadata": {
        "id": "ST6oHPkmqyzu"
      },
      "execution_count": null,
      "outputs": []
    },
    {
      "cell_type": "markdown",
      "source": [
        "#3.Recursive Function"
      ],
      "metadata": {
        "id": "BoRYswSJvtyY"
      }
    },
    {
      "cell_type": "code",
      "source": [
        "'''\n",
        "  The function which call itself is known as recursive function.\n",
        "  It is created by using def keyword.\n",
        "  SYNTAX:\n",
        "          def function_name(parameters):\n",
        "            \n",
        "'''"
      ],
      "metadata": {
        "id": "uHJz25ECvzjP"
      },
      "execution_count": null,
      "outputs": []
    },
    {
      "cell_type": "code",
      "source": [
        "#WAP to pprint hello message using recursive function.\n",
        "\n",
        "def msg(n):\n",
        "  print('Hello Raj',n)\n",
        "  if n>1:\n",
        "    msg(n-1)\n",
        "msg(7)"
      ],
      "metadata": {
        "colab": {
          "base_uri": "https://localhost:8080/"
        },
        "id": "gFy9e3UUzv3q",
        "outputId": "989a0f8a-d8e7-4f0d-fa02-44ffb5b39b37"
      },
      "execution_count": null,
      "outputs": [
        {
          "output_type": "stream",
          "name": "stdout",
          "text": [
            "Hello Raj 7\n",
            "Hello Raj 6\n",
            "Hello Raj 5\n",
            "Hello Raj 4\n",
            "Hello Raj 3\n",
            "Hello Raj 2\n",
            "Hello Raj 1\n"
          ]
        }
      ]
    }
  ]
}